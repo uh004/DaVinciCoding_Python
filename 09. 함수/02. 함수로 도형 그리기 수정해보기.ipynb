{
 "cells": [
  {
   "cell_type": "code",
   "execution_count": 2,
   "id": "4e55e781",
   "metadata": {},
   "outputs": [],
   "source": [
    "# 매개변수가 있는 함수 선언\n",
    "#def 함수명(매개변수1, 매개변수2):\n",
    "#    매개변수를 이용한 함수 동작"
   ]
  },
  {
   "cell_type": "code",
   "execution_count": 3,
   "id": "9b5220f7",
   "metadata": {},
   "outputs": [],
   "source": [
    "def pen_change_move(heading, color, dist):\n",
    "    t.setheading(heading)\n",
    "    t.color(color)\n",
    "    t.penup()\n",
    "    t.forward(dist)\n",
    "    t.pendown()"
   ]
  },
  {
   "cell_type": "code",
   "execution_count": 8,
   "id": "f8abdfcd",
   "metadata": {},
   "outputs": [],
   "source": [
    "import turtle as t\n",
    "\n",
    "# pen_change_move() 함수는 생략 하였습니다. \n",
    "\n",
    "t.speed(0)\n",
    "t.shape('turtle')\n",
    "t.color('red')\n",
    "for _ in range(3):\n",
    "    t.forward(50)\n",
    "    t.left(120)\n",
    "\n",
    "pen_change_move(90, 'blue', 100)\n",
    "\n",
    "for _ in range(4):\n",
    "    t.forward(50)\n",
    "    t.left(90)\n",
    "\n",
    "pen_change_move(0, 'green', 100)\n",
    "\n",
    "for _ in range(5):\n",
    "    t.forward(50)\n",
    "    t.left(72)\n",
    "\n",
    "pen_change_move(270, 'pink', 100)\n",
    "\n",
    "for _ in range(6):\n",
    "    t.forward(50)\n",
    "    t.left(60)\n",
    "\n",
    "t.exitonclick()"
   ]
  },
  {
   "cell_type": "code",
   "execution_count": 9,
   "id": "f573914c",
   "metadata": {},
   "outputs": [],
   "source": [
    "def draw_polygon(n, dist):    \n",
    "    for _ in range(n):\n",
    "        t.forward(dist)\n",
    "        t.left(360//n)"
   ]
  },
  {
   "cell_type": "code",
   "execution_count": 11,
   "id": "d5db1ca5",
   "metadata": {},
   "outputs": [],
   "source": [
    "import turtle as t\n",
    "\n",
    "# pen_change_move() 함수는 생략 하였습니다. \n",
    "# draw_polygon() 함수는 생략 하였습니다. \n",
    "\n",
    "t.speed(0)\n",
    "t.shape('turtle')\n",
    "t.color('red')\n",
    "draw_polygon(3, 50)\n",
    "\n",
    "pen_change_move(90, 'blue', 100)\n",
    "draw_polygon(4, 50)\n",
    "\n",
    "pen_change_move(0, 'green', 100)\n",
    "draw_polygon(5, 50)\n",
    "\n",
    "pen_change_move(270, 'pink', 100)\n",
    "draw_polygon(6, 50)\n",
    "\n",
    "t.exitonclick()"
   ]
  }
 ],
 "metadata": {
  "kernelspec": {
   "display_name": "Python 3 (ipykernel)",
   "language": "python",
   "name": "python3"
  },
  "language_info": {
   "codemirror_mode": {
    "name": "ipython",
    "version": 3
   },
   "file_extension": ".py",
   "mimetype": "text/x-python",
   "name": "python",
   "nbconvert_exporter": "python",
   "pygments_lexer": "ipython3",
   "version": "3.9.13"
  }
 },
 "nbformat": 4,
 "nbformat_minor": 5
}
