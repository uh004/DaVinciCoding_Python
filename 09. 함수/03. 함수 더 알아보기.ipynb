{
 "cells": [
  {
   "cell_type": "code",
   "execution_count": 1,
   "id": "c30b175f",
   "metadata": {},
   "outputs": [],
   "source": [
    "# 반환값이 있는 함수 만들기\n",
    "def get_area(width, height):\n",
    "    area = (width * height) / 2\n",
    "    return area"
   ]
  },
  {
   "cell_type": "code",
   "execution_count": 2,
   "id": "47d77dcd",
   "metadata": {},
   "outputs": [
    {
     "name": "stdout",
     "output_type": "stream",
     "text": [
      "6.0\n"
     ]
    }
   ],
   "source": [
    "tri = get_area(3, 4)\n",
    "print(tri) # 6"
   ]
  },
  {
   "cell_type": "code",
   "execution_count": 3,
   "id": "d7f784cd",
   "metadata": {},
   "outputs": [
    {
     "name": "stdout",
     "output_type": "stream",
     "text": [
      "다빈치님 안녕하세요\n",
      "게스트님 안녕하세요\n"
     ]
    }
   ],
   "source": [
    "# 매개변수의 기본값\n",
    "my_name = \"다빈치\"\n",
    "\n",
    "def say_hello(name='게스트'):\n",
    "    print(f'{name}님 안녕하세요')\n",
    "\n",
    "say_hello(my_name) # 다빈치님 안녕하세요\n",
    "say_hello() # 게스트님 안녕하세요"
   ]
  },
  {
   "cell_type": "code",
   "execution_count": 5,
   "id": "3e54e669",
   "metadata": {},
   "outputs": [],
   "source": [
    "# def say_hello(name='게스트', age): # 오류 발생\n",
    "#     print(f'{age}살이 되신 {name}님 안녕하세요')\n",
    "\n",
    "def say_hello(age, name='게스트'): # 이렇게 만들어야 합니다.\n",
    "    print(f'{age}살이 되신 {name}님 안녕하세요')"
   ]
  },
  {
   "cell_type": "code",
   "execution_count": 6,
   "id": "a896018a",
   "metadata": {},
   "outputs": [
    {
     "name": "stdout",
     "output_type": "stream",
     "text": [
      "식초에 다니는 10살이 되신 게스트님 안녕하세요\n"
     ]
    }
   ],
   "source": [
    "# 매개변수명 지정하기\n",
    "my_name = \"다빈치\"\n",
    "\n",
    "def say_hello(age, name='게스트', school='태양초'): \n",
    "    print(f'{school}에 다니는 {age}살이 되신 {name}님 안녕하세요')\n",
    "\n",
    "say_hello(10, school=\"식초\") # 식초에 다니는 10살이 되신 게스트님 안녕하세요"
   ]
  },
  {
   "cell_type": "code",
   "execution_count": 7,
   "id": "0f2f51f2",
   "metadata": {},
   "outputs": [
    {
     "name": "stdout",
     "output_type": "stream",
     "text": [
      "태양초에 다니는 10살이 되신 식초님 안녕하세요\n"
     ]
    }
   ],
   "source": [
    "say_hello(10, \"식초\") # 태양초에 다니는 10살이 되신 식초님 안녕하세요"
   ]
  },
  {
   "cell_type": "code",
   "execution_count": 9,
   "id": "0372e844",
   "metadata": {},
   "outputs": [
    {
     "name": "stdout",
     "output_type": "stream",
     "text": [
      "15\n"
     ]
    }
   ],
   "source": [
    "# 입력값의 개수를 모를 때\n",
    "def add_all(*nums): # 변수 앞에 별표(*)를 붙여주면 변수안에 들어있는 것을 꺼내는 역할을 합니다.\n",
    "    result = 0\n",
    "    for n in nums:\n",
    "        result += n\n",
    "    return result\n",
    "\n",
    "print(add_all(1, 2, 3, 4, 5)) # 15"
   ]
  },
  {
   "cell_type": "code",
   "execution_count": 10,
   "id": "0d383c51",
   "metadata": {},
   "outputs": [
    {
     "name": "stdout",
     "output_type": "stream",
     "text": [
      "<class 'tuple'>\n"
     ]
    }
   ],
   "source": [
    "def my_func(*ar):\n",
    "    print(type(ar))\n",
    "\n",
    "my_func(1, 2, 3, 4, 5) # <class 'tuple'>"
   ]
  },
  {
   "cell_type": "code",
   "execution_count": 11,
   "id": "24e66aa3",
   "metadata": {},
   "outputs": [
    {
     "name": "stdout",
     "output_type": "stream",
     "text": [
      "<class 'dict'>\n"
     ]
    }
   ],
   "source": [
    "# 키워드가 있는 매개변수\n",
    "def my_func(**kwargs):\n",
    "    print(type(kwargs))\n",
    "\n",
    "my_func(a=1, b=2, c=3) # <class 'dict'>"
   ]
  },
  {
   "cell_type": "code",
   "execution_count": 13,
   "id": "254d76a1",
   "metadata": {},
   "outputs": [
    {
     "name": "stdout",
     "output_type": "stream",
     "text": [
      "apple 의 뜻은 무엇인가요?몰라\n",
      "틀렸습니다.\n",
      "banana 의 뜻은 무엇인가요?바나나\n",
      "맞았습니다.\n",
      "peach 의 뜻은 무엇인가요?복숭아\n",
      "맞았습니다.\n"
     ]
    }
   ],
   "source": [
    "def quiz(**qst):\n",
    "    for k, v in qst.items():\n",
    "        rst = input(f'{k} 의 뜻은 무엇인가요?')\n",
    "        if rst == v:\n",
    "            print('맞았습니다.')\n",
    "        else:\n",
    "            print('틀렸습니다.')\n",
    "\n",
    "quiz(apple='사과', banana='바나나', peach='복숭아')"
   ]
  },
  {
   "cell_type": "code",
   "execution_count": 14,
   "id": "95f9e7ee",
   "metadata": {},
   "outputs": [],
   "source": [
    "# 함수를 변수에 넣기\n",
    "def get_double(num):\n",
    "    return num * 2"
   ]
  },
  {
   "cell_type": "code",
   "execution_count": 15,
   "id": "a0ec69c9",
   "metadata": {},
   "outputs": [
    {
     "name": "stdout",
     "output_type": "stream",
     "text": [
      "a=6\n"
     ]
    }
   ],
   "source": [
    "a = get_double(3)\n",
    "print(f'{a=}') # 6"
   ]
  },
  {
   "cell_type": "code",
   "execution_count": 16,
   "id": "f50913db",
   "metadata": {},
   "outputs": [
    {
     "name": "stdout",
     "output_type": "stream",
     "text": [
      "120\n"
     ]
    }
   ],
   "source": [
    "# 재귀함수\n",
    "def factorial(n): # 팩토리얼 5! = 5*4*3*2*1\n",
    "    if n == 1:\n",
    "        return 1 \n",
    "    return n * factorial(n - 1)\n",
    "\n",
    "print(factorial(5))"
   ]
  },
  {
   "cell_type": "code",
   "execution_count": 17,
   "id": "ecf8964a",
   "metadata": {},
   "outputs": [
    {
     "name": "stdout",
     "output_type": "stream",
     "text": [
      "2 4 6\n"
     ]
    }
   ],
   "source": [
    "# 리턴값은 여러개를 만들 수 있다\n",
    "def get_double(*nums):\n",
    "    my_num = list(nums)\n",
    "    for i in range(len(my_num)):\n",
    "        my_num[i] *= 2\n",
    "    return my_num \n",
    "\n",
    "a, b, c = get_double(1, 2, 3)\n",
    "print(a, b, c) # 2, 4, 6"
   ]
  }
 ],
 "metadata": {
  "kernelspec": {
   "display_name": "Python 3 (ipykernel)",
   "language": "python",
   "name": "python3"
  },
  "language_info": {
   "codemirror_mode": {
    "name": "ipython",
    "version": 3
   },
   "file_extension": ".py",
   "mimetype": "text/x-python",
   "name": "python",
   "nbconvert_exporter": "python",
   "pygments_lexer": "ipython3",
   "version": "3.9.13"
  }
 },
 "nbformat": 4,
 "nbformat_minor": 5
}
