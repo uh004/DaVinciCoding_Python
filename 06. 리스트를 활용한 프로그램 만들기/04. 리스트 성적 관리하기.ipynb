{
 "cells": [
  {
   "cell_type": "code",
   "execution_count": 19,
   "id": "0c5c30de",
   "metadata": {},
   "outputs": [
    {
     "name": "stdout",
     "output_type": "stream",
     "text": [
      "1. 성적 보기\n",
      "2. 최고 점수 보기\n",
      "3. 최저 점수 보기\n",
      "4. 낮은 점수순으로 정렬해서 보기\n",
      "5. 높은 점수순으로 정렬해서 보기\n",
      "6. 점수 뒤집어서 보기\n",
      "무엇을 할까요?6\n",
      "[90, 85, 75, 95, 60]\n"
     ]
    }
   ],
   "source": [
    "# 리스트 성적 관리 프로그램\n",
    "scores = [60, 95, 75, 85, 90]\n",
    "\n",
    "print(\"1. 성적 보기\")\n",
    "print(\"2. 최고 점수 보기\")\n",
    "print(\"3. 최저 점수 보기\")\n",
    "print(\"4. 낮은 점수순으로 정렬해서 보기\")\n",
    "print(\"5. 높은 점수순으로 정렬해서 보기\")\n",
    "print(\"6. 점수 뒤집어서 보기\")\n",
    "\n",
    "comm = int(input(\"무엇을 할까요?\"))\n",
    "if comm == 1:\n",
    "    print(\"점수를 그대로 출력합니다.\")\n",
    "    print(scores)\n",
    "elif comm == 2:\n",
    "    max_score = max(scores)\n",
    "    print(f\"최고 점수는 {max_score} 입니다\")\n",
    "elif comm == 3:\n",
    "    min_score = min(scores)\n",
    "    print(f\"최저 점수는 {min_score} 입니다\")\n",
    "elif comm == 4:\n",
    "    sorted_scores = sorted(scores)\n",
    "    print(sorted_scores)\n",
    "elif comm == 5:\n",
    "    sorted_scores = sorted(scores, reverse=True)\n",
    "    print(sorted_scores)\n",
    "elif comm == 6:\n",
    "    reversed_scores = list(reversed(scores))\n",
    "    print(reversed_scores)"
   ]
  },
  {
   "cell_type": "code",
   "execution_count": 4,
   "id": "059dea6b",
   "metadata": {},
   "outputs": [
    {
     "name": "stdout",
     "output_type": "stream",
     "text": [
      "95\n"
     ]
    }
   ],
   "source": [
    "# 최댓값 구하기\n",
    "score = [70, 85, 65, 95, 90]\n",
    "print(max(score)) # 95"
   ]
  },
  {
   "cell_type": "code",
   "execution_count": 5,
   "id": "6da936e5",
   "metadata": {},
   "outputs": [
    {
     "name": "stdout",
     "output_type": "stream",
     "text": [
      "65\n"
     ]
    }
   ],
   "source": [
    "# 최솟값 구하기\n",
    "score = [70, 85, 65, 95, 90]\n",
    "print(min(score)) # 65"
   ]
  },
  {
   "cell_type": "code",
   "execution_count": 12,
   "id": "33b48460",
   "metadata": {},
   "outputs": [
    {
     "name": "stdout",
     "output_type": "stream",
     "text": [
      "[60, 75, 85, 90, 95]\n"
     ]
    }
   ],
   "source": [
    "# 정렬하기\n",
    "scores = [60, 95, 75, 85, 90]\n",
    "scores.sort()\n",
    "\n",
    "print(scores) # [60, 75, 85, 90, 95]"
   ]
  },
  {
   "cell_type": "code",
   "execution_count": 13,
   "id": "b8b8a1f2",
   "metadata": {},
   "outputs": [
    {
     "name": "stdout",
     "output_type": "stream",
     "text": [
      "[95, 90, 85, 75, 60]\n"
     ]
    }
   ],
   "source": [
    "# 내림차순\n",
    "scores = [60, 95, 75, 85, 90]\n",
    "scores.sort(reverse=True)\n",
    "\n",
    "print(scores) # [95, 90, 85, 75, 60]"
   ]
  },
  {
   "cell_type": "code",
   "execution_count": 14,
   "id": "a9066886",
   "metadata": {},
   "outputs": [
    {
     "name": "stdout",
     "output_type": "stream",
     "text": [
      "[60, 95, 75, 85, 90]\n",
      "[60, 75, 85, 90, 95]\n"
     ]
    }
   ],
   "source": [
    "scores = [60, 95, 75, 85, 90]\n",
    "sorted_scores = sorted(scores)\n",
    "\n",
    "print(scores)        # [60, 95, 75, 85, 90]\n",
    "print(sorted_scores) # [60, 75, 85, 90, 95]"
   ]
  },
  {
   "cell_type": "code",
   "execution_count": 15,
   "id": "fd3cd801",
   "metadata": {},
   "outputs": [
    {
     "name": "stdout",
     "output_type": "stream",
     "text": [
      "[60, 95, 75, 85, 90]\n",
      "[95, 90, 85, 75, 60]\n"
     ]
    }
   ],
   "source": [
    "scores = [60, 95, 75, 85, 90]\n",
    "sorted_scores = sorted(scores, reverse=True)\n",
    "\n",
    "print(scores)        # [60, 95, 75, 85, 90]\n",
    "print(sorted_scores) # [95, 90, 85, 75, 60]"
   ]
  },
  {
   "cell_type": "code",
   "execution_count": 18,
   "id": "e4ffb444",
   "metadata": {},
   "outputs": [
    {
     "name": "stdout",
     "output_type": "stream",
     "text": [
      "[90, 85, 75, 95, 60]\n"
     ]
    }
   ],
   "source": [
    "# 리스트 뒤집기\n",
    "scores = [60, 95, 75, 85, 90]\n",
    "\n",
    "print(scores[::-1]) # [90, 85, 75, 95, 60]"
   ]
  }
 ],
 "metadata": {
  "kernelspec": {
   "display_name": "Python 3 (ipykernel)",
   "language": "python",
   "name": "python3"
  },
  "language_info": {
   "codemirror_mode": {
    "name": "ipython",
    "version": 3
   },
   "file_extension": ".py",
   "mimetype": "text/x-python",
   "name": "python",
   "nbconvert_exporter": "python",
   "pygments_lexer": "ipython3",
   "version": "3.9.13"
  }
 },
 "nbformat": 4,
 "nbformat_minor": 5
}
