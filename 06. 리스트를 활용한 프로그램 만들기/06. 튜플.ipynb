{
 "cells": [
  {
   "cell_type": "code",
   "execution_count": 1,
   "id": "b9733e90",
   "metadata": {},
   "outputs": [
    {
     "name": "stdout",
     "output_type": "stream",
     "text": [
      "<class 'tuple'> (1, 2, 3)\n",
      "<class 'tuple'> (4, 5, 6)\n",
      "<class 'tuple'> ()\n",
      "<class 'tuple'> ()\n"
     ]
    }
   ],
   "source": [
    "# 튜플 만들기 리스트는 대괄호를 사용했다면 튜플은 소괄호()로 생성합니다. 괄호가 없어도 튜플로 인식합니다.\n",
    "tu1 = (1, 2, 3)\n",
    "tu2 = 4, 5, 6\n",
    "tu3 = ()\n",
    "tu4 = tuple()\n",
    "print(type(tu1), tu1) # <class 'tuple'> (1, 2, 3)\n",
    "print(type(tu2), tu2) # <class 'tuple'> (4, 5, 6)\n",
    "print(type(tu3), tu3) # <class 'tuple'> ()\n",
    "print(type(tu4), tu4) # <class 'tuple'> ()"
   ]
  },
  {
   "cell_type": "code",
   "execution_count": 2,
   "id": "7807ff25",
   "metadata": {},
   "outputs": [
    {
     "name": "stdout",
     "output_type": "stream",
     "text": [
      "<class 'int'> 1\n",
      "<class 'tuple'> (2,)\n",
      "<class 'int'> 3\n",
      "<class 'tuple'> (4,)\n"
     ]
    }
   ],
   "source": [
    "# 튜플을 만들 때 기억해야 하는 부분은 한 개의 튜플을 만들 때는 콤마로 구분해 주어야 합니다.\n",
    "tu1 = (1)\n",
    "tu2 = (2, )\n",
    "tu3 = 3\n",
    "tu4 = 4, \n",
    "print(type(tu1), tu1) # <class 'int'> 1\n",
    "print(type(tu2), tu2) # <class 'tuple'> (2,)\n",
    "print(type(tu3), tu3) # <class 'int'> 3\n",
    "print(type(tu4), tu4) # <class 'tuple'> (4,)"
   ]
  },
  {
   "cell_type": "code",
   "execution_count": 3,
   "id": "85e81d56",
   "metadata": {},
   "outputs": [
    {
     "name": "stdout",
     "output_type": "stream",
     "text": [
      "장난감\n",
      "운동화\n",
      "('장난감', '운동화')\n",
      "장난감 운동화\n"
     ]
    }
   ],
   "source": [
    "gift = '장난감', '운동화'\n",
    "g1, g2 = gift # unpacking을 통해 gift를 풀어 각 변수에 대입\n",
    "print(g1) # 장난감\n",
    "print(g2) # 운동화\n",
    "print(gift) # ('장난감', '운동화')\n",
    "# 리스트나 튜플 앞에 *을 입력하면 unpacking 됩니다.\n",
    "print(*gift) # '장난감', '운동화'"
   ]
  },
  {
   "cell_type": "code",
   "execution_count": 5,
   "id": "34797571",
   "metadata": {},
   "outputs": [
    {
     "ename": "ValueError",
     "evalue": "too many values to unpack (expected 2)",
     "output_type": "error",
     "traceback": [
      "\u001b[1;31m---------------------------------------------------------------------------\u001b[0m",
      "\u001b[1;31mValueError\u001b[0m                                Traceback (most recent call last)",
      "\u001b[1;32m~\\AppData\\Local\\Temp\\ipykernel_21808\\3026705886.py\u001b[0m in \u001b[0;36m<module>\u001b[1;34m\u001b[0m\n\u001b[1;32m----> 1\u001b[1;33m \u001b[0mtoy\u001b[0m\u001b[1;33m,\u001b[0m \u001b[0mgift\u001b[0m \u001b[1;33m=\u001b[0m \u001b[1;34m'장난감'\u001b[0m\u001b[1;33m,\u001b[0m \u001b[1;34m'운동화'\u001b[0m\u001b[1;33m,\u001b[0m \u001b[1;34m'게임기'\u001b[0m\u001b[1;33m\u001b[0m\u001b[1;33m\u001b[0m\u001b[0m\n\u001b[0m\u001b[0;32m      2\u001b[0m \u001b[0mprint\u001b[0m\u001b[1;33m(\u001b[0m\u001b[0mtoy\u001b[0m\u001b[1;33m)\u001b[0m \u001b[1;31m# 장난감\u001b[0m\u001b[1;33m\u001b[0m\u001b[1;33m\u001b[0m\u001b[0m\n\u001b[0;32m      3\u001b[0m \u001b[0mprint\u001b[0m\u001b[1;33m(\u001b[0m\u001b[0mgift\u001b[0m\u001b[1;33m)\u001b[0m \u001b[1;31m# 운동화 게임기\u001b[0m\u001b[1;33m\u001b[0m\u001b[1;33m\u001b[0m\u001b[0m\n",
      "\u001b[1;31mValueError\u001b[0m: too many values to unpack (expected 2)"
     ]
    }
   ],
   "source": [
    "toy, gift = '장난감', '운동화', '게임기'\n",
    "print(toy) # 장난감\n",
    "print(gift) # 운동화 게임기"
   ]
  },
  {
   "cell_type": "code",
   "execution_count": 4,
   "id": "91d8e180",
   "metadata": {},
   "outputs": [
    {
     "name": "stdout",
     "output_type": "stream",
     "text": [
      "장난감\n",
      "운동화 게임기\n"
     ]
    }
   ],
   "source": [
    "toy, *gift = '장난감', '운동화', '게임기'\n",
    "print(toy) # 장난감\n",
    "print(*gift) # 운동화 게임기"
   ]
  },
  {
   "cell_type": "code",
   "execution_count": 8,
   "id": "17f9a70a",
   "metadata": {},
   "outputs": [
    {
     "name": "stdout",
     "output_type": "stream",
     "text": [
      "10 20\n",
      "20 10\n"
     ]
    }
   ],
   "source": [
    "# 두 값 바꾸기 파이썬만 가능\n",
    "a = 10\n",
    "b = 20\n",
    "print(a, b) # 10 20\n",
    "a, b = b, a\n",
    "print(a, b) # 20 10"
   ]
  },
  {
   "cell_type": "code",
   "execution_count": 9,
   "id": "abd216c6",
   "metadata": {},
   "outputs": [],
   "source": [
    "# 다른 언어는 다른 변수를 지정해서 만듬\n",
    "a = 10\n",
    "b = 20\n",
    "\n",
    "temp = a\n",
    "a = b\n",
    "b = temp"
   ]
  },
  {
   "cell_type": "code",
   "execution_count": 10,
   "id": "21d7043b",
   "metadata": {},
   "outputs": [
    {
     "name": "stdout",
     "output_type": "stream",
     "text": [
      "<class 'tuple'>\n",
      "100 20 0\n"
     ]
    }
   ],
   "source": [
    "# 반환 값 여러 개 만들기\n",
    "def get_data():\n",
    "    a = 10 * 10\n",
    "    b = 10 + 10\n",
    "    c = 10 - 10\n",
    "    return a, b, c\n",
    "\n",
    "d, e, f = get_data() # 리턴값은 튜플 한 개이다\n",
    "print(type(get_data())) # <class 'tuple'>\n",
    "print(d, e, f) # 100 20 0"
   ]
  }
 ],
 "metadata": {
  "kernelspec": {
   "display_name": "Python 3 (ipykernel)",
   "language": "python",
   "name": "python3"
  },
  "language_info": {
   "codemirror_mode": {
    "name": "ipython",
    "version": 3
   },
   "file_extension": ".py",
   "mimetype": "text/x-python",
   "name": "python",
   "nbconvert_exporter": "python",
   "pygments_lexer": "ipython3",
   "version": "3.9.13"
  }
 },
 "nbformat": 4,
 "nbformat_minor": 5
}
