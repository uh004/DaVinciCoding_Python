{
 "cells": [
  {
   "cell_type": "markdown",
   "id": "9fd0213b",
   "metadata": {},
   "source": [
    "# 리스트(list)\n",
    "- 리스트는 말 그대로 목록이라는 뜻입니다. 변수들이 여러개가 있을 때 변수들로 리스트로 만들어 사용할 수 있습니다.\n",
    "- 리스트를 만드는 두가지 방법은 list() 함수안에 리스트를 넣던가 [] 처럼 대괄호를 사용하여 리스트를 만들어 줍니다."
   ]
  },
  {
   "cell_type": "code",
   "execution_count": 1,
   "id": "81d38b7f",
   "metadata": {},
   "outputs": [
    {
     "name": "stdout",
     "output_type": "stream",
     "text": [
      "<class 'list'>\n",
      "<class 'list'>\n"
     ]
    }
   ],
   "source": [
    "a = []\n",
    "b = list()\n",
    "\n",
    "print(type(a)) # <class 'list'>\n",
    "print(type(b)) # <class 'list'>"
   ]
  },
  {
   "cell_type": "code",
   "execution_count": 3,
   "id": "5417c2d6",
   "metadata": {},
   "outputs": [
    {
     "name": "stdout",
     "output_type": "stream",
     "text": [
      "6\n"
     ]
    }
   ],
   "source": [
    "a = [3, 7, 2, 6, 9] # 인덱스는 0부터\n",
    "print(a[3])"
   ]
  },
  {
   "cell_type": "code",
   "execution_count": 4,
   "id": "4df667f8",
   "metadata": {},
   "outputs": [],
   "source": [
    "gift = ['장난감', '케이크', '동화책', '운동화', '가방']"
   ]
  },
  {
   "cell_type": "code",
   "execution_count": 5,
   "id": "1a1bb2d3",
   "metadata": {},
   "outputs": [
    {
     "name": "stdout",
     "output_type": "stream",
     "text": [
      "첫 번째 선물 = 장난감\n",
      "세 번째 선물 = 동화책\n"
     ]
    }
   ],
   "source": [
    "print(\"첫 번째 선물 =\", gift[0])\n",
    "print(\"세 번째 선물 =\", gift[2])"
   ]
  },
  {
   "cell_type": "code",
   "execution_count": 6,
   "id": "c855cf81",
   "metadata": {},
   "outputs": [
    {
     "name": "stdout",
     "output_type": "stream",
     "text": [
      "장난감\n",
      "케이크\n",
      "동화책\n",
      "운동화\n",
      "가방\n"
     ]
    }
   ],
   "source": [
    "gifts = ['장난감', '케이크', '동화책', '운동화', '가방']\n",
    "\n",
    "for gift in gifts: # 파이썬 추천 방식\n",
    "    print(gift)"
   ]
  },
  {
   "cell_type": "code",
   "execution_count": 7,
   "id": "144b2098",
   "metadata": {},
   "outputs": [
    {
     "name": "stdout",
     "output_type": "stream",
     "text": [
      "1 번째 선물 = 장난감\n",
      "2 번째 선물 = 케이크\n",
      "3 번째 선물 = 동화책\n",
      "4 번째 선물 = 운동화\n",
      "5 번째 선물 = 가방\n"
     ]
    }
   ],
   "source": [
    "for i in range(len(gifts)): # C언어 자바 많이 사용방식\n",
    "    print(f\"{i+1} 번째 선물 = {gifts[i]}\")"
   ]
  },
  {
   "cell_type": "markdown",
   "id": "b01e49a9",
   "metadata": {},
   "source": [
    "- 파이썬에서는 인덱스도 필요하고, 리스트의 요소도 필요한 경우 enumerate 라는 함수를 사용합니다."
   ]
  },
  {
   "cell_type": "code",
   "execution_count": 8,
   "id": "7865424b",
   "metadata": {},
   "outputs": [
    {
     "name": "stdout",
     "output_type": "stream",
     "text": [
      "1 번째 선물 = 장난감\n",
      "2 번째 선물 = 케이크\n",
      "3 번째 선물 = 동화책\n",
      "4 번째 선물 = 운동화\n",
      "5 번째 선물 = 가방\n"
     ]
    }
   ],
   "source": [
    "for i, gift in enumerate(gifts): # enumerate : 열거하다, 인덱스와 데이터 둘 다 필요할 때 인덱스와 데이터를 튜플 형태로 리턴\n",
    "    print(f\"{i+1} 번째 선물 = {gift}\")"
   ]
  },
  {
   "cell_type": "markdown",
   "id": "9b43737c",
   "metadata": {},
   "source": [
    "# 리스트의 슬라이싱1 - 범위 지정하기\n",
    "- 리스트에서 하나만 접근할 수도 있지만 여러개를 동시에 가져올 수도 있습니다. 이것을 슬라이싱 이라고 합니다."
   ]
  },
  {
   "cell_type": "code",
   "execution_count": 9,
   "id": "105914cb",
   "metadata": {},
   "outputs": [
    {
     "name": "stdout",
     "output_type": "stream",
     "text": [
      "두 번째 선물부터 네 번째 선물 = ['케이크', '동화책', '운동화']\n"
     ]
    }
   ],
   "source": [
    "gifts = ['장난감', '케이크', '동화책', '운동화', '가방']\n",
    "print(\"두 번째 선물부터 네 번째 선물 =\",gifts[1:4])\n",
    "# 두 번째 선물부터 네 번째 선물 = ['케이크', '동화책', '운동화']"
   ]
  },
  {
   "cell_type": "markdown",
   "id": "e666161d",
   "metadata": {},
   "source": [
    "# 리스트의 슬라이싱2 - 증감값 지정하기\n",
    "- 리스트의 슬라이싱은 range()함수처럼 증감값을 가질 수 있습니다. 증감값은 세번째에 위치하며 생략 가능합니다. 생략시 1인것도 range 함수와 같습니다."
   ]
  },
  {
   "cell_type": "code",
   "execution_count": 10,
   "id": "7d554d7c",
   "metadata": {},
   "outputs": [
    {
     "name": "stdout",
     "output_type": "stream",
     "text": [
      "[10, 9, 8, 7, 6, 5, 4, 3, 2, 1]\n"
     ]
    }
   ],
   "source": [
    "arr = [1, 2, 3, 4, 5, 6, 7, 8, 9, 10]\n",
    "print(arr[::-1]) # [10, 9, 8, 7, 6, 5, 4, 3, 2, 1]\n",
    "# 전체를 끝에서부터 1씩 줄어들기 때문에 리스트를 뒤집어서 보여줍니다."
   ]
  },
  {
   "cell_type": "markdown",
   "id": "d736eb9a",
   "metadata": {},
   "source": [
    "# 문자열의 슬라이싱\n",
    "슬라이싱은 리스트 뿐만 아니라 문자열에서도 똑같이 사용 가능합니다.\n",
    "‘ABCDEFGH’ 라는 문자열의 1번 인덱스인 B부터 슬라이싱을 시작합니다. 종료 값은 입력하지 않았기 때문에 마지막까지 선택됩니다. 마지막으로 증감값을 2로 하였기 때문에 2칸씩 건너뛰어 BDFH가 되는 것입니다."
   ]
  },
  {
   "cell_type": "markdown",
   "id": "12095747",
   "metadata": {},
   "source": [
    "# 선물 리스트 프로그램 만들기\n",
    "1. 1 입력시 선물의 총 갯수를 확인한다\n",
    "2. 2 입력시 선물의 전체 리스트를 확인한다\n",
    "3. 3 입력시 보고싶은 순서의 선물을 확인한다\n",
    "4. 리스트의 인덱스를 입력하면 해당 선물을 보여준다\n",
    "5. 4 입력시 선물의 부분 리스트를 확인한다\n",
    "6. 리스트의 시작과 끝을 입력하면 주어진 범위의 선물을 보여준다\n",
    "7. 0을 입력하면 끝낸다"
   ]
  },
  {
   "cell_type": "code",
   "execution_count": 11,
   "id": "4c602061",
   "metadata": {},
   "outputs": [
    {
     "name": "stdout",
     "output_type": "stream",
     "text": [
      "********************\n",
      "레오의 선물 리스트!!\n",
      "무엇을 할까요?\n",
      "1. 선물 갯수 보기\n",
      "2. 선물 전체 보기\n",
      "3. 정해진 순서의 선물 보기\n",
      "4. 정해진 범위의 선물 보기\n",
      "0. 끝내기\n",
      "1\n",
      "5\n",
      "********************\n",
      "레오의 선물 리스트!!\n",
      "무엇을 할까요?\n",
      "1. 선물 갯수 보기\n",
      "2. 선물 전체 보기\n",
      "3. 정해진 순서의 선물 보기\n",
      "4. 정해진 범위의 선물 보기\n",
      "0. 끝내기\n",
      "2\n",
      "['장난감', '케이크', '동화책', '운동화', '가방']\n",
      "********************\n",
      "레오의 선물 리스트!!\n",
      "무엇을 할까요?\n",
      "1. 선물 갯수 보기\n",
      "2. 선물 전체 보기\n",
      "3. 정해진 순서의 선물 보기\n",
      "4. 정해진 범위의 선물 보기\n",
      "0. 끝내기\n",
      "3\n",
      "몇 번째 선물을 볼까요?2\n",
      "케이크\n",
      "********************\n",
      "레오의 선물 리스트!!\n",
      "무엇을 할까요?\n",
      "1. 선물 갯수 보기\n",
      "2. 선물 전체 보기\n",
      "3. 정해진 순서의 선물 보기\n",
      "4. 정해진 범위의 선물 보기\n",
      "0. 끝내기\n",
      "4\n",
      "몇 번째 선물부터 확인할까요?1\n",
      "몇 번째 선물까지 볼까요?4\n",
      "['장난감', '케이크', '동화책', '운동화']\n",
      "********************\n",
      "레오의 선물 리스트!!\n",
      "무엇을 할까요?\n",
      "1. 선물 갯수 보기\n",
      "2. 선물 전체 보기\n",
      "3. 정해진 순서의 선물 보기\n",
      "4. 정해진 범위의 선물 보기\n",
      "0. 끝내기\n",
      "0\n"
     ]
    }
   ],
   "source": [
    "gift = ['장난감', '케이크', '동화책', '운동화', '가방']\n",
    "\n",
    "def print_menu():\n",
    "    print(\"*\" * 20)\n",
    "    print(\"레오의 선물 리스트!!\")\n",
    "    print(\"무엇을 할까요?\")\n",
    "    print(\"1. 선물 갯수 보기\")\n",
    "    print(\"2. 선물 전체 보기\")\n",
    "    print(\"3. 정해진 순서의 선물 보기\")\n",
    "    print(\"4. 정해진 범위의 선물 보기\")\n",
    "    print(\"0. 끝내기\")\n",
    "\n",
    "num = 1 # 초기값을 0이 아닌 것으로 하여 while문을 실행한다\n",
    "while num != 0: # 0의 입력이 들어오면 끝낸다\n",
    "    print_menu()\n",
    "    num = int(input())\n",
    "    if num == 1:\n",
    "        print(len(gift))\n",
    "    elif num == 2:\n",
    "        print(gift)\n",
    "    elif num == 3:\n",
    "        # 인덱스의 시작은 0부터 시작하니까 -1을 해줘야 합니다.\n",
    "        idx = int(input(\"몇 번째 선물을 볼까요?\")) - 1\n",
    "        print(gift[idx])\n",
    "    elif num == 4:\n",
    "        # 슬라이스 시작은 0부터 시작하니까 -1을 해줘야 합니다.\n",
    "        slice_start = int(input(\"몇 번째 선물부터 확인할까요?\")) - 1 \n",
    "        # 슬라이스 마지막은 포함하지 않기 때문에 -1 하지 않습니다.\n",
    "        slice_end = int(input(\"몇 번째 선물까지 볼까요?\")) \n",
    "        print(gift[slice_start : slice_end])"
   ]
  }
 ],
 "metadata": {
  "kernelspec": {
   "display_name": "Python 3 (ipykernel)",
   "language": "python",
   "name": "python3"
  },
  "language_info": {
   "codemirror_mode": {
    "name": "ipython",
    "version": 3
   },
   "file_extension": ".py",
   "mimetype": "text/x-python",
   "name": "python",
   "nbconvert_exporter": "python",
   "pygments_lexer": "ipython3",
   "version": "3.9.13"
  }
 },
 "nbformat": 4,
 "nbformat_minor": 5
}
