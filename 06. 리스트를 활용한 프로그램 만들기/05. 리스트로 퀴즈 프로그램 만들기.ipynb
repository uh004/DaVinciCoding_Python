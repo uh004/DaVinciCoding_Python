{
 "cells": [
  {
   "cell_type": "code",
   "execution_count": 2,
   "id": "1f691ca0",
   "metadata": {},
   "outputs": [
    {
     "name": "stdout",
     "output_type": "stream",
     "text": [
      "3 * 6 = ? 18\n",
      "맞았습니다.\n"
     ]
    }
   ],
   "source": [
    "# 리스트 없는 퀴즈 프로그램\n",
    "result = int(input('3 * 6 = ? '))\n",
    "if result == 3 * 6:\n",
    "    result += 20\n",
    "    print(\"맞았습니다.\")\n",
    "else:\n",
    "    print(\"틀렸습니다.\")"
   ]
  },
  {
   "cell_type": "code",
   "execution_count": 5,
   "id": "701bc165",
   "metadata": {},
   "outputs": [
    {
     "name": "stdout",
     "output_type": "stream",
     "text": [
      "3 * 6 = ? 58\n",
      "틀렸습니다.\n",
      "7 * 8 = ? 5\n",
      "틀렸습니다.\n",
      "최종 점수는 0 점입니다.\n"
     ]
    }
   ],
   "source": [
    "# 변수를 리스트로 변경하기\n",
    "a = [3, 7, 2, 6, 9]\n",
    "b = [6, 8, 9, 4, 3]\n",
    "\n",
    "score = 0\n",
    "\n",
    "result = int(input(f'{a[0]} * {b[0]} = ? '))\n",
    "if result == a[0] * b[0]:\n",
    "    score += 20\n",
    "    print(\"맞았습니다.\")\n",
    "else:\n",
    "    print(\"틀렸습니다.\")\n",
    "\n",
    "result = int(input(f'{a[1]} * {b[1]} = ? '))\n",
    "if result == a[1] * b[1]:\n",
    "    score += 20\n",
    "    print(\"맞았습니다.\")\n",
    "else:\n",
    "    print(\"틀렸습니다.\")\n",
    "\n",
    "# 위 6줄을 5번 항목까지 반복합니다.\n",
    "\n",
    "print(\"최종 점수는\", score, \"점입니다.\")"
   ]
  },
  {
   "cell_type": "code",
   "execution_count": 6,
   "id": "57e19592",
   "metadata": {},
   "outputs": [
    {
     "name": "stdout",
     "output_type": "stream",
     "text": [
      "3 * 6 = ? 18\n",
      "맞았습니다.\n",
      "7 * 8 = ? 56\n",
      "맞았습니다.\n",
      "2 * 9 = ? 18\n",
      "맞았습니다.\n",
      "6 * 4 = ? 24\n",
      "맞았습니다.\n",
      "9 * 3 = ? 27\n",
      "맞았습니다.\n",
      "최종 점수는 100 점입니다.\n"
     ]
    }
   ],
   "source": [
    "# 인덱스로 리스트의 데이터 읽기\n",
    "a = [3, 7, 2, 6, 9]\n",
    "b = [6, 8, 9, 4, 3]\n",
    "\n",
    "score = 0\n",
    "\n",
    "for i in range(5):\n",
    "    result = int(input(f'{a[i]} * {b[i]} = ? '))\n",
    "    if result == a[i] * b[i]:\n",
    "        score += 20\n",
    "        print(\"맞았습니다.\")\n",
    "    else:\n",
    "        print(\"틀렸습니다.\")\n",
    "\n",
    "print(\"최종 점수는\", score, \"점입니다.\")"
   ]
  },
  {
   "cell_type": "code",
   "execution_count": 7,
   "id": "7971b5db",
   "metadata": {},
   "outputs": [
    {
     "name": "stdout",
     "output_type": "stream",
     "text": [
      "3 * 6 = ? 18\n",
      "맞았습니다.\n",
      "7 * 8 = ? 56\n",
      "맞았습니다.\n",
      "2 * 9 = ? 18\n",
      "맞았습니다.\n",
      "6 * 4 = ? 24\n",
      "맞았습니다.\n",
      "9 * 3 = ? 27\n",
      "맞았습니다.\n",
      "최종 점수는 100 점입니다.\n"
     ]
    }
   ],
   "source": [
    "# 리스트 데이터 읽기 2\n",
    "arr = [[3, 6], [7, 8], [2, 9], [6, 4], [9, 3]]\n",
    "\n",
    "score = 0\n",
    "for a, b in arr:\n",
    "    result = int(input(f'{a} * {b} = ? '))\n",
    "    if result == a * b:\n",
    "        score += 20\n",
    "        print(\"맞았습니다.\")\n",
    "    else:\n",
    "        print(\"틀렸습니다.\")\n",
    "\n",
    "print(\"최종 점수는\", score, \"점입니다.\")"
   ]
  },
  {
   "cell_type": "code",
   "execution_count": 8,
   "id": "0c7191d0",
   "metadata": {},
   "outputs": [
    {
     "name": "stdout",
     "output_type": "stream",
     "text": [
      "apple 은(는) 무슨 뜻일까요?사과\n",
      "맞았습니다.\n",
      "물 은(는) 무슨 뜻일까요?water\n",
      "맞았습니다.\n",
      "rose 은(는) 무슨 뜻일까요?장미\n",
      "맞았습니다.\n",
      "자동차 은(는) 무슨 뜻일까요?car\n",
      "맞았습니다.\n",
      "five 은(는) 무슨 뜻일까요?5\n",
      "맞았습니다.\n",
      "최종 점수는 100 점입니다.\n"
     ]
    }
   ],
   "source": [
    "# 단어 맞추기 퀴즈 프로그램\n",
    "question = ['apple', '물', 'rose', '자동차', 'five']\n",
    "answer = ['사과', 'water', '장미', 'car', '5']\n",
    "\n",
    "score = 0\n",
    "\n",
    "for i in range(5):\n",
    "    result = input(f'{question[i]} 은(는) 무슨 뜻일까요?')\n",
    "    if result == answer[i]:\n",
    "        score += 20\n",
    "        print(\"맞았습니다.\")\n",
    "    else:\n",
    "        print(\"틀렸습니다.\")\n",
    "\n",
    "print(\"최종 점수는\", score, \"점입니다.\")"
   ]
  }
 ],
 "metadata": {
  "kernelspec": {
   "display_name": "Python 3 (ipykernel)",
   "language": "python",
   "name": "python3"
  },
  "language_info": {
   "codemirror_mode": {
    "name": "ipython",
    "version": 3
   },
   "file_extension": ".py",
   "mimetype": "text/x-python",
   "name": "python",
   "nbconvert_exporter": "python",
   "pygments_lexer": "ipython3",
   "version": "3.9.13"
  }
 },
 "nbformat": 4,
 "nbformat_minor": 5
}
