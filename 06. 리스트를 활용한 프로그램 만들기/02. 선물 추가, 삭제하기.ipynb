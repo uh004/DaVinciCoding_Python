{
 "cells": [
  {
   "cell_type": "markdown",
   "id": "19be169d",
   "metadata": {},
   "source": [
    "# 리스트 추가하기\n",
    "- 리스트를 생성한 뒤 목록을 추가하기 위해서는 append()명령어를 사용합니다. append() 사용 시 기존의 리스트의 마지막에 새로운 항목이 추가 됩니다."
   ]
  },
  {
   "cell_type": "code",
   "execution_count": 1,
   "id": "1d9212fc",
   "metadata": {},
   "outputs": [],
   "source": [
    "gift = ['장난감', '케이크', '동화책', '운동화', '가방']"
   ]
  },
  {
   "cell_type": "code",
   "execution_count": 2,
   "id": "2420e7bf",
   "metadata": {},
   "outputs": [
    {
     "name": "stdout",
     "output_type": "stream",
     "text": [
      "['장난감', '케이크', '동화책', '운동화', '가방', '게임기']\n"
     ]
    }
   ],
   "source": [
    "gift.append('게임기') # 리스트에 '게임기'를 추가합니다.\n",
    "print(gift) # ['장난감', '케이크', '동화책', '운동화', '가방', '게임기']"
   ]
  },
  {
   "cell_type": "code",
   "execution_count": 3,
   "id": "4fe75591",
   "metadata": {},
   "outputs": [
    {
     "name": "stdout",
     "output_type": "stream",
     "text": [
      "['장난감', '색연필', '케이크', '동화책', '운동화', '가방', '게임기']\n"
     ]
    }
   ],
   "source": [
    "# 마지막이 아니라 원하는 부분에 추가하려면 insert() 명령어 사용\n",
    "gift.insert(1, '색연필')\n",
    "print(gift)\n",
    "# ['장난감', '색연필', '케이크', '동화책', '운동화', '가방', '게임기']"
   ]
  },
  {
   "cell_type": "markdown",
   "id": "bc1d59df",
   "metadata": {},
   "source": [
    "# 리스트 수정\n",
    "리스트의 값을 수정해 보겠습니다. 변수와 마찬가지로 인덱싱한 항목의 값을 마음대로 바꿀 수 있습니다."
   ]
  },
  {
   "cell_type": "code",
   "execution_count": 4,
   "id": "c6f2d88b",
   "metadata": {},
   "outputs": [
    {
     "name": "stdout",
     "output_type": "stream",
     "text": [
      "['장난감', '색연필', '동화책', '운동화', '가방']\n"
     ]
    }
   ],
   "source": [
    "gift = ['장난감', '케이크', '동화책', '운동화', '가방']\n",
    "gift[1] = '색연필'\n",
    "print(gift) # 케이크가 색연필로 변경됩니다."
   ]
  },
  {
   "cell_type": "markdown",
   "id": "90f08d87",
   "metadata": {},
   "source": [
    "# 리스트 삭제\n",
    "이번에는 리스트의 삭제를 해보겠습니다. 삭제는 리스트 항목의 인덱스로 삭제하는 방법과 리스트 항목 값으로 삭제하는 방법이 있습니다."
   ]
  },
  {
   "cell_type": "code",
   "execution_count": 6,
   "id": "4608e56e",
   "metadata": {},
   "outputs": [
    {
     "name": "stdout",
     "output_type": "stream",
     "text": [
      "['장난감', '동화책', '운동화', '가방']\n"
     ]
    }
   ],
   "source": [
    "gift = ['장난감', '케이크', '동화책', '운동화', '가방']\n",
    "del gift[1] # 인덱스 1에 해당하는 케이크 삭제\n",
    "print(gift)"
   ]
  },
  {
   "cell_type": "code",
   "execution_count": 7,
   "id": "d548cd0f",
   "metadata": {},
   "outputs": [
    {
     "name": "stdout",
     "output_type": "stream",
     "text": [
      "['장난감', '가방']\n"
     ]
    }
   ],
   "source": [
    "gift = ['장난감', '케이크', '동화책', '운동화', '가방']\n",
    "del gift[1:4] # 인덱스 1인 케이크부터 인덱스 3인 운동화까지 삭제\n",
    "print(gift) # '[장난감', '가방']"
   ]
  },
  {
   "cell_type": "code",
   "execution_count": 8,
   "id": "ebb5ed8a",
   "metadata": {},
   "outputs": [
    {
     "name": "stdout",
     "output_type": "stream",
     "text": [
      "['장난감', '케이크', '운동화', '가방']\n"
     ]
    }
   ],
   "source": [
    "gift = ['장난감', '케이크', '동화책', '운동화', '가방']\n",
    "gift.remove('동화책') # 동화책을 삭제\n",
    "print(gift) # ['장난감', '케이크', '운동화', '가방']"
   ]
  },
  {
   "cell_type": "markdown",
   "id": "41857a33",
   "metadata": {},
   "source": [
    "# 지금까지 공부한 리스트의 추가, 삭제, 변경을 통해 직접 레오의 선물 리스트를 만들어 보겠습니다."
   ]
  },
  {
   "cell_type": "code",
   "execution_count": 9,
   "id": "ac9963c6",
   "metadata": {},
   "outputs": [
    {
     "name": "stdout",
     "output_type": "stream",
     "text": [
      "********************\n",
      "레오의 선물 리스트!!\n",
      "무엇을 할까요?\n",
      "1. 선물 추가하기\n",
      "2. 인덱스로 선물 삭제\n",
      "3. 선물 명으로 선물 삭제\n",
      "4. 인덱스로 선물 변경\n",
      "0. 끝내기\n",
      "1\n",
      "추가할 선물을 입력하세요.대지\n",
      "['대지']\n",
      "********************\n",
      "레오의 선물 리스트!!\n",
      "무엇을 할까요?\n",
      "1. 선물 추가하기\n",
      "2. 인덱스로 선물 삭제\n",
      "3. 선물 명으로 선물 삭제\n",
      "4. 인덱스로 선물 변경\n",
      "0. 끝내기\n",
      "0\n",
      "['대지']\n"
     ]
    }
   ],
   "source": [
    "gift = []\n",
    "\n",
    "def print_menu():\n",
    "    print(\"*\" * 20)\n",
    "    print(\"레오의 선물 리스트!!\")\n",
    "    print(\"무엇을 할까요?\")\n",
    "    print(\"1. 선물 추가하기\")\n",
    "    print(\"2. 인덱스로 선물 삭제\")\n",
    "    print(\"3. 선물 명으로 선물 삭제\")\n",
    "    print(\"4. 인덱스로 선물 변경\")\n",
    "    print(\"0. 끝내기\")\n",
    "\n",
    "num = 1\n",
    "while num != 0:\n",
    "    print_menu()\n",
    "    num = int(input())\n",
    "    if num == 1:\n",
    "        add_gift = input('추가할 선물을 입력하세요.')\n",
    "        gift.append(add_gift)\n",
    "    elif num == 2:\n",
    "        idx = int(input(\"몇 번째 선물을 삭제할까요?\"))\n",
    "        del gift[idx - 1]\n",
    "    elif num == 3:        \n",
    "        remove_gift = input(\"삭제할 선물을 입력하세요.\")\n",
    "        gift.remove(remove_gift)        \n",
    "    elif num == 4:\n",
    "        idx = int(input(\"몇 번째 선물을 변경할까요?\"))\n",
    "        change_gift = input(\"무슨 선물로 변경할까요?\")\n",
    "        gift[idx - 1] = change_gift\n",
    "    print(gift)"
   ]
  }
 ],
 "metadata": {
  "kernelspec": {
   "display_name": "Python 3 (ipykernel)",
   "language": "python",
   "name": "python3"
  },
  "language_info": {
   "codemirror_mode": {
    "name": "ipython",
    "version": 3
   },
   "file_extension": ".py",
   "mimetype": "text/x-python",
   "name": "python",
   "nbconvert_exporter": "python",
   "pygments_lexer": "ipython3",
   "version": "3.9.13"
  }
 },
 "nbformat": 4,
 "nbformat_minor": 5
}
