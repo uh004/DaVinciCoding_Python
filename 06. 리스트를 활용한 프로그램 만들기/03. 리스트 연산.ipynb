{
 "cells": [
  {
   "cell_type": "markdown",
   "id": "ff1fa03a",
   "metadata": {},
   "source": [
    "# 리스트 연산\n",
    "리스트를 사용할 때 연산기호를 사용해 리스트끼리 더하거나 빼는 등 연산이 가능합니다."
   ]
  },
  {
   "cell_type": "code",
   "execution_count": 6,
   "id": "6cb22317",
   "metadata": {},
   "outputs": [
    {
     "name": "stdout",
     "output_type": "stream",
     "text": [
      "['장난감', '동화책', '불고기', '피자']\n"
     ]
    }
   ],
   "source": [
    "# 리스트 더하기\n",
    "gift = ['장난감', '동화책']\n",
    "food = ['불고기', '피자']\n",
    "\n",
    "gift = gift + food\n",
    "print(gift) # ['장난감', '동화책', '불고기', '피자']"
   ]
  },
  {
   "cell_type": "code",
   "execution_count": 7,
   "id": "e32949ef",
   "metadata": {},
   "outputs": [
    {
     "name": "stdout",
     "output_type": "stream",
     "text": [
      "['장난감', '동화책', '불고기', '피자']\n"
     ]
    }
   ],
   "source": [
    "# 더하기는 리스트의 함수 중 extend와 같다.\n",
    "gift = ['장난감', '동화책']\n",
    "food = ['불고기', '피자']\n",
    "gift.extend(food)\n",
    "print(gift) # ['장난감', '동화책', '불고기', '피자']"
   ]
  },
  {
   "cell_type": "markdown",
   "id": "102e7798",
   "metadata": {},
   "source": [
    "- 기억해야 하는 점은 리스트와 리스트를 더하는 것이지 리스트와 항목을 더하는 것은 아닙니다. 항목을 더할 때는 append나 insert 등의 방법으로 사용해야 합니다. 또한 리스트에 리스트를 더해야지, 리스트에 항목을 더하면 에러가 발생한다는 것입니다."
   ]
  },
  {
   "cell_type": "code",
   "execution_count": 9,
   "id": "eb227afe",
   "metadata": {},
   "outputs": [
    {
     "name": "stdout",
     "output_type": "stream",
     "text": [
      "['장난감', '동화책', ['불고기', '피자']]\n"
     ]
    }
   ],
   "source": [
    "gift = ['장난감', '동화책']\n",
    "food = ['불고기', '피자']\n",
    "gift.append(food)\n",
    "print(gift) # ['장난감', '동화책', ['불고기', '피자']]"
   ]
  },
  {
   "cell_type": "code",
   "execution_count": 10,
   "id": "48c4cafa",
   "metadata": {},
   "outputs": [
    {
     "name": "stdout",
     "output_type": "stream",
     "text": [
      "['장난감', '동화책', '장난감', '동화책']\n"
     ]
    }
   ],
   "source": [
    "# 리스트의 곱하기\n",
    "gift = ['장난감', '동화책']\n",
    "gift = gift * 2\n",
    "print(gift) # ['장난감', '동화책', '장난감', '동화책']"
   ]
  },
  {
   "cell_type": "code",
   "execution_count": 11,
   "id": "08482b55",
   "metadata": {},
   "outputs": [
    {
     "name": "stdout",
     "output_type": "stream",
     "text": [
      "총 선물의 개수 = 2\n"
     ]
    }
   ],
   "source": [
    "# 리스트 안에 특정 요소의 개수 세기\n",
    "gift = ['장난감', '동화책']\n",
    "print(\"총 선물의 개수 =\", len(gift)) # 총 선물의 개수 = 2"
   ]
  },
  {
   "cell_type": "code",
   "execution_count": 12,
   "id": "5c0a7c20",
   "metadata": {},
   "outputs": [
    {
     "name": "stdout",
     "output_type": "stream",
     "text": [
      "3\n"
     ]
    }
   ],
   "source": [
    "# 리스트 안에 특정 요소의 개수 세기\n",
    "math_score = [30, 70, 80, 60, 80, 90, 80, 85]\n",
    "print(math_score.count(80)) # 3"
   ]
  },
  {
   "cell_type": "code",
   "execution_count": 13,
   "id": "54c748f9",
   "metadata": {},
   "outputs": [
    {
     "name": "stdout",
     "output_type": "stream",
     "text": [
      "[1, 4, 9, 16, 25, 36, 49, 64, 81, 100]\n"
     ]
    }
   ],
   "source": [
    "# 한 줄 for 문으로 리스트 만들기\n",
    "my_list = []\n",
    "for i in range(1, 10 + 1):\n",
    "    my_list.append(i * i)\n",
    "\n",
    "print(my_list) # [1, 4, 9, 16, 25, 36, 49, 64, 81, 100]"
   ]
  },
  {
   "cell_type": "code",
   "execution_count": 14,
   "id": "8e308537",
   "metadata": {},
   "outputs": [
    {
     "name": "stdout",
     "output_type": "stream",
     "text": [
      "[1, 4, 9, 16, 25, 36, 49, 64, 81, 100]\n"
     ]
    }
   ],
   "source": [
    "# 한줄로 만들기\n",
    "my_list = [i * i for i in range(1, 11)]\n",
    "print(my_list) # [1, 4, 9, 16, 25, 36, 49, 64, 81, 100]"
   ]
  },
  {
   "cell_type": "code",
   "execution_count": 15,
   "id": "ffbd47e9",
   "metadata": {},
   "outputs": [
    {
     "name": "stdout",
     "output_type": "stream",
     "text": [
      "[[0, 1, 2, 3, 4], [5, 6, 7, 8, 9], [10, 11, 12, 13, 14], [15, 16, 17, 18, 19], [20, 21, 22, 23, 24]]\n"
     ]
    }
   ],
   "source": [
    "num = 5\n",
    "my_list = [[num * i + j for j in range(num)] for i in range(num)]\n",
    "print(my_list)\n",
    "# [[0, 1, 2, 3, 4], [5, 6, 7, 8, 9], [10, 11, 12, 13, 14], [15, 16, 17, 18, 19], [20, 21, 22, 23, 24]]"
   ]
  },
  {
   "cell_type": "markdown",
   "id": "6b79d4a7",
   "metadata": {},
   "source": [
    "# 정리하기\n",
    "지금까지 공부한 리스트의 특징을 알아보겠습니다.\n",
    "\n",
    "1. 리스트는 자료들의 모임입니다.\n",
    "2. 순서를 가지고 있어 순서를 가지고 항목에 접근할 수 있습니다.\n",
    "3. 어떠한 자료형도 넣을 수 있습니다.\n",
    "4. 자유롭게 변경이 가능하며 중복이 허용됩니다."
   ]
  }
 ],
 "metadata": {
  "kernelspec": {
   "display_name": "Python 3 (ipykernel)",
   "language": "python",
   "name": "python3"
  },
  "language_info": {
   "codemirror_mode": {
    "name": "ipython",
    "version": 3
   },
   "file_extension": ".py",
   "mimetype": "text/x-python",
   "name": "python",
   "nbconvert_exporter": "python",
   "pygments_lexer": "ipython3",
   "version": "3.9.13"
  }
 },
 "nbformat": 4,
 "nbformat_minor": 5
}
