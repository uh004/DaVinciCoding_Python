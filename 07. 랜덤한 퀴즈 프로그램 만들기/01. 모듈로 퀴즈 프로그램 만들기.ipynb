{
 "cells": [
  {
   "cell_type": "markdown",
   "id": "ed2818b9",
   "metadata": {},
   "source": [
    "# 모듈 불러오기\n",
    "모듈을 불러오기 위해서는 import라는 명령어를 사용합니다."
   ]
  },
  {
   "cell_type": "code",
   "execution_count": 1,
   "id": "880f8aa3",
   "metadata": {},
   "outputs": [
    {
     "name": "stdout",
     "output_type": "stream",
     "text": [
      "0.3137148438822348\n"
     ]
    }
   ],
   "source": [
    "# random 모듈\n",
    "import random # random 모듈을 가져다 쓴다고 정의 \n",
    "\n",
    "print(random.random()) # random 모듈의 random() 함수를 호출"
   ]
  },
  {
   "cell_type": "code",
   "execution_count": 3,
   "id": "94a5ca8e",
   "metadata": {},
   "outputs": [
    {
     "name": "stdout",
     "output_type": "stream",
     "text": [
      "1\n"
     ]
    }
   ],
   "source": [
    "import random \n",
    "num = random.randint(1, 9) # 1부터 9 사이의 숫자를 반환 \n",
    "print(num)"
   ]
  },
  {
   "cell_type": "code",
   "execution_count": 5,
   "id": "ddc4722a",
   "metadata": {},
   "outputs": [
    {
     "name": "stdout",
     "output_type": "stream",
     "text": [
      "2 * 8 = ? 16\n",
      "맞았습니다.\n",
      "9 * 8 = ? 72\n",
      "맞았습니다.\n",
      "2 * 2 = ? 4\n",
      "맞았습니다.\n",
      "4 * 9 = ? 36\n",
      "맞았습니다.\n",
      "6 * 2 = ? 12\n",
      "맞았습니다.\n",
      "최종 점수는 100 점입니다.\n"
     ]
    }
   ],
   "source": [
    "# random을 사용한 구구단 퀴즈 프로그램\n",
    "import random\n",
    "score = 0\n",
    "\n",
    "for _ in range(5):\n",
    "    a = random.randint(2, 9) # 2 ~ 9 까지 랜덤으로\n",
    "    b = random.randint(1, 9) # 1 ~ 9 까지 랜덤으로\n",
    "    result = int(input(f'{a} * {b} = ? ')) # 랜덤값  a b 대입\n",
    "    if result == a * b: \n",
    "        score += 20\n",
    "        print(\"맞았습니다.\")\n",
    "    else:\n",
    "        print(\"틀렸습니다.\")\n",
    "\n",
    "print(\"최종 점수는\", score, \"점입니다.\")"
   ]
  },
  {
   "cell_type": "code",
   "execution_count": 11,
   "id": "5a1c9cf4",
   "metadata": {},
   "outputs": [
    {
     "name": "stdout",
     "output_type": "stream",
     "text": [
      "18\n"
     ]
    }
   ],
   "source": [
    "# seed() 함수에 넣으면 시간이 아닌 입력한 숫자로 동작하기 때문에 누구나 어떤 컴퓨터에서 실행하던지 똑같은 난수를 반환합니다.\n",
    "import random\n",
    "\n",
    "random.seed(1) # seed값을 1로 정의\n",
    "num = random.randint(1, 100) # 1부터 100사이의 숫자를 반환\n",
    "print(num) # 어떤 시간, 컴퓨터에서 실행해도 결과는 18로 동일"
   ]
  }
 ],
 "metadata": {
  "kernelspec": {
   "display_name": "Python 3 (ipykernel)",
   "language": "python",
   "name": "python3"
  },
  "language_info": {
   "codemirror_mode": {
    "name": "ipython",
    "version": 3
   },
   "file_extension": ".py",
   "mimetype": "text/x-python",
   "name": "python",
   "nbconvert_exporter": "python",
   "pygments_lexer": "ipython3",
   "version": "3.9.13"
  }
 },
 "nbformat": 4,
 "nbformat_minor": 5
}
