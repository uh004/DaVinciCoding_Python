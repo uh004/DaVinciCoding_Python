{
 "cells": [
  {
   "cell_type": "markdown",
   "id": "df8abb8c",
   "metadata": {},
   "source": [
    "# 시간 맞추기 게임\n",
    "time 모듈을 사용하여 시간 맞추기 게임을 만들어 보겠습니다. 게임이 시작되면 5초를 체크하여 시간을 맞추는 게임입니다."
   ]
  },
  {
   "cell_type": "markdown",
   "id": "2fd31768",
   "metadata": {},
   "source": [
    "# 게임 알고리즘\n",
    "1. 엔터키나 누르면 게임이 시작된다.\n",
    "2. 시간을 체크하기 시작한다.\n",
    "3. 5초가 지났다고 생각했을 때 엔터키를 누르면 시간 체크 종료.\n",
    "4. 5초가 맞는지 확인한다."
   ]
  },
  {
   "cell_type": "code",
   "execution_count": 37,
   "id": "a8525fb5",
   "metadata": {},
   "outputs": [
    {
     "name": "stdout",
     "output_type": "stream",
     "text": [
      "5초 맞추기 게임 시작! 엔터 키를 눌러 주세요\n",
      "5초를 맞춰 주세요! 엔터 키를 눌러 주세요\n",
      "4.613272428512573\n"
     ]
    }
   ],
   "source": [
    "import time as t\n",
    "\n",
    "input(\"5초 맞추기 게임 시작! 엔터 키를 눌러 주세요\")\n",
    "start_time = t.time()\n",
    "\n",
    "input('5초를 맞춰 주세요! 엔터 키를 눌러 주세요')\n",
    "end_time = t.time()\n",
    "\n",
    "print(end_time - start_time)"
   ]
  },
  {
   "cell_type": "code",
   "execution_count": 38,
   "id": "80287515",
   "metadata": {},
   "outputs": [
    {
     "name": "stdout",
     "output_type": "stream",
     "text": [
      "4.613272428512573 : 축하합니다.\n"
     ]
    }
   ],
   "source": [
    "check_time = end_time - start_time\n",
    "\n",
    "if check_time < 4.5:\n",
    "    print(check_time, \": 너무 빨라요.\")\n",
    "elif check_time < 5.5:\n",
    "    print(check_time, \": 축하합니다.\")\n",
    "else:\n",
    "    print(check_time, \": 너무 느려요.\")"
   ]
  }
 ],
 "metadata": {
  "kernelspec": {
   "display_name": "Python 3 (ipykernel)",
   "language": "python",
   "name": "python3"
  },
  "language_info": {
   "codemirror_mode": {
    "name": "ipython",
    "version": 3
   },
   "file_extension": ".py",
   "mimetype": "text/x-python",
   "name": "python",
   "nbconvert_exporter": "python",
   "pygments_lexer": "ipython3",
   "version": "3.9.13"
  }
 },
 "nbformat": 4,
 "nbformat_minor": 5
}
