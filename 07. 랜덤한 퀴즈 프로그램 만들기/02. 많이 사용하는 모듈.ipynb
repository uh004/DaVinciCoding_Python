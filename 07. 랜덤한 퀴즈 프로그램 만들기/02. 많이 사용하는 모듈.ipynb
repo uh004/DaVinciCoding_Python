{
 "cells": [
  {
   "cell_type": "code",
   "execution_count": 5,
   "id": "377dad5d",
   "metadata": {},
   "outputs": [
    {
     "name": "stdout",
     "output_type": "stream",
     "text": [
      "3\n"
     ]
    }
   ],
   "source": [
    "# 모듈에 별명을 지어주자\n",
    "import random as r # random 모듈을 r이라고 지정 \n",
    "print(r.randint(1, 10)) # random 모듈의 randint() 함수를 호출 \n",
    "\n",
    "# 실행 결과(1부터 10 사이 임의의 정수가 출력됨)"
   ]
  },
  {
   "cell_type": "code",
   "execution_count": 13,
   "id": "c3bfe266",
   "metadata": {},
   "outputs": [
    {
     "name": "stdout",
     "output_type": "stream",
     "text": [
      "5\n"
     ]
    }
   ],
   "source": [
    "# 모듈 명을 생략하고 사용하고 싶을 때 from 모듈명 import 함수명\n",
    "from random import randint\n",
    "\n",
    "print(randint(1, 10)) # random 없이 randint를 사용합니다."
   ]
  },
  {
   "cell_type": "code",
   "execution_count": 16,
   "id": "f852cb5f",
   "metadata": {},
   "outputs": [
    {
     "name": "stdout",
     "output_type": "stream",
     "text": [
      "4\n",
      "0.737588571251404\n"
     ]
    }
   ],
   "source": [
    "# 여러 개의 함수를 사용할 때는 콤마( , )로 구분해서 사용합니다.\n",
    "from random import random, randint\n",
    "\n",
    "print(randint(1, 10)) # random 없이 randint를 사용합니다.\n",
    "print(random()) # random 없이 random을 사용합니다."
   ]
  },
  {
   "cell_type": "code",
   "execution_count": 25,
   "id": "a40c9e04",
   "metadata": {},
   "outputs": [
    {
     "name": "stdout",
     "output_type": "stream",
     "text": [
      "1.0676150887536422\n",
      "원숭이\n"
     ]
    }
   ],
   "source": [
    "# random 안의 모든 함수를 다 사용하고 싶을 때는 * 를 사용합니다.\n",
    "from random import *\n",
    "\n",
    "print(uniform(1, 3)) # 1 ~ 3 사이의 실수를 반환\n",
    "print(choice(['사과', '바나나', '원숭이'])) # 입력 중 하나를 선택합니다."
   ]
  },
  {
   "cell_type": "code",
   "execution_count": 31,
   "id": "43ac14e3",
   "metadata": {},
   "outputs": [
    {
     "name": "stdout",
     "output_type": "stream",
     "text": [
      "3.141592653589793\n",
      "2.718281828459045\n",
      "inf\n"
     ]
    }
   ],
   "source": [
    "# 나중에 수학을 전문적으로 사용하려면 math보단 numpy 사용을 추천합니다.\n",
    "import math\n",
    "\n",
    "# 원주율 𝛑 \n",
    "print(math.pi) # 3.141592653589793\n",
    "# 자연상수 e\n",
    "print(math.e) # 2.718281828459045\n",
    "# 무한대\n",
    "print(math.inf) # inf"
   ]
  },
  {
   "cell_type": "code",
   "execution_count": 41,
   "id": "07c39e85",
   "metadata": {},
   "outputs": [
    {
     "name": "stdout",
     "output_type": "stream",
     "text": [
      "2\n",
      "4\n",
      "2\n",
      "5.0\n",
      "1.5\n"
     ]
    }
   ],
   "source": [
    "# 학교에서 배우는 함수\n",
    "import math\n",
    "\n",
    "print(math.gcd(10, 8)) # 2 최대 공약수\n",
    "print(math.ceil(math.pi)) # 4 올림\n",
    "print(math.floor(math.e)) # 2 내림\n",
    "print(math.sqrt(25)) # 5 제곱근\n",
    "print(math.fabs(-1.5)) # 1.5 절댓값"
   ]
  },
  {
   "cell_type": "code",
   "execution_count": 42,
   "id": "f3511fd3",
   "metadata": {},
   "outputs": [
    {
     "name": "stdout",
     "output_type": "stream",
     "text": [
      "10\n",
      "10.0\n",
      "10.5\n",
      "10.5\n"
     ]
    }
   ],
   "source": [
    "import math\n",
    "a = -10\n",
    "print(abs(a)) # 10\n",
    "print(math.fabs(a)) # 10.0\n",
    "\n",
    "b = -10.5\n",
    "print(abs(b)) # 10.5\n",
    "print(math.fabs(b)) # 10.5"
   ]
  },
  {
   "cell_type": "code",
   "execution_count": 50,
   "id": "d87a65a5",
   "metadata": {},
   "outputs": [
    {
     "name": "stdout",
     "output_type": "stream",
     "text": [
      "0.8509035245341184\n",
      "0.5253219888177297\n",
      "1.6197751905438615\n"
     ]
    }
   ],
   "source": [
    "# 삼각함수\n",
    "import math\n",
    "x = 45\n",
    "print(math.sin(x)) # 사인\n",
    "print(math.cos(x)) # 코사인\n",
    "print(math.tan(x)) # 탄젠트"
   ]
  },
  {
   "cell_type": "code",
   "execution_count": 89,
   "id": "b521f997",
   "metadata": {},
   "outputs": [
    {
     "data": {
      "text/plain": [
       "datetime.datetime(2023, 7, 15, 18, 51, 0, 617283)"
      ]
     },
     "execution_count": 89,
     "metadata": {},
     "output_type": "execute_result"
    }
   ],
   "source": [
    "# datetime은 현재의 날짜나 시간을 알 수 있는 모듈입니다.\n",
    "import datetime\n",
    "datetime.datetime.now() # 현재의 날짜, 시간을 알 수 있다."
   ]
  },
  {
   "cell_type": "code",
   "execution_count": 96,
   "id": "41363958",
   "metadata": {},
   "outputs": [
    {
     "name": "stdout",
     "output_type": "stream",
     "text": [
      "2023년 7월 15일 18시 51분 23초 397981 밀리초\n"
     ]
    }
   ],
   "source": [
    "# datetime 의 경우는 from절을 통해서 많이 사용합니다.\n",
    "from datetime import datetime\n",
    "\n",
    "today = datetime.now() # 현재의 시간 가져오기\n",
    "year = today.year # 현재의 년도 가져오기\n",
    "month = today.month # 현재의 월 가져오기\n",
    "day = today.day # 현재의 날짜 가져오기\n",
    "hour = today.hour # 현재의 시간 가져오기\n",
    "minute = today.minute # 현재의 분 가져오기\n",
    "second = today.second # 현재의 초 가져오기\n",
    "ms = today.microsecond # 현재의 마이크로세컨드 가져오기\n",
    "\n",
    "print(f\"{year}년 {month}월 {day}일 {hour}시 {minute}분 {second}초 {ms} 밀리초\")"
   ]
  },
  {
   "cell_type": "code",
   "execution_count": 100,
   "id": "f862d666",
   "metadata": {},
   "outputs": [
    {
     "name": "stdout",
     "output_type": "stream",
     "text": [
      "1689414714.305212\n"
     ]
    }
   ],
   "source": [
    "# 시간을 체크하기 위해서는 time 모듈을 사용합니다.\n",
    "import time as t # time 모듈을 앞으로 t라는 별명으로 부르겠다고 정의\n",
    "\n",
    "print(t.time())"
   ]
  },
  {
   "cell_type": "code",
   "execution_count": 101,
   "id": "61ffe55d",
   "metadata": {},
   "outputs": [
    {
     "name": "stdout",
     "output_type": "stream",
     "text": [
      "                                  2023\n",
      "\n",
      "      January                   February                   March\n",
      "Mo Tu We Th Fr Sa Su      Mo Tu We Th Fr Sa Su      Mo Tu We Th Fr Sa Su\n",
      "                   1             1  2  3  4  5             1  2  3  4  5\n",
      " 2  3  4  5  6  7  8       6  7  8  9 10 11 12       6  7  8  9 10 11 12\n",
      " 9 10 11 12 13 14 15      13 14 15 16 17 18 19      13 14 15 16 17 18 19\n",
      "16 17 18 19 20 21 22      20 21 22 23 24 25 26      20 21 22 23 24 25 26\n",
      "23 24 25 26 27 28 29      27 28                     27 28 29 30 31\n",
      "30 31\n",
      "\n",
      "       April                      May                       June\n",
      "Mo Tu We Th Fr Sa Su      Mo Tu We Th Fr Sa Su      Mo Tu We Th Fr Sa Su\n",
      "                1  2       1  2  3  4  5  6  7                1  2  3  4\n",
      " 3  4  5  6  7  8  9       8  9 10 11 12 13 14       5  6  7  8  9 10 11\n",
      "10 11 12 13 14 15 16      15 16 17 18 19 20 21      12 13 14 15 16 17 18\n",
      "17 18 19 20 21 22 23      22 23 24 25 26 27 28      19 20 21 22 23 24 25\n",
      "24 25 26 27 28 29 30      29 30 31                  26 27 28 29 30\n",
      "\n",
      "        July                     August                  September\n",
      "Mo Tu We Th Fr Sa Su      Mo Tu We Th Fr Sa Su      Mo Tu We Th Fr Sa Su\n",
      "                1  2          1  2  3  4  5  6                   1  2  3\n",
      " 3  4  5  6  7  8  9       7  8  9 10 11 12 13       4  5  6  7  8  9 10\n",
      "10 11 12 13 14 15 16      14 15 16 17 18 19 20      11 12 13 14 15 16 17\n",
      "17 18 19 20 21 22 23      21 22 23 24 25 26 27      18 19 20 21 22 23 24\n",
      "24 25 26 27 28 29 30      28 29 30 31               25 26 27 28 29 30\n",
      "31\n",
      "\n",
      "      October                   November                  December\n",
      "Mo Tu We Th Fr Sa Su      Mo Tu We Th Fr Sa Su      Mo Tu We Th Fr Sa Su\n",
      "                   1             1  2  3  4  5                   1  2  3\n",
      " 2  3  4  5  6  7  8       6  7  8  9 10 11 12       4  5  6  7  8  9 10\n",
      " 9 10 11 12 13 14 15      13 14 15 16 17 18 19      11 12 13 14 15 16 17\n",
      "16 17 18 19 20 21 22      20 21 22 23 24 25 26      18 19 20 21 22 23 24\n",
      "23 24 25 26 27 28 29      27 28 29 30               25 26 27 28 29 30 31\n",
      "30 31\n",
      "\n"
     ]
    }
   ],
   "source": [
    "# calender는 달력을 볼 수 있는 모듈입니다.\n",
    "import calendar \n",
    "print(calendar.calendar(2023)) # 2023년 전체 달력을 보여준다"
   ]
  },
  {
   "cell_type": "code",
   "execution_count": 107,
   "id": "4e4661ec",
   "metadata": {},
   "outputs": [
    {
     "name": "stdout",
     "output_type": "stream",
     "text": [
      "     March 2023\n",
      "Mo Tu We Th Fr Sa Su\n",
      "       1  2  3  4  5\n",
      " 6  7  8  9 10 11 12\n",
      "13 14 15 16 17 18 19\n",
      "20 21 22 23 24 25 26\n",
      "27 28 29 30 31\n"
     ]
    }
   ],
   "source": [
    "# 한 달의 달력만 보기 위해서는 prmonth를 사용합니다.\n",
    "import calendar \n",
    "calendar.prmonth(2023, 3) # 2023년 3월 달력을 보여준다"
   ]
  }
 ],
 "metadata": {
  "kernelspec": {
   "display_name": "Python 3 (ipykernel)",
   "language": "python",
   "name": "python3"
  },
  "language_info": {
   "codemirror_mode": {
    "name": "ipython",
    "version": 3
   },
   "file_extension": ".py",
   "mimetype": "text/x-python",
   "name": "python",
   "nbconvert_exporter": "python",
   "pygments_lexer": "ipython3",
   "version": "3.9.13"
  }
 },
 "nbformat": 4,
 "nbformat_minor": 5
}
