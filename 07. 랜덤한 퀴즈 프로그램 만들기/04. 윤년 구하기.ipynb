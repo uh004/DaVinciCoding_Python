{
 "cells": [
  {
   "cell_type": "code",
   "execution_count": null,
   "id": "a800b6be",
   "metadata": {},
   "outputs": [],
   "source": [
    "# 윤년은 자연의 오차를 보정하기 위해 2월에 하루를 추가하는 것입니다."
   ]
  },
  {
   "cell_type": "code",
   "execution_count": null,
   "id": "ff8aa15c",
   "metadata": {},
   "outputs": [],
   "source": [
    "# 윤년의 규칙\n",
    "# 4로 나누어떨어지는 해는 윤년으로 한다. (2016년, 2020년, 2024년 등등)\n",
    "# 4와 100으로 나누어떨어지는 해는 평년으로 한다. (1900년, 2100년, 2200년)\n",
    "# 4, 100, 400으로 나누어떨어지는 해는 윤년으로 한다. (2000년, 2400년)"
   ]
  },
  {
   "cell_type": "markdown",
   "id": "8c595590",
   "metadata": {},
   "source": [
    "# 윤년 알고리즘\n",
    "1. 연도를 입력받는다.\n",
    "2. 입력받은 연도를 4로 나누어 나누어떨어지면 3번으로 이동, 나누어떨어지지 않으면 평년\n",
    "3. 2를 만족하고, 100으로 나누어 나누어떨어지면 4번으로 이동, 나누어떨어지지 않는 해는 윤년\n",
    "4. 3을 만족하고, 400으로 나누어떨어지면 윤년, 나누어떨어지지 않으면 평년"
   ]
  },
  {
   "cell_type": "code",
   "execution_count": 2,
   "id": "6597d8de",
   "metadata": {},
   "outputs": [
    {
     "name": "stdout",
     "output_type": "stream",
     "text": [
      "윤년을 확인할 연도를 입력하세요2123\n",
      "2123 년은 평년입니다.\n"
     ]
    }
   ],
   "source": [
    "year = int(input(\"윤년을 확인할 연도를 입력하세요\"))# 확인할 년도를 입력 받는다.\n",
    "\n",
    "leap_year = False   # 윤년인지 아닌지 체크할 변수로 (기본 평년으로 체크)\n",
    "if year % 4 == 0:               # 4로 나누어떨어지는지 확인\n",
    "    if year % 100 == 0:         # 100으로 나누어떨어지는지 확인\n",
    "        if year % 400 == 0:     # 400으로 나누어떨어지는지 확인\n",
    "            leap_year = True    # 4, 100, 400으로 나누어떨어지면 윤년\n",
    "    else:\n",
    "        leap_year = True # 4로 나누어떨어지고, 100으로 나누어떨어지지 않으면 윤년\n",
    "\n",
    "if leap_year:\n",
    "    print(year, \"년은 윤년입니다.\")\n",
    "else:\n",
    "    print(year, \"년은 평년입니다.\")"
   ]
  },
  {
   "cell_type": "markdown",
   "id": "f4baa16c",
   "metadata": {},
   "source": [
    "# 다른 방법으로 윤년 구하기\n",
    "1. 4로 나누어떨어지는 해는 윤년으로 한다. (2016년, 2020년, 2024년 등등)\n",
    "2. 4와 100으로 나누어떨어지는 해는 평년으로 한다. (1900년, 2100년, 2200년)"
   ]
  },
  {
   "cell_type": "code",
   "execution_count": 3,
   "id": "390859ba",
   "metadata": {},
   "outputs": [
    {
     "name": "stdout",
     "output_type": "stream",
     "text": [
      "윤년을 확인할 연도를 입력하세요.2100\n",
      "2100 년은 평년입니다.\n"
     ]
    }
   ],
   "source": [
    "year = int(input(\"윤년을 확인할 연도를 입력하세요.\"))\n",
    "\n",
    "if (year % 4 == 0 and year % 100 != 0) or year % 400 == 0:\n",
    "    print(year, \"년은 윤년입니다.\")\n",
    "else:\n",
    "    print(year, \"년은 평년입니다.\")"
   ]
  }
 ],
 "metadata": {
  "kernelspec": {
   "display_name": "Python 3 (ipykernel)",
   "language": "python",
   "name": "python3"
  },
  "language_info": {
   "codemirror_mode": {
    "name": "ipython",
    "version": 3
   },
   "file_extension": ".py",
   "mimetype": "text/x-python",
   "name": "python",
   "nbconvert_exporter": "python",
   "pygments_lexer": "ipython3",
   "version": "3.9.13"
  }
 },
 "nbformat": 4,
 "nbformat_minor": 5
}
