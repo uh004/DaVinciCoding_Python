{
 "cells": [
  {
   "cell_type": "code",
   "execution_count": 3,
   "id": "65303957",
   "metadata": {},
   "outputs": [
    {
     "name": "stdout",
     "output_type": "stream",
     "text": [
      "구구단 몇 단을 출력할까요?4\n",
      "4 * 1 = 4\n",
      "4 * 2 = 8\n",
      "4 * 3 = 12\n",
      "4 * 4 = 16\n",
      "4 * 5 = 20\n",
      "4 * 6 = 24\n",
      "4 * 7 = 28\n",
      "4 * 8 = 32\n",
      "4 * 9 = 36\n"
     ]
    }
   ],
   "source": [
    "# else 구문은 try문에서 참일때만 동작하고 except 일때에는 동작 X\n",
    "try:\n",
    "    dan = int(input(\"구구단 몇 단을 출력할까요?\"))\n",
    "\n",
    "except ValueError as e:\n",
    "    print(\"숫자만 입력하세요\")\n",
    "except Exception as e:\n",
    "    print(\"에러가 발생 했습니다\", type(e))\n",
    "else:\n",
    "    for i in range(1, 9 + 1):\n",
    "        print(f'{dan} * {i} = {dan * i}')"
   ]
  },
  {
   "cell_type": "code",
   "execution_count": 7,
   "id": "bb0c5018",
   "metadata": {},
   "outputs": [
    {
     "name": "stdout",
     "output_type": "stream",
     "text": [
      "구구단 몇 단을 출력할까요?d\n",
      "숫자만 입력하세요\n",
      "구구단 몇 단을 출력할까요?1\n",
      "1 * 1 = 1\n",
      "1 * 2 = 2\n",
      "1 * 3 = 3\n",
      "1 * 4 = 4\n",
      "1 * 5 = 5\n",
      "1 * 6 = 6\n",
      "1 * 7 = 7\n",
      "1 * 8 = 8\n",
      "1 * 9 = 9\n"
     ]
    }
   ],
   "source": [
    "done = False\n",
    "while not done:\n",
    "    try:\n",
    "        dan = int(input(\"구구단 몇 단을 출력할까요?\"))      \n",
    "    except ValueError as e:\n",
    "        print(\"숫자만 입력하세요\")\n",
    "    except Exception as e:\n",
    "        print(\"에러가 발생 했습니다\", type(e))  \n",
    "    else:\n",
    "        for i in range(1, 9 + 1):\n",
    "            print(f'{dan} * {i} = {dan * i}')\n",
    "        done = True"
   ]
  },
  {
   "cell_type": "code",
   "execution_count": 10,
   "id": "3b5d0234",
   "metadata": {},
   "outputs": [
    {
     "name": "stdout",
     "output_type": "stream",
     "text": [
      "사용자 번호를 입력하세요3\n",
      "오류 입니다.\n",
      "finally 문장 입니다.\n",
      "마지막 문장입니다.\n"
     ]
    }
   ],
   "source": [
    "# finally\n",
    "# finally 문은 try 구문이 오류가 발생하던, 발생하지 않던 실행되는 구문\n",
    "try:\n",
    "    my_list = ['철수', '영희', '재민']\n",
    "    num = int(input('사용자 번호를 입력하세요'))\n",
    "    print(my_list[num])\n",
    "except:\n",
    "    print(\"오류 입니다.\")\n",
    "finally:\n",
    "    print(\"finally 문장 입니다.\")\n",
    "print(\"마지막 문장입니다.\")"
   ]
  },
  {
   "cell_type": "markdown",
   "id": "7bb5e346",
   "metadata": {},
   "source": [
    "# 정리\n",
    "- 예외처리를 하기 위해서 try, except, else, finally 까지 다양한 명령어를 배웠습니다. 여기서 try, except 문은 꼭 실행해야 하는 구문 입니다. 둘 중 하나만 실행해서도 안되고, 순서를 바꿔도 안됩니다. except 구문은 하나가 아닌 여러가지를 사용할 수 있습니다. 다양한 예외에 대해 각각의 구문을 따로 만들어 줄 수 있습니다.\n",
    "- else 와 filnally 구문은 선택적으로 사용할 수 있습니다. 필요하다면 else 만 만들 수도 있고, 둘 다 사용하지 않을 수도 있고, 모두 사용할 수 도 있습니다. 모두 사용할 때 중요한 점은 반드시 else 구문 다음에 finally 구문을 사용해야 합니다. else 구문 없이 단독으로 finally 를 사용할 수는 있지만 finally 구문 다음에 else 구문이 올 수는 없습니다."
   ]
  }
 ],
 "metadata": {
  "kernelspec": {
   "display_name": "Python 3 (ipykernel)",
   "language": "python",
   "name": "python3"
  },
  "language_info": {
   "codemirror_mode": {
    "name": "ipython",
    "version": 3
   },
   "file_extension": ".py",
   "mimetype": "text/x-python",
   "name": "python",
   "nbconvert_exporter": "python",
   "pygments_lexer": "ipython3",
   "version": "3.9.13"
  }
 },
 "nbformat": 4,
 "nbformat_minor": 5
}
