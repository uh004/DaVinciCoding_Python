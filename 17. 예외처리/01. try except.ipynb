{
 "cells": [
  {
   "cell_type": "code",
   "execution_count": 2,
   "id": "bdc05858",
   "metadata": {},
   "outputs": [
    {
     "name": "stdout",
     "output_type": "stream",
     "text": [
      "나눗셈 프로그램입니다. 두 숫자를 입력하세요\n",
      "10 0\n",
      "분모가 0이면 계산할 수 없습니다\n"
     ]
    }
   ],
   "source": [
    "# try except 문 사용하기\n",
    "print(\"나눗셈 프로그램입니다. 두 숫자를 입력하세요\")\n",
    "a, b = map(int, input().split()) # 9 3\n",
    "try:\n",
    "    print(a / b) # 3.0\n",
    "except:\n",
    "    print(\"분모가 0이면 계산할 수 없습니다\") # 예외처리 발생시 실행"
   ]
  },
  {
   "cell_type": "code",
   "execution_count": 11,
   "id": "8c4e6072",
   "metadata": {},
   "outputs": [
    {
     "name": "stdout",
     "output_type": "stream",
     "text": [
      "나눗셈 프로그램입니다. 두 숫자를 입력하세요\n",
      "0\n",
      "두개의 숫자를 입력해야 합니다.\n"
     ]
    }
   ],
   "source": [
    "# 특정 에러만 처리하기\n",
    "print(\"나눗셈 프로그램입니다. 두 숫자를 입력하세요\")\n",
    "try:\n",
    "    a, b = map(int, input().split()) # 9 3\n",
    "    print(a / b) # 3.0\n",
    "except ZeroDivisionError:    \n",
    "    print(\"분모가 0이면 계산할 수 없습니다\")\n",
    "except ValueError:\n",
    "    print(\"두개의 숫자를 입력해야 합니다.\")\n",
    "except:\n",
    "    print(\"에러가 발생했습니다.\")"
   ]
  },
  {
   "cell_type": "code",
   "execution_count": 13,
   "id": "1f049e6f",
   "metadata": {},
   "outputs": [
    {
     "name": "stdout",
     "output_type": "stream",
     "text": [
      "나눗셈 프로그램입니다. 두 숫자를 입력하세요\n",
      "10 0\n",
      "분모가 0이면 계산할 수 없습니다 division by zero\n"
     ]
    }
   ],
   "source": [
    "# 예외 메시지 받아오기\n",
    "print(\"나눗셈 프로그램입니다. 두 숫자를 입력하세요\")\n",
    "try:\n",
    "    a, b = map(int, input().split()) # 9 3\n",
    "    print(a / b) # 3.0\n",
    "except ZeroDivisionError as e:    \n",
    "    print(\"분모가 0이면 계산할 수 없습니다\", e)\n",
    "except ValueError as e:\n",
    "    print(\"두개의 숫자를 입력해야 합니다.\", e)"
   ]
  },
  {
   "cell_type": "code",
   "execution_count": 15,
   "id": "a09a9079",
   "metadata": {},
   "outputs": [
    {
     "name": "stdout",
     "output_type": "stream",
     "text": [
      "나눗셈 프로그램입니다. 두 숫자를 입력하세요\n",
      "21 a\n",
      "에러가 발생했습니다. <class 'ValueError'> invalid literal for int() with base 10: 'a'\n"
     ]
    }
   ],
   "source": [
    "# 예외명을 모를때\n",
    "# 어떤 예외가 발생했는지 알기 위해서는 Exception 하나만 기억하면 됩니다.\n",
    "print(\"나눗셈 프로그램입니다. 두 숫자를 입력하세요\")\n",
    "try:\n",
    "    a, b = map(int, input().split()) # 9 3\n",
    "    print(a / b) # 3.0\n",
    "except Exception as e:    \n",
    "    print(\"에러가 발생했습니다.\", type(e), e)"
   ]
  },
  {
   "cell_type": "code",
   "execution_count": 22,
   "id": "e6b104b2",
   "metadata": {},
   "outputs": [
    {
     "name": "stdout",
     "output_type": "stream",
     "text": [
      "구구단 몇 단을 출력할까요?das+\n",
      "숫자만 입력하세요\n"
     ]
    }
   ],
   "source": [
    "check_error = True\n",
    "\n",
    "try:\n",
    "    dan = int(input(\"구구단 몇 단을 출력할까요?\"))\n",
    "    check_error = False\n",
    "except ValueError as e:\n",
    "    print(\"숫자만 입력하세요\")\n",
    "except Exception as e:\n",
    "    print(\"에러가 발생 했습니다\", type(e))\n",
    "\n",
    "if not check_error:\n",
    "    for i in range(1, 9 + 1):\n",
    "        print(f'{dan} * {i} = {dan * i}')"
   ]
  }
 ],
 "metadata": {
  "kernelspec": {
   "display_name": "Python 3 (ipykernel)",
   "language": "python",
   "name": "python3"
  },
  "language_info": {
   "codemirror_mode": {
    "name": "ipython",
    "version": 3
   },
   "file_extension": ".py",
   "mimetype": "text/x-python",
   "name": "python",
   "nbconvert_exporter": "python",
   "pygments_lexer": "ipython3",
   "version": "3.9.13"
  }
 },
 "nbformat": 4,
 "nbformat_minor": 5
}
