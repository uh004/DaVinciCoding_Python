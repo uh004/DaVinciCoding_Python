{
 "cells": [
  {
   "cell_type": "code",
   "execution_count": 1,
   "id": "2d1d7752",
   "metadata": {},
   "outputs": [
    {
     "name": "stdout",
     "output_type": "stream",
     "text": [
      "[[30, 40, 50], [60, 70, 100]]\n",
      "[[30, 40, 50], [60, 70, 80]]\n"
     ]
    }
   ],
   "source": [
    "# 깊은 복사(deep copy)\n",
    "import copy\n",
    "my_score = [[30, 40, 50], [60, 70, 80]]\n",
    "\n",
    "check_score = copy.deepcopy(my_score)\n",
    "\n",
    "my_score[1][2] = 100\n",
    "\n",
    "print(my_score)     # [[30, 40, 50], [60, 70, 100]]\n",
    "print(check_score)  # [[30, 40, 50], [60, 70, 80]]"
   ]
  },
  {
   "cell_type": "code",
   "execution_count": 2,
   "id": "58597b26",
   "metadata": {},
   "outputs": [
    {
     "name": "stdout",
     "output_type": "stream",
     "text": [
      "[[30, 40, 50], [60, [50, 75], 80]]\n",
      "[[30, 40, 50], [60, 70, 80]]\n"
     ]
    }
   ],
   "source": [
    "# 슬라이싱, 반복문을 이용한 깊은 복사\n",
    "my_score = [[30, 40, 50], [60, 70, 80]]\n",
    "\n",
    "check_score = [row[:] for row in my_score]\n",
    "\n",
    "my_score[1][1] = [50, 75]\n",
    "\n",
    "print(my_score)     # [[30, 40, 50], [60, [50, 75], 80]]\n",
    "print(check_score)  # [[30, 40, 50], [60, 70, 80]]"
   ]
  },
  {
   "cell_type": "code",
   "execution_count": 3,
   "id": "b472aec5",
   "metadata": {},
   "outputs": [
    {
     "name": "stdout",
     "output_type": "stream",
     "text": [
      "[[2, 3, 4], [2, 3, 4], [2, 3, 4], [2, 3, 4]]\n"
     ]
    }
   ],
   "source": [
    "# 비어있는 이차원 리스트 만들기\n",
    "N = 3\n",
    "arr = [[] * (N+1)] * (N+1)\n",
    "arr[1].append(2)\n",
    "arr[2].append(3)\n",
    "arr[3].append(4)\n",
    "\n",
    "print(arr)"
   ]
  },
  {
   "cell_type": "code",
   "execution_count": 4,
   "id": "2527814c",
   "metadata": {},
   "outputs": [
    {
     "name": "stdout",
     "output_type": "stream",
     "text": [
      "[[], [2], [3], [4]]\n"
     ]
    }
   ],
   "source": [
    "N = 3\n",
    "arr = [[] * (N+1) for _ in range(N+1)]\n",
    "arr[1].append(2)\n",
    "arr[2].append(3)\n",
    "arr[3].append(4)\n",
    "\n",
    "print(arr)"
   ]
  }
 ],
 "metadata": {
  "kernelspec": {
   "display_name": "Python 3 (ipykernel)",
   "language": "python",
   "name": "python3"
  },
  "language_info": {
   "codemirror_mode": {
    "name": "ipython",
    "version": 3
   },
   "file_extension": ".py",
   "mimetype": "text/x-python",
   "name": "python",
   "nbconvert_exporter": "python",
   "pygments_lexer": "ipython3",
   "version": "3.9.13"
  }
 },
 "nbformat": 4,
 "nbformat_minor": 5
}
