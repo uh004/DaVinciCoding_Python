{
 "cells": [
  {
   "cell_type": "code",
   "execution_count": 2,
   "id": "f65d7e4b",
   "metadata": {},
   "outputs": [],
   "source": [
    "# 성적 관리 프로그램(딕셔너리)\n",
    "socres = [80, 75, 90, 85]"
   ]
  },
  {
   "cell_type": "code",
   "execution_count": 3,
   "id": "a1031773",
   "metadata": {},
   "outputs": [
    {
     "name": "stdout",
     "output_type": "stream",
     "text": [
      "80\n"
     ]
    }
   ],
   "source": [
    "scores = {'국어' : 80, '영어' : 75, '수학' : 90, '과학' : 85}\n",
    "print(scores['국어'])"
   ]
  },
  {
   "cell_type": "code",
   "execution_count": 4,
   "id": "2e052bc2",
   "metadata": {},
   "outputs": [
    {
     "name": "stdout",
     "output_type": "stream",
     "text": [
      "{'국어': 80, '영어': 75, '수학': 80, '과학': 85}\n"
     ]
    }
   ],
   "source": [
    "# dict 로 딕셔너리 만들기\n",
    "scores = dict(국어=80, 영어=75, 수학=80, 과학=85)\n",
    "print(scores) # {'국어': 80, '영어': 75, '수학': 80, '과학': 85}"
   ]
  },
  {
   "cell_type": "code",
   "execution_count": 5,
   "id": "359e0443",
   "metadata": {},
   "outputs": [],
   "source": [
    "# 성적 관리 프로그램 기본 틀 잡기\n",
    "def print_menu():\n",
    "    print(\"레오의 성적 관리 프로그램\")\n",
    "    print(\"무엇을 할까요?\")\n",
    "    print(\"1. 과목별 점수 보기\")\n",
    "    print(\"2. 전체 점수 보기\")\n",
    "    print(\"3. 점수 추가\")\n",
    "    print(\"4. 점수 삭제\")\n",
    "    print(\"5. 점수 삭제\")\n",
    "    print(\"6. 총점 보기\")\n",
    "    print(\"7. 평균 보기\")\n",
    "    print(\"0. 프로그램 종료\")"
   ]
  },
  {
   "cell_type": "code",
   "execution_count": 6,
   "id": "98cae246",
   "metadata": {
    "scrolled": true
   },
   "outputs": [
    {
     "name": "stdout",
     "output_type": "stream",
     "text": [
      "레오의 성적 관리 프로그램\n",
      "무엇을 할까요?\n",
      "1. 과목별 점수 보기\n",
      "2. 전체 점수 보기\n",
      "3. 점수 추가\n",
      "4. 점수 삭제\n",
      "5. 점수 삭제\n",
      "6. 총점 보기\n",
      "7. 평균 보기\n",
      "0. 프로그램 종료\n",
      "0\n",
      "프로그램을 종료합니다.\n"
     ]
    }
   ],
   "source": [
    "while True:\n",
    "    print_menu()\n",
    "    num = int(input())\n",
    "    if num == 1: # 1. 과목별 점수 보기\n",
    "        pass        \n",
    "    elif num == 2:\n",
    "        pass\n",
    "    elif num == 0:\n",
    "        print(\"프로그램을 종료합니다.\")\n",
    "        break"
   ]
  },
  {
   "cell_type": "code",
   "execution_count": 7,
   "id": "4d26c16d",
   "metadata": {},
   "outputs": [
    {
     "name": "stdout",
     "output_type": "stream",
     "text": [
      "75\n",
      "90\n"
     ]
    }
   ],
   "source": [
    "# 데이터 읽기\n",
    "scores = {'국어' : 80, '영어' : 75, '수학' : 90, '과학' : 85}\n",
    "print(scores['영어']) # 75\n",
    "print(scores.get('수학')) # 90"
   ]
  },
  {
   "cell_type": "code",
   "execution_count": null,
   "id": "4e191d39",
   "metadata": {},
   "outputs": [
    {
     "name": "stdout",
     "output_type": "stream",
     "text": [
      "레오의 성적 관리 프로그램\n",
      "무엇을 할까요?\n",
      "1. 과목별 점수 보기\n",
      "2. 전체 점수 보기\n",
      "3. 점수 추가\n",
      "4. 점수 삭제\n",
      "5. 점수 삭제\n",
      "6. 총점 보기\n",
      "7. 평균 보기\n",
      "0. 프로그램 종료\n",
      "0\n",
      "레오의 성적 관리 프로그램\n",
      "무엇을 할까요?\n",
      "1. 과목별 점수 보기\n",
      "2. 전체 점수 보기\n",
      "3. 점수 추가\n",
      "4. 점수 삭제\n",
      "5. 점수 삭제\n",
      "6. 총점 보기\n",
      "7. 평균 보기\n",
      "0. 프로그램 종료\n",
      "0\n",
      "레오의 성적 관리 프로그램\n",
      "무엇을 할까요?\n",
      "1. 과목별 점수 보기\n",
      "2. 전체 점수 보기\n",
      "3. 점수 추가\n",
      "4. 점수 삭제\n",
      "5. 점수 삭제\n",
      "6. 총점 보기\n",
      "7. 평균 보기\n",
      "0. 프로그램 종료\n"
     ]
    }
   ],
   "source": [
    "def print_sub_score():\n",
    "    subject = input(\"보고싶은 과목을 입력하세요\")\n",
    "    if subject not in scores.keys():\n",
    "        print(f\"{subject}은(는) 없는 과목 입니다\")\n",
    "        return\n",
    "\n",
    "    print(f'{subject} 점수 = {scores[subject]}')\n",
    "\n",
    "while True:\n",
    "    print_menu()\n",
    "    num = int(input())\n",
    "    if num == 1: # 1. 과목별 점수 보기\n",
    "        print_sub_score()"
   ]
  },
  {
   "cell_type": "code",
   "execution_count": null,
   "id": "038ed6ff",
   "metadata": {},
   "outputs": [],
   "source": [
    "scores = {'국어' : 80, '영어' : 75, '수학' : 90, '과학' : 85}\n",
    "\n",
    "for key in scores:\n",
    "    print(f'{key} = {scores[key]}’)\n",
    "\n",
    "# 결과 화면\n",
    "# 국어 = 80\n",
    "# 영어 = 75\n",
    "# 수학 = 90\n",
    "# 과학 = 85"
   ]
  }
 ],
 "metadata": {
  "kernelspec": {
   "display_name": "Python 3 (ipykernel)",
   "language": "python",
   "name": "python3"
  },
  "language_info": {
   "codemirror_mode": {
    "name": "ipython",
    "version": 3
   },
   "file_extension": ".py",
   "mimetype": "text/x-python",
   "name": "python",
   "nbconvert_exporter": "python",
   "pygments_lexer": "ipython3",
   "version": "3.9.13"
  }
 },
 "nbformat": 4,
 "nbformat_minor": 5
}
