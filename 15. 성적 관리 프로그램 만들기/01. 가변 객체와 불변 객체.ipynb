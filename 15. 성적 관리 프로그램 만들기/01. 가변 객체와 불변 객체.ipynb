{
 "cells": [
  {
   "cell_type": "code",
   "execution_count": 1,
   "id": "ade86366",
   "metadata": {},
   "outputs": [],
   "source": [
    "my_list = [60, 95, 85, 75]"
   ]
  },
  {
   "cell_type": "code",
   "execution_count": 2,
   "id": "3e850e0c",
   "metadata": {},
   "outputs": [],
   "source": [
    "# 가변(Mutable) 객체\n",
    "check_list = my_list\n",
    "check_list.sort()"
   ]
  },
  {
   "cell_type": "code",
   "execution_count": 3,
   "id": "b2acb031",
   "metadata": {},
   "outputs": [
    {
     "name": "stdout",
     "output_type": "stream",
     "text": [
      "[60, 75, 85, 95]\n",
      "[60, 75, 85, 95]\n"
     ]
    }
   ],
   "source": [
    "print(my_list) # [60, 75, 85, 95]\n",
    "print(check_list) # [60, 75, 85, 95]"
   ]
  },
  {
   "cell_type": "code",
   "execution_count": 5,
   "id": "38dfb3e3",
   "metadata": {},
   "outputs": [
    {
     "name": "stdout",
     "output_type": "stream",
     "text": [
      "1292837532224\n",
      "1292837532224\n"
     ]
    }
   ],
   "source": [
    "print(id(my_list))\n",
    "print(id(check_list))"
   ]
  },
  {
   "cell_type": "code",
   "execution_count": 6,
   "id": "7aa28ba5",
   "metadata": {},
   "outputs": [
    {
     "name": "stdout",
     "output_type": "stream",
     "text": [
      "90\n",
      "80\n"
     ]
    }
   ],
   "source": [
    "# 불변(Immutable) 객체\n",
    "my_score = 80\n",
    "change_score = my_score\n",
    "my_score = 90\n",
    "\n",
    "print(my_score) # 90\n",
    "print(change_score) # 80"
   ]
  },
  {
   "cell_type": "code",
   "execution_count": 7,
   "id": "42a7e845",
   "metadata": {},
   "outputs": [
    {
     "name": "stdout",
     "output_type": "stream",
     "text": [
      "1294905857168\n",
      "1294905856848\n"
     ]
    }
   ],
   "source": [
    "print(id(my_score))\n",
    "print(id(change_score))"
   ]
  },
  {
   "cell_type": "code",
   "execution_count": 8,
   "id": "e779f7e2",
   "metadata": {},
   "outputs": [
    {
     "name": "stdout",
     "output_type": "stream",
     "text": [
      "1294905856848\n",
      "1294905856848\n",
      "90\n",
      "80\n",
      "1294905857168\n",
      "1294905856848\n"
     ]
    }
   ],
   "source": [
    "my_score = 80\n",
    "change_score = my_score\n",
    "\n",
    "print(id(my_score))     \n",
    "print(id(change_score)) \n",
    "\n",
    "my_score = 90\n",
    "\n",
    "print(my_score) # 90\n",
    "print(change_score) # 80\n",
    "\n",
    "print(id(my_score))     \n",
    "print(id(change_score))"
   ]
  }
 ],
 "metadata": {
  "kernelspec": {
   "display_name": "Python 3 (ipykernel)",
   "language": "python",
   "name": "python3"
  },
  "language_info": {
   "codemirror_mode": {
    "name": "ipython",
    "version": 3
   },
   "file_extension": ".py",
   "mimetype": "text/x-python",
   "name": "python",
   "nbconvert_exporter": "python",
   "pygments_lexer": "ipython3",
   "version": "3.9.13"
  }
 },
 "nbformat": 4,
 "nbformat_minor": 5
}
