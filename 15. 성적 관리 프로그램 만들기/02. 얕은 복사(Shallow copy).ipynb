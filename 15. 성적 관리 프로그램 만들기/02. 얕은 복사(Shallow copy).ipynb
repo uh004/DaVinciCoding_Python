{
 "cells": [
  {
   "cell_type": "code",
   "execution_count": 3,
   "id": "a85d04b3",
   "metadata": {},
   "outputs": [
    {
     "name": "stdout",
     "output_type": "stream",
     "text": [
      "id = 1968928606656 , data = [85, 95, 60, 75]\n",
      "id = 1968928605568 , data = [85, 30, 40, 50, 60, 75]\n"
     ]
    }
   ],
   "source": [
    "# copy 모듈을 사용한 얕은 복사\n",
    "import copy\n",
    "\n",
    "my_list = [85, 95, 60, 75]\n",
    "check_list = copy.copy(my_list)\n",
    "check_list[1:3] = [30, 40, 50, 60]\n",
    "print(\"id =\", id(my_list), \", data =\", my_list) \n",
    "print(\"id =\", id(check_list), \", data =\", check_list) "
   ]
  },
  {
   "cell_type": "code",
   "execution_count": 4,
   "id": "fc1451e9",
   "metadata": {},
   "outputs": [
    {
     "name": "stdout",
     "output_type": "stream",
     "text": [
      "id = 1968928597632 , data = [85, 95, 60, 75]\n",
      "id = 1968928598336 , data = [60, 75, 85, 95]\n"
     ]
    }
   ],
   "source": [
    "# copy 함수를 사용한 얕은 복사\n",
    "my_list = [85, 95, 60, 75]\n",
    "check_list = my_list.copy()\n",
    "check_list.sort()\n",
    "print(\"id =\", id(my_list), \", data =\", my_list) \n",
    "print(\"id =\", id(check_list), \", data =\", check_list) "
   ]
  },
  {
   "cell_type": "code",
   "execution_count": 5,
   "id": "8fdf6c68",
   "metadata": {},
   "outputs": [
    {
     "name": "stdout",
     "output_type": "stream",
     "text": [
      "id = 1968928601344 , data = [85, 95, 60, 75]\n",
      "id = 1968928607296 , data = [85, 60]\n"
     ]
    }
   ],
   "source": [
    "# 슬라이싱을 이용한 얕은 복사\n",
    "my_list = [85, 95, 60, 75]\n",
    "\n",
    "check_list = my_list[:]\n",
    "\n",
    "del check_list[1::2]\n",
    "print(\"id =\", id(my_list), \", data =\", my_list) \n",
    "print(\"id =\", id(check_list), \", data =\", check_list) "
   ]
  },
  {
   "cell_type": "code",
   "execution_count": 6,
   "id": "87c51d81",
   "metadata": {},
   "outputs": [
    {
     "name": "stdout",
     "output_type": "stream",
     "text": [
      "[[40, 50, 60], [60, 70, 80]]\n",
      "[[30, 40, 50], [60, 70, 80]]\n"
     ]
    }
   ],
   "source": [
    "# 2차 리스트의 얕은 복사\n",
    "my_score = [[30, 40, 50], [60, 70, 80]]\n",
    "\n",
    "check_score = my_score.copy()\n",
    "my_score[0] = [40, 50, 60]\n",
    "\n",
    "print(my_score)     # [[40, 50, 60], [60, 70, 80]]\n",
    "print(check_score)  # [[30, 40, 50], [60, 70, 80]]"
   ]
  },
  {
   "cell_type": "code",
   "execution_count": 7,
   "id": "24a3825a",
   "metadata": {},
   "outputs": [
    {
     "name": "stdout",
     "output_type": "stream",
     "text": [
      "[[40, 50, 60], [60, 70, 100]]\n",
      "[[30, 40, 50], [60, 70, 100]]\n"
     ]
    }
   ],
   "source": [
    "my_score[1][2] = 100\n",
    "\n",
    "print(my_score)     # [[40, 50, 60], [60, 70, 100]]\n",
    "print(check_score)  # [[30, 40, 50], [60, 70, 100]]"
   ]
  }
 ],
 "metadata": {
  "kernelspec": {
   "display_name": "Python 3 (ipykernel)",
   "language": "python",
   "name": "python3"
  },
  "language_info": {
   "codemirror_mode": {
    "name": "ipython",
    "version": 3
   },
   "file_extension": ".py",
   "mimetype": "text/x-python",
   "name": "python",
   "nbconvert_exporter": "python",
   "pygments_lexer": "ipython3",
   "version": "3.9.13"
  }
 },
 "nbformat": 4,
 "nbformat_minor": 5
}
