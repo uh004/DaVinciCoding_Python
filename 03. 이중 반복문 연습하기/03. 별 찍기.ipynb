{
 "cells": [
  {
   "cell_type": "markdown",
   "id": "d85d6ebd",
   "metadata": {},
   "source": [
    "# 별 찍기\n",
    "별 찍기는 반복문을 제대로 익히기에 아주 좋은 방법입니다. 숫자를 입력받고, 해당 숫자에 맞게 별이 찍히는 프로그램을 작성하는 것입니다. 가령 5를 입력하면 첫 번째 줄에는 한 개의 별, 두 번째 줄에는 두 개의 별, 그리고 마지막 줄에는 다섯 개의 별이 입력되는 것입니다. 어떤 모습인지 직접 코딩을 통해 알아보도록 하겠습니다."
   ]
  },
  {
   "cell_type": "code",
   "execution_count": 1,
   "id": "4552609d",
   "metadata": {},
   "outputs": [
    {
     "name": "stdout",
     "output_type": "stream",
     "text": [
      "숫자를 입력하세요.5\n",
      "*\n",
      "**\n",
      "***\n",
      "****\n",
      "*****\n"
     ]
    }
   ],
   "source": [
    "num = int(input(\"숫자를 입력하세요.\"))\n",
    "\n",
    "for i in range(1, num+1):\n",
    "    print(\"*\" * i)"
   ]
  },
  {
   "cell_type": "code",
   "execution_count": 2,
   "id": "5799c4a4",
   "metadata": {},
   "outputs": [
    {
     "name": "stdout",
     "output_type": "stream",
     "text": [
      "숫자를 입력하세요5\n",
      "*\n",
      "**\n",
      "***\n",
      "****\n",
      "*****\n"
     ]
    }
   ],
   "source": [
    "num = int(input(\"숫자를 입력하세요\"))\n",
    "\n",
    "for i in range(1, num+1):   # 별 찍기의 열을 나타냅니다.   \n",
    "    for j in range(1, i+1): # 별 찍기의 행을 나타냅니다.\n",
    "        print(\"*\", end='')  # end=''는 라인 변경을 하지 않습니다.\n",
    "    print()                 # 행을 전부 찍고 나면 라인을 변경합니다."
   ]
  },
  {
   "cell_type": "code",
   "execution_count": 3,
   "id": "9c2466e0",
   "metadata": {},
   "outputs": [
    {
     "name": "stdout",
     "output_type": "stream",
     "text": [
      "숫자를 입력하세요5\n",
      "*****\n",
      "****\n",
      "***\n",
      "**\n",
      "*\n",
      "숫자를 입력하세요5\n",
      "*****\n",
      "****\n",
      "***\n",
      "**\n",
      "*\n"
     ]
    }
   ],
   "source": [
    "# 반복문 하나만 쓰는 방법\n",
    "num = int(input(\"숫자를 입력하세요\"))\n",
    "\n",
    "for i in range(num, 0, -1):   # 별찍기의 열을 나타냅니다.   \n",
    "    print(\"*\" * i)\n",
    "\n",
    "# 이중 반복문 쓰는 방법\n",
    "num = int(input(\"숫자를 입력하세요\"))\n",
    "\n",
    "for i in range(num, 0, -1):   # 별 찍기의 열을 나타냅니다.   \n",
    "    for j in range(i, 0, -1): # 별 찍기의 행을 나타냅니다.\n",
    "        print(\"*\", end='')  # end=''는 라인 변경을 하지 않습니다.\n",
    "    print()                 # 행을 전부 찍고 나면 라인을 변경합니다."
   ]
  },
  {
   "cell_type": "code",
   "execution_count": 4,
   "id": "05d270b5",
   "metadata": {},
   "outputs": [
    {
     "name": "stdout",
     "output_type": "stream",
     "text": [
      "5\n",
      "    *\n",
      "   **\n",
      "  ***\n",
      " ****\n",
      "*****\n"
     ]
    }
   ],
   "source": [
    "n = int(input())\n",
    "\n",
    "for i in range(1, n+1):   \n",
    "    # 빈칸을 (n - i) 번 찍어준 뒤 i번 별을 찍어준다\n",
    "    print(\" \" * (n-i) + \"*\" * i)"
   ]
  }
 ],
 "metadata": {
  "kernelspec": {
   "display_name": "Python 3 (ipykernel)",
   "language": "python",
   "name": "python3"
  },
  "language_info": {
   "codemirror_mode": {
    "name": "ipython",
    "version": 3
   },
   "file_extension": ".py",
   "mimetype": "text/x-python",
   "name": "python",
   "nbconvert_exporter": "python",
   "pygments_lexer": "ipython3",
   "version": "3.9.13"
  }
 },
 "nbformat": 4,
 "nbformat_minor": 5
}
