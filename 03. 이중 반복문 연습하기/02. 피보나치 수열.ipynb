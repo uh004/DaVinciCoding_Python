{
 "cells": [
  {
   "cell_type": "markdown",
   "id": "5ab952f6",
   "metadata": {},
   "source": [
    "# 피보나치 수열\n",
    "- 피보나치수열(Fibonacci numbers)이라는 것이 있습니다. 이것은 첫 번째, 두 번째 수가 1이고 그 뒤의 모든 항은 바로 앞 두 항의 합인 수열입니다.\n",
    "- 1, 1, 2, 3, 5, 8, 13, 21, 34 ... 앞에서 배운 반복문을 사용하여 피보나치수열을 10개까지 출력하는 코드를 작성해 보겠습니다. 직접 코드를 작성해 보시기 바랍니다."
   ]
  },
  {
   "cell_type": "code",
   "execution_count": 3,
   "id": "3d6e6bdc",
   "metadata": {},
   "outputs": [
    {
     "name": "stdout",
     "output_type": "stream",
     "text": [
      "1\n",
      "1\n",
      "2\n",
      "3\n",
      "5\n",
      "8\n",
      "13\n",
      "21\n",
      "34\n",
      "55\n"
     ]
    }
   ],
   "source": [
    "num1 = 1\n",
    "num2 = 1\n",
    "\n",
    "print(num1)\n",
    "print(num2)\n",
    "\n",
    "for _ in range(10 - 2):\n",
    "    num3 = num1 + num2\n",
    "    print(num3)\n",
    "\n",
    "    num1 = num2\n",
    "    num2 = num3"
   ]
  },
  {
   "cell_type": "markdown",
   "id": "e1e4f10c",
   "metadata": {},
   "source": [
    "피보나치수열은 앞으로도 계속 등장할 것입니다. 지금처럼 for 문을 이용하는 방법, 재귀함수를 이용하는 방법 등 여러 가지 코드의 기능을 배우면서 다양하게 피보나치수열을 작성해 보도록 하겠습니다."
   ]
  }
 ],
 "metadata": {
  "kernelspec": {
   "display_name": "Python 3 (ipykernel)",
   "language": "python",
   "name": "python3"
  },
  "language_info": {
   "codemirror_mode": {
    "name": "ipython",
    "version": 3
   },
   "file_extension": ".py",
   "mimetype": "text/x-python",
   "name": "python",
   "nbconvert_exporter": "python",
   "pygments_lexer": "ipython3",
   "version": "3.9.13"
  }
 },
 "nbformat": 4,
 "nbformat_minor": 5
}
