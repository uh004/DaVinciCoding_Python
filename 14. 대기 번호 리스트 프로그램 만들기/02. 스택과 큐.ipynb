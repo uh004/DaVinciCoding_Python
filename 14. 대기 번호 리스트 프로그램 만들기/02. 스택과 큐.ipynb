{
 "cells": [
  {
   "cell_type": "markdown",
   "id": "739caea7",
   "metadata": {},
   "source": [
    "# pop 함수로 요소 꺼내기\n",
    "- pop(인덱스번호) 함수를 사용하면 리스트에서 입력한 인덱스 번호의 요소를 리턴하고 해당 요소를 리스트에서 삭제합니다."
   ]
  },
  {
   "cell_type": "markdown",
   "id": "fbc9f2de",
   "metadata": {},
   "source": [
    "# Stack\n",
    "- 스택(Stack)은 컴퓨터의 가장 기본적인 자료구조중 하나 입니다. 후입선출(Last in, First Out)의 형태를 가지고 있는 자료구조로 가장 마지막에 입력된 데이터가 가장 먼저 제거되는 구조 입니다."
   ]
  },
  {
   "cell_type": "markdown",
   "id": "c1663487",
   "metadata": {},
   "source": [
    "# Queue\n",
    "- 스택과 반대로 선입선출(First in, First Out) 형태의 자료구조가 큐 입니다. 큐에 데이터를 넣을 때에는 스택과 마찬가지로 마지막에 데이터를 추가합니다. 하지만 데이터를 꺼낼 때에는 가장 앞에 있는 것을 먼저 꺼냅니다."
   ]
  },
  {
   "cell_type": "markdown",
   "id": "f051fb0f",
   "metadata": {},
   "source": [
    "# Deque\n",
    "-  파이썬 내장 모듈인 collections 에 있는 것으로 스택과 큐를 합쳐놓은 듯한 자료구라 생각하면 됩니다."
   ]
  },
  {
   "cell_type": "code",
   "execution_count": 3,
   "id": "199020bf",
   "metadata": {},
   "outputs": [
    {
     "name": "stdout",
     "output_type": "stream",
     "text": [
      "deque([2, 1])\n",
      "1\n",
      "2\n"
     ]
    }
   ],
   "source": [
    "from collections import deque\n",
    "\n",
    "dq = deque() # 덱 생성\n",
    "\n",
    "dq.append(1) # dq에 뒤로 데이터 넣기\n",
    "dq.appendleft(2) # dq에 앞으로 데이터 넣기\n",
    "\n",
    "print(dq) # deque([2, 1])\n",
    "\n",
    "print(dq.pop()) # 1, 맨 뒤의 데이터 꺼내기\n",
    "print(dq.popleft()) # 2, 맨 앞의 데이터 꺼내기"
   ]
  },
  {
   "cell_type": "code",
   "execution_count": 4,
   "id": "7e3a97ad",
   "metadata": {},
   "outputs": [
    {
     "name": "stdout",
     "output_type": "stream",
     "text": [
      "1. 대기 번호 등록\n",
      "2. 대기 번호 보기\n",
      "3. 대기 명단 보기\n",
      "4. 대기 번호 호출\n",
      "5. 프로그램 종료\n",
      "1\n",
      "대기 번호를 입력 하세요12\n",
      "대기 인원은 1명 입니다.\n",
      "1. 대기 번호 등록\n",
      "2. 대기 번호 보기\n",
      "3. 대기 명단 보기\n",
      "4. 대기 번호 호출\n",
      "5. 프로그램 종료\n",
      "1\n",
      "대기 번호를 입력 하세요13\n",
      "대기 인원은 2명 입니다.\n",
      "1. 대기 번호 등록\n",
      "2. 대기 번호 보기\n",
      "3. 대기 명단 보기\n",
      "4. 대기 번호 호출\n",
      "5. 프로그램 종료\n",
      "2\n",
      "대기 순번을 확인 할 번호를 입력 하세요12\n",
      "1 번째 대기중 입니다.\n",
      "1. 대기 번호 등록\n",
      "2. 대기 번호 보기\n",
      "3. 대기 명단 보기\n",
      "4. 대기 번호 호출\n",
      "5. 프로그램 종료\n",
      "3\n",
      "12\n",
      "13\n",
      "1. 대기 번호 등록\n",
      "2. 대기 번호 보기\n",
      "3. 대기 명단 보기\n",
      "4. 대기 번호 호출\n",
      "5. 프로그램 종료\n",
      "4\n",
      "12님 입장하세요.\n",
      "1. 대기 번호 등록\n",
      "2. 대기 번호 보기\n",
      "3. 대기 명단 보기\n",
      "4. 대기 번호 호출\n",
      "5. 프로그램 종료\n",
      "4\n",
      "13님 입장하세요.\n",
      "1. 대기 번호 등록\n",
      "2. 대기 번호 보기\n",
      "3. 대기 명단 보기\n",
      "4. 대기 번호 호출\n",
      "5. 프로그램 종료\n",
      "2\n",
      "대기 순번을 확인 할 번호를 입력 하세요5\n",
      "대기 번호가 존재하지 않습니다.\n",
      "1. 대기 번호 등록\n",
      "2. 대기 번호 보기\n",
      "3. 대기 명단 보기\n",
      "4. 대기 번호 호출\n",
      "5. 프로그램 종료\n",
      "5\n"
     ]
    }
   ],
   "source": [
    "# 전체코드\n",
    "from collections import deque\n",
    "\n",
    "def print_menu():\n",
    "    print(\"1. 대기 번호 등록\")\n",
    "    print(\"2. 대기 번호 보기\")\n",
    "    print(\"3. 대기 명단 보기\")\n",
    "    print(\"4. 대기 번호 호출\")\n",
    "    print(\"5. 프로그램 종료\")\n",
    "\n",
    "def insert_list():\n",
    "    number = input(\"대기 번호를 입력 하세요\")\n",
    "    wating_list.append(number)\n",
    "    print(f\"대기 인원은 {len(wating_list)}명 입니다.\")\n",
    "\n",
    "def show_my_list():\n",
    "    number = input(\"대기 순번을 확인 할 번호를 입력 하세요\")\n",
    "\n",
    "    if number in wating_list: \n",
    "        cnt = wating_list.index(number)\n",
    "        print(f'{cnt+1} 번째 대기중 입니다.')\n",
    "    else:\n",
    "        print(\"대기 번호가 존재하지 않습니다.\")\n",
    "\n",
    "def show_all_list():\n",
    "    if wating_list:\n",
    "        print(*wating_list, sep=\"\\n\")\n",
    "    else:\n",
    "        print(\"대기 명단이 없습니다.\")\n",
    "\n",
    "def call_list():\n",
    "    next = wating_list.popleft()\n",
    "    print(f'{next}님 입장하세요.')\n",
    "\n",
    "wating_list = deque()\n",
    "cmd = 1\n",
    "while cmd != 6:\n",
    "    print_menu()\n",
    "    cmd = int(input())\n",
    "    if cmd == 1:\n",
    "        insert_list()\n",
    "    elif cmd == 2:\n",
    "        show_my_list()\n",
    "    elif cmd == 3:\n",
    "        show_all_list()\n",
    "    elif cmd == 4:\n",
    "        call_list()\n",
    "    elif cmd == 5:\n",
    "        break "
   ]
  }
 ],
 "metadata": {
  "kernelspec": {
   "display_name": "Python 3 (ipykernel)",
   "language": "python",
   "name": "python3"
  },
  "language_info": {
   "codemirror_mode": {
    "name": "ipython",
    "version": 3
   },
   "file_extension": ".py",
   "mimetype": "text/x-python",
   "name": "python",
   "nbconvert_exporter": "python",
   "pygments_lexer": "ipython3",
   "version": "3.9.13"
  }
 },
 "nbformat": 4,
 "nbformat_minor": 5
}
