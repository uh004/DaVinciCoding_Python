{
 "cells": [
  {
   "cell_type": "markdown",
   "id": "0bbf45fe",
   "metadata": {},
   "source": [
    "# 메뉴 정하기\n",
    "1. 대기 번호 등록하기\n",
    "2. 나의 대기 번호\n",
    "3. 대기 명단 보기\n",
    "4. 다음 번호 호출하기\n",
    "5. 종료하기"
   ]
  },
  {
   "cell_type": "code",
   "execution_count": 5,
   "id": "85311c75",
   "metadata": {},
   "outputs": [
    {
     "name": "stdout",
     "output_type": "stream",
     "text": [
      "1. 대기 번호 등록\n",
      "2. 나의 대기 번호 보기\n",
      "3. 전체 대기 명단 보기\n",
      "4. 대기 번호 호출\n",
      "5. 프로그램 종료\n",
      "1\n",
      "대기할 전화번호를 입력 하세요123\n",
      "현재 대기 인원은 1명 입니다.\n",
      "1. 대기 번호 등록\n",
      "2. 나의 대기 번호 보기\n",
      "3. 전체 대기 명단 보기\n",
      "4. 대기 번호 호출\n",
      "5. 프로그램 종료\n",
      "1\n",
      "대기할 전화번호를 입력 하세요124\n",
      "현재 대기 인원은 2명 입니다.\n",
      "1. 대기 번호 등록\n",
      "2. 나의 대기 번호 보기\n",
      "3. 전체 대기 명단 보기\n",
      "4. 대기 번호 호출\n",
      "5. 프로그램 종료\n",
      "2\n",
      "대기 순번을 확인 할 번호를 입력 하세요124\n",
      "2 번째 대기중 입니다.\n",
      "1. 대기 번호 등록\n",
      "2. 나의 대기 번호 보기\n",
      "3. 전체 대기 명단 보기\n",
      "4. 대기 번호 호출\n",
      "5. 프로그램 종료\n",
      "5\n"
     ]
    }
   ],
   "source": [
    "def print_menu():\n",
    "    print(\"1. 대기 번호 등록\")\n",
    "    print(\"2. 나의 대기 번호 보기\")\n",
    "    print(\"3. 전체 대기 명단 보기\")\n",
    "    print(\"4. 대기 번호 호출\")\n",
    "    print(\"5. 프로그램 종료\")\n",
    "\n",
    "def insert_list():\n",
    "    number = input(\"대기할 전화번호를 입력 하세요\")\n",
    "    wating_list.append(number)\n",
    "    print(f\"현재 대기 인원은 {len(wating_list)}명 입니다.\")\n",
    "    \n",
    "def show_my_list():\n",
    "    number = input(\"대기 순번을 확인 할 번호를 입력 하세요\")\n",
    "\n",
    "    if number in wating_list: \n",
    "        cnt = wating_list.index(number)\n",
    "        print(f'{cnt+1} 번째 대기중 입니다.')\n",
    "    else:\n",
    "        print(\"대기 번호가 존재하지 않습니다.\")\n",
    "\n",
    "def show_all_list():\n",
    "    if wating_list:\n",
    "        print(*wating_list, sep=\"\\n\")\n",
    "    else:\n",
    "        print(\"대기 명단이 없습니다.\")\n",
    "\n",
    "wating_list = []\n",
    "cmd = 1\n",
    "while cmd != 5:\n",
    "    print_menu()\n",
    "    cmd = int(input())\n",
    "    if cmd == 1:\n",
    "        insert_list()\n",
    "    elif cmd == 2:\n",
    "        show_my_list()\n",
    "    elif cmd == 3:\n",
    "        show_all_list()\n",
    "    elif cmd == 4:\n",
    "        call_list()\n",
    "    elif cmd == 5:\n",
    "        break"
   ]
  }
 ],
 "metadata": {
  "kernelspec": {
   "display_name": "Python 3 (ipykernel)",
   "language": "python",
   "name": "python3"
  },
  "language_info": {
   "codemirror_mode": {
    "name": "ipython",
    "version": 3
   },
   "file_extension": ".py",
   "mimetype": "text/x-python",
   "name": "python",
   "nbconvert_exporter": "python",
   "pygments_lexer": "ipython3",
   "version": "3.9.13"
  }
 },
 "nbformat": 4,
 "nbformat_minor": 5
}
