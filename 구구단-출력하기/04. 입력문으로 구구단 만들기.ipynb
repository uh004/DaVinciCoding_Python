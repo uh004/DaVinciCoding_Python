{
 "cells": [
  {
   "cell_type": "code",
   "execution_count": 7,
   "id": "63af0c64",
   "metadata": {},
   "outputs": [
    {
     "name": "stdout",
     "output_type": "stream",
     "text": [
      "몇 단을 출력할까요?2\n",
      "2 * 1 = 2\n",
      "2 * 2 = 22\n",
      "2 * 3 = 222\n",
      "2 * 4 = 2222\n",
      "2 * 5 = 22222\n",
      "2 * 6 = 222222\n",
      "2 * 7 = 2222222\n",
      "2 * 8 = 22222222\n",
      "2 * 9 = 222222222\n"
     ]
    }
   ],
   "source": [
    "# input에 받는 변수가 문자열이라서 이런 결과가 나옴 -> 자료형 변환\n",
    "num = input(\"몇 단을 출력할까요?\")\n",
    "for i in range(1, 9+1):\n",
    "    print(num, \"*\", i, \"=\", num * i)"
   ]
  },
  {
   "cell_type": "code",
   "execution_count": 8,
   "id": "f0547351",
   "metadata": {},
   "outputs": [
    {
     "name": "stdout",
     "output_type": "stream",
     "text": [
      "몇 단을 출력할까요?2\n",
      "2 * 1 = 2\n",
      "2 * 2 = 4\n",
      "2 * 3 = 6\n",
      "2 * 4 = 8\n",
      "2 * 5 = 10\n",
      "2 * 6 = 12\n",
      "2 * 7 = 14\n",
      "2 * 8 = 16\n",
      "2 * 9 = 18\n"
     ]
    }
   ],
   "source": [
    "num = int(input(\"몇 단을 출력할까요?\")) # <- input에 int를 감싸서 정수로 받기\n",
    "for i in range(1, 9+1):\n",
    "    print(num, \"*\", i, \"=\", num * i)"
   ]
  }
 ],
 "metadata": {
  "kernelspec": {
   "display_name": "Python 3 (ipykernel)",
   "language": "python",
   "name": "python3"
  },
  "language_info": {
   "codemirror_mode": {
    "name": "ipython",
    "version": 3
   },
   "file_extension": ".py",
   "mimetype": "text/x-python",
   "name": "python",
   "nbconvert_exporter": "python",
   "pygments_lexer": "ipython3",
   "version": "3.9.13"
  }
 },
 "nbformat": 4,
 "nbformat_minor": 5
}
