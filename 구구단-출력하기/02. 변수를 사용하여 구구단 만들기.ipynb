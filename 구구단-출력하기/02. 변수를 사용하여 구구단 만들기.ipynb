{
 "cells": [
  {
   "cell_type": "markdown",
   "id": "dbd284a7",
   "metadata": {},
   "source": [
    "# 변수를 선언하여 구구단 출력하기"
   ]
  },
  {
   "cell_type": "code",
   "execution_count": 2,
   "id": "367bbf75",
   "metadata": {},
   "outputs": [
    {
     "name": "stdout",
     "output_type": "stream",
     "text": [
      "2 * 1 = 2\n",
      "2 * 2 = 4\n",
      "2 * 3 = 6\n",
      "2 * 4 = 8\n",
      "2 * 5 = 10\n",
      "2 * 6 = 12\n",
      "2 * 7 = 14\n",
      "2 * 8 = 16\n",
      "2 * 9 = 18\n"
     ]
    }
   ],
   "source": [
    "num = 2\n",
    "print(num, \"* 1 =\", num * 1)\n",
    "print(num, \"* 2 =\", num * 2)\n",
    "print(num, \"* 3 =\", num * 3)\n",
    "print(num, \"* 4 =\", num * 4)\n",
    "print(num, \"* 5 =\", num * 5)\n",
    "print(num, \"* 6 =\", num * 6)\n",
    "print(num, \"* 7 =\", num * 7)\n",
    "print(num, \"* 8 =\", num * 8)\n",
    "print(num, \"* 9 =\", num * 9)"
   ]
  },
  {
   "cell_type": "markdown",
   "id": "7a3e865b",
   "metadata": {},
   "source": [
    "# 대입 연산자"
   ]
  },
  {
   "cell_type": "code",
   "execution_count": 3,
   "id": "cc221109",
   "metadata": {},
   "outputs": [
    {
     "name": "stdout",
     "output_type": "stream",
     "text": [
      "2 * 1 = 2\n",
      "2 * 2 = 4\n",
      "2 * 3 = 6\n",
      "2 * 4 = 8\n",
      "2 * 5 = 10\n",
      "2 * 6 = 12\n",
      "2 * 7 = 14\n",
      "2 * 8 = 16\n",
      "2 * 9 = 18\n"
     ]
    }
   ],
   "source": [
    "num = 2\n",
    "idx = 1\n",
    "print(num, \"*\", idx, \"=\", num * idx)\n",
    "idx += 1\n",
    "print(num, \"*\", idx, \"=\", num * idx)\n",
    "idx += 1\n",
    "print(num, \"*\", idx, \"=\", num * idx)\n",
    "idx += 1\n",
    "print(num, \"*\", idx, \"=\", num * idx)\n",
    "idx += 1\n",
    "print(num, \"*\", idx, \"=\", num * idx)\n",
    "idx += 1\n",
    "print(num, \"*\", idx, \"=\", num * idx)\n",
    "idx += 1\n",
    "print(num, \"*\", idx, \"=\", num * idx)\n",
    "idx += 1\n",
    "print(num, \"*\", idx, \"=\", num * idx)\n",
    "idx += 1\n",
    "print(num, \"*\", idx, \"=\", num * idx)\n"
   ]
  }
 ],
 "metadata": {
  "kernelspec": {
   "display_name": "Python 3 (ipykernel)",
   "language": "python",
   "name": "python3"
  },
  "language_info": {
   "codemirror_mode": {
    "name": "ipython",
    "version": 3
   },
   "file_extension": ".py",
   "mimetype": "text/x-python",
   "name": "python",
   "nbconvert_exporter": "python",
   "pygments_lexer": "ipython3",
   "version": "3.9.13"
  }
 },
 "nbformat": 4,
 "nbformat_minor": 5
}
