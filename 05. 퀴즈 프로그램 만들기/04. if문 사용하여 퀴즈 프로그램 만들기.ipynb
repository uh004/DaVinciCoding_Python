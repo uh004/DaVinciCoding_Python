{
 "cells": [
  {
   "cell_type": "markdown",
   "id": "3617ee44",
   "metadata": {},
   "source": [
    "# 동작 알고리즘\n",
    "1. 문제를 출제한다.\n",
    "- 앞에서 배운 print문으로 해결 됩니다.\n",
    "2. 사용자의 입력을 받는다.\n",
    "- 사용자의 입력은 input문으로 입력 받을 수 있습니다.\n",
    "- 1, 2번을 input문 하나로도 해결 가능합니다.\n",
    "3. 입력된 결과와 정답을 비교한다.\n",
    "- 5장에서 배운 조건문으로 해결 합니다.\n",
    "4. 정답 여부를 사용자에게 알려준다.\n",
    "- 마지막인 4번째인 정답인지 아닌지도 print문으로 출력하면 됩니다."
   ]
  },
  {
   "cell_type": "markdown",
   "id": "bc3ce17c",
   "metadata": {},
   "source": [
    "# 코드 작성\n",
    "입력된 결과와 정답이 맞는지 비교하는 부분인 조건문을 활용하여 5개의 문제를 출제해서 맞을 때마다 20점을 얻을 수 있는 간단한 퀴즈 프로그램을 만들어 보겠습니다."
   ]
  },
  {
   "cell_type": "code",
   "execution_count": 1,
   "id": "719808ee",
   "metadata": {},
   "outputs": [
    {
     "name": "stdout",
     "output_type": "stream",
     "text": [
      "3 * 6 = ? 18\n",
      "맞았습니다.\n",
      "7 * 8 = ? 56\n",
      "맞았습니다.\n",
      "2 * 9 = ? 18\n",
      "맞았습니다.\n",
      "6 * 4 = ? 24\n",
      "맞았습니다.\n",
      "9 * 3 = ? 27\n",
      "맞았습니다.\n",
      "최종 점수는 100 점 입니다.\n"
     ]
    }
   ],
   "source": [
    "score = 0\n",
    "\n",
    "result = int(input('3 * 6 = ? '))\n",
    "if result == 3 * 6:\n",
    "    score += 20\n",
    "    print(\"맞았습니다.\")\n",
    "else:\n",
    "    print(\"틀렸습니다.\")\n",
    "\n",
    "result = int(input('7 * 8 = ? '))\n",
    "if result == 7 * 8:\n",
    "    score += 20\n",
    "    print(\"맞았습니다.\")\n",
    "else:\n",
    "    print(\"틀렸습니다.\")\n",
    "\n",
    "result = int(input('2 * 9 = ? '))\n",
    "if result == 2 * 9:\n",
    "    score += 20\n",
    "    print(\"맞았습니다.\")\n",
    "else:\n",
    "    print(\"틀렸습니다.\")\n",
    "\n",
    "result = int(input('6 * 4 = ? '))\n",
    "if result == 6 * 4:\n",
    "    score += 20\n",
    "    print(\"맞았습니다.\")\n",
    "else:\n",
    "    print(\"틀렸습니다.\")\n",
    "\n",
    "result = int(input('9 * 3 = ? '))\n",
    "if result == 9 * 3:\n",
    "    score += 20\n",
    "    print(\"맞았습니다.\")\n",
    "else:\n",
    "    print(\"틀렸습니다.\")\n",
    "\n",
    "print(\"최종 점수는\", score, \"점 입니다.\")"
   ]
  }
 ],
 "metadata": {
  "kernelspec": {
   "display_name": "Python 3 (ipykernel)",
   "language": "python",
   "name": "python3"
  },
  "language_info": {
   "codemirror_mode": {
    "name": "ipython",
    "version": 3
   },
   "file_extension": ".py",
   "mimetype": "text/x-python",
   "name": "python",
   "nbconvert_exporter": "python",
   "pygments_lexer": "ipython3",
   "version": "3.9.13"
  }
 },
 "nbformat": 4,
 "nbformat_minor": 5
}
