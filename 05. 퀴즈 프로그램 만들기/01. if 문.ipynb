{
 "cells": [
  {
   "cell_type": "markdown",
   "id": "add09396",
   "metadata": {},
   "source": [
    "# 조건문\n",
    "참과 거짓을 비교하는 구문을 조건문 또는 if 문이라고도 합니다. 영어 if 는 \"만약\" 이라는 뜻입니다. 조건문은 조건이 참일 경우 어떤 코드를 실행할지, 거짓일 경우 어떤 코드를 실행할지를 정해줄 수 있습니다."
   ]
  },
  {
   "cell_type": "code",
   "execution_count": 1,
   "id": "5f3e6b94",
   "metadata": {},
   "outputs": [
    {
     "name": "stdout",
     "output_type": "stream",
     "text": [
      "a == b False\n",
      "a != b True\n",
      "a < b True\n",
      "a > b False\n",
      "a <= b True\n",
      "a >= b False\n"
     ]
    }
   ],
   "source": [
    "a = 1 # a의 값은 1로 정의\n",
    "b = 2 # b의 값은 2로 정의\n",
    "\n",
    "print(\"a == b\", a == b) # a와 b가 같으면 True\n",
    "print(\"a != b\", a != b) # a와 b가 다르면 True\n",
    "print(\"a < b\", a < b) # b가 더 크면 True\n",
    "print(\"a > b\", a > b) # a가 더 크면 True\n",
    "print(\"a <= b\", a <= b) # b가 크거나 같으면 True\n",
    "print(\"a >= b\", a >= b) # a가 크거나 같으면 True"
   ]
  },
  {
   "cell_type": "code",
   "execution_count": 3,
   "id": "8a6de56f",
   "metadata": {},
   "outputs": [
    {
     "name": "stdout",
     "output_type": "stream",
     "text": [
      "참일 경우 실행 1\n",
      "참일 경우 실행 2\n",
      "들여쓰기가 끝났기 때문에 실행\n"
     ]
    }
   ],
   "source": [
    "result = True\n",
    "if result:\n",
    "    print(\"참일 경우 실행 1\")\n",
    "    print(\"참일 경우 실행 2\")\n",
    "else:\n",
    "    print(\"거짓일 경우 실행 1\")\n",
    "    print(\"거짓일 경우 실행 2\")\n",
    "\n",
    "print(\"들여쓰기가 끝났기 때문에 실행\")"
   ]
  },
  {
   "cell_type": "markdown",
   "id": "9611b84c",
   "metadata": {},
   "source": [
    "# if 문 안의 if 문\n",
    "if 문 안에 if 문이 들어가는 경우가 종종 있습니다. 다양한 조건에 따라 다른 결과를 만들어 낼 수 있습니다. 앞에서 작성했던 여자아이의 경우 19세까지는 소녀라고 하는 부분을 추가해 보겠습니다. and 조건을 빼고 if 문 안에 넣는 방식으로 바꿔주었습니다. 이렇게 다양한 방식으로 조건문을 활용하여 원하는 결과를 얻을 수 있습니다."
   ]
  },
  {
   "cell_type": "code",
   "execution_count": 4,
   "id": "8cd5c1c7",
   "metadata": {},
   "outputs": [
    {
     "name": "stdout",
     "output_type": "stream",
     "text": [
      "여자아이입니다\n"
     ]
    }
   ],
   "source": [
    "gender = '여자'\n",
    "age = 9\n",
    "\n",
    "if gender == '여자':\n",
    "    if age < 10: \n",
    "        print(\"여자아이입니다\") # 여자아이입니다\n",
    "    elif age < 19:\n",
    "        print(\"소녀입니다\") # 소녀입니다\n",
    "    else:\n",
    "        print(\"여성입니다.\")\n",
    "else:\n",
    "    print(\"여자가 아닙니다.\")"
   ]
  }
 ],
 "metadata": {
  "kernelspec": {
   "display_name": "Python 3 (ipykernel)",
   "language": "python",
   "name": "python3"
  },
  "language_info": {
   "codemirror_mode": {
    "name": "ipython",
    "version": 3
   },
   "file_extension": ".py",
   "mimetype": "text/x-python",
   "name": "python",
   "nbconvert_exporter": "python",
   "pygments_lexer": "ipython3",
   "version": "3.9.13"
  }
 },
 "nbformat": 4,
 "nbformat_minor": 5
}
