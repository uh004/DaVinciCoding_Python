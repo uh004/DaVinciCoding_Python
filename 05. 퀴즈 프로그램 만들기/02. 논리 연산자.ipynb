{
 "cells": [
  {
   "cell_type": "markdown",
   "id": "d4d0ad96",
   "metadata": {},
   "source": [
    "# and\n",
    "and는 ‘그리고’ 라는 뜻으로 조건이 모두 참일 경우 참으로 나타냅니다. 여러 조건 중 하나라도 거짓이면 거짓입니다."
   ]
  },
  {
   "cell_type": "code",
   "execution_count": 1,
   "id": "92415f46",
   "metadata": {},
   "outputs": [
    {
     "name": "stdout",
     "output_type": "stream",
     "text": [
      "여자아이 입니다\n"
     ]
    }
   ],
   "source": [
    "gender = '여자'\n",
    "age = 9\n",
    "\n",
    "if gender == '여자' and age < 10: \n",
    "    print(\"여자아이 입니다\") # 여자아이 입니다\n",
    "else:\n",
    "    print(\"여자아이가 아닙니다.\")"
   ]
  },
  {
   "cell_type": "markdown",
   "id": "fa7674cf",
   "metadata": {},
   "source": [
    "# or\n",
    "or는 ‘또는’ 이라는 뜻으로 여러 조건 중 하나만 참이어도 참으로 출력합니다. 여러 조건 모두가 거짓일 때에만 거짓으로 나타납니다."
   ]
  },
  {
   "cell_type": "code",
   "execution_count": 2,
   "id": "290cc9a1",
   "metadata": {},
   "outputs": [
    {
     "name": "stdout",
     "output_type": "stream",
     "text": [
      "남녀노소입니다\n"
     ]
    }
   ],
   "source": [
    "gender = '남자'\n",
    "age = 25\n",
    "\n",
    "if gender == '남자' or gender == '여자' or 60 < age or age < 13:\n",
    "    print(\"남녀노소입니다\") # 남녀노소입니다\n",
    "else:\n",
    "    print(\"남녀노소가 아닙니다.\")"
   ]
  },
  {
   "cell_type": "markdown",
   "id": "85ec8633",
   "metadata": {},
   "source": [
    "# not\n",
    "not ‘아니다’란 뜻으로 참인 경우 거짓이 되고, 거짓이면 참이 됩니다. 복잡하게 들릴 수 있지만 전혀 복잡한 것이 아니라 조건을 뒤집은 것으로 생각하면 됩니다."
   ]
  },
  {
   "cell_type": "code",
   "execution_count": 3,
   "id": "9bca548d",
   "metadata": {},
   "outputs": [
    {
     "name": "stdout",
     "output_type": "stream",
     "text": [
      "참입니다.\n"
     ]
    }
   ],
   "source": [
    "check = True\n",
    "\n",
    "if not check:\n",
    "    print(\"거짓입니다.\")\n",
    "else:\n",
    "    print(\"참입니다.\") # 참입니다."
   ]
  }
 ],
 "metadata": {
  "kernelspec": {
   "display_name": "Python 3 (ipykernel)",
   "language": "python",
   "name": "python3"
  },
  "language_info": {
   "codemirror_mode": {
    "name": "ipython",
    "version": 3
   },
   "file_extension": ".py",
   "mimetype": "text/x-python",
   "name": "python",
   "nbconvert_exporter": "python",
   "pygments_lexer": "ipython3",
   "version": "3.9.13"
  }
 },
 "nbformat": 4,
 "nbformat_minor": 5
}
