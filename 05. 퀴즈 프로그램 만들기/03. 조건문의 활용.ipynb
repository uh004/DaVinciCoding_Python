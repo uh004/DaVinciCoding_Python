{
 "cells": [
  {
   "cell_type": "markdown",
   "id": "bc01a61b",
   "metadata": {},
   "source": [
    "# 한 줄 if 문\n",
    "코딩을 하다보면 여러 줄에 걸쳐 조건문을 사용합니다. 좀 더 간단하게 표현하고 싶을 때 if 문을 한 줄로 줄여 사용할 수 있습니다."
   ]
  },
  {
   "cell_type": "code",
   "execution_count": 1,
   "id": "7a468436",
   "metadata": {},
   "outputs": [
    {
     "name": "stdout",
     "output_type": "stream",
     "text": [
      "청소년\n"
     ]
    }
   ],
   "source": [
    "age = 15\n",
    "print(\"성인\" if 18 < age else \"청소년\") # 청소년"
   ]
  },
  {
   "cell_type": "markdown",
   "id": "7ccf94c7",
   "metadata": {},
   "source": [
    "# 조건 없는 조건\n",
    "if 문을 보다 보면 조건이 없어 보이는 경우가 있습니다. 아래 예를 살펴보겠습니다."
   ]
  },
  {
   "cell_type": "code",
   "execution_count": 2,
   "id": "aaccff45",
   "metadata": {},
   "outputs": [
    {
     "name": "stdout",
     "output_type": "stream",
     "text": [
      "짝수\n"
     ]
    }
   ],
   "source": [
    "num = 10\n",
    "result = \"홀수\" if num % 2 else \"짝수\"\n",
    "print(result) #짝수"
   ]
  },
  {
   "cell_type": "markdown",
   "id": "2c290e40",
   "metadata": {},
   "source": [
    "if문의 조건을 보면 num % 2 가 전부입니다. num % 2는 산술연산자에서 배웠던 것으로 num을 2로 나눈 나머지를 가집니다. 조건이 제대로 정의되지 않은 것 같은데 짝수라는 결과가 result에 들어 있습니다. 이유는 파이썬에서 참과 거짓으로 판단하는 몇 가지가 있기 때문입니다.\n",
    "- 파이썬에서 0 이외 모든 숫자는 True입니다. -1 역시 True입니다. 빈 문자열도 아무것도 없어야 False입니다. 빈칸 하나(‘ ‘) 는 True입니다."
   ]
  }
 ],
 "metadata": {
  "kernelspec": {
   "display_name": "Python 3 (ipykernel)",
   "language": "python",
   "name": "python3"
  },
  "language_info": {
   "codemirror_mode": {
    "name": "ipython",
    "version": 3
   },
   "file_extension": ".py",
   "mimetype": "text/x-python",
   "name": "python",
   "nbconvert_exporter": "python",
   "pygments_lexer": "ipython3",
   "version": "3.9.13"
  }
 },
 "nbformat": 4,
 "nbformat_minor": 5
}
