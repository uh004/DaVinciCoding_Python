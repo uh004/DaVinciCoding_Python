{
 "cells": [
  {
   "cell_type": "code",
   "execution_count": 2,
   "id": "5655815d",
   "metadata": {},
   "outputs": [],
   "source": [
    "# 파이썬을 가지고 용돈 기입장을 만들기\n",
    "money= [['5월1일', 500], ['5월2일', 600], ['5월3일', 300], \n",
    "         ['5월4일', 1000], ['5월5일', 200]]"
   ]
  },
  {
   "cell_type": "code",
   "execution_count": 4,
   "id": "89cad624",
   "metadata": {},
   "outputs": [
    {
     "name": "stdout",
     "output_type": "stream",
     "text": [
      "1. 용돈 입력하기\n",
      "2. 용돈 기입장 보기\n",
      "3. 용돈 가장 많이 쓴 날 보기\n",
      "0. 종료하기\n",
      "무엇을 할까요?3\n",
      "['5월5일', 200]\n",
      "1. 용돈 입력하기\n",
      "2. 용돈 기입장 보기\n",
      "3. 용돈 가장 많이 쓴 날 보기\n",
      "0. 종료하기\n",
      "무엇을 할까요?0\n"
     ]
    }
   ],
   "source": [
    "def add_money():\n",
    "    day = input(\"추가할 날짜를 입력하세요.\")\n",
    "    m = int(input(\"금액을 입력하세요.\"))\n",
    "    money.append([day, m])\n",
    "\n",
    "def show_money(m_list):\n",
    "    for row in m_list:\n",
    "        print(f'{row[0]} : {row[1]}')\n",
    "def get_max_money():\n",
    "    print(max(money)) # ['5월5일', 200] \n",
    "\n",
    "def show_menu():\n",
    "    print(\"1. 용돈 입력하기\")\n",
    "    print(\"2. 용돈 기입장 보기\")\n",
    "    print(\"3. 용돈 가장 많이 쓴 날 보기\")\n",
    "    print(\"0. 종료하기\")\n",
    "\n",
    "ans = 1\n",
    "while ans:    \n",
    "    show_menu()\n",
    "    ans = int(input(\"무엇을 할까요?\"))\n",
    "    if ans == 1:\n",
    "        add_money()\n",
    "    elif ans == 2:\n",
    "        show_money(money)\n",
    "    elif ans == 3:\n",
    "        get_max_money()"
   ]
  }
 ],
 "metadata": {
  "kernelspec": {
   "display_name": "Python 3 (ipykernel)",
   "language": "python",
   "name": "python3"
  },
  "language_info": {
   "codemirror_mode": {
    "name": "ipython",
    "version": 3
   },
   "file_extension": ".py",
   "mimetype": "text/x-python",
   "name": "python",
   "nbconvert_exporter": "python",
   "pygments_lexer": "ipython3",
   "version": "3.9.13"
  }
 },
 "nbformat": 4,
 "nbformat_minor": 5
}
