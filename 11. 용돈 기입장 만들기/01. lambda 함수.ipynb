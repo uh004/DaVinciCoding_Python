{
 "cells": [
  {
   "cell_type": "code",
   "execution_count": 2,
   "id": "3816adb4",
   "metadata": {},
   "outputs": [],
   "source": [
    "money= [['5월1일', 500], ['5월2일', 600], ['5월3일', 300], \n",
    "         ['5월4일', 1000], ['5월5일', 200]]"
   ]
  },
  {
   "cell_type": "code",
   "execution_count": 3,
   "id": "bdc4f032",
   "metadata": {},
   "outputs": [
    {
     "name": "stdout",
     "output_type": "stream",
     "text": [
      "['5월4일', 1000]\n"
     ]
    }
   ],
   "source": [
    "# key 만들기\n",
    "def my_key(m):\n",
    "    return m[1]\n",
    "\n",
    "print(max(money, key=my_key)) # ['5월4일', 1000]"
   ]
  },
  {
   "cell_type": "code",
   "execution_count": 4,
   "id": "c3f8c758",
   "metadata": {},
   "outputs": [
    {
     "name": "stdout",
     "output_type": "stream",
     "text": [
      "30\n"
     ]
    }
   ],
   "source": [
    "# Lambda 이름 없이 사용하는 간단한 함수를 익명함수,  함수로 따로 만들기 애매한 경우에 사용\n",
    "\n",
    "def add(x, y):\n",
    "    return x + y\n",
    "\n",
    "print(add(10, 20)) # 30"
   ]
  },
  {
   "cell_type": "code",
   "execution_count": 5,
   "id": "f5f5cc93",
   "metadata": {},
   "outputs": [
    {
     "name": "stdout",
     "output_type": "stream",
     "text": [
      "30\n"
     ]
    }
   ],
   "source": [
    "# 람다식으로 바꾸기\n",
    "add = lambda x, y : x + y\n",
    "\n",
    "print(add(10, 20)) # 30"
   ]
  },
  {
   "cell_type": "code",
   "execution_count": 6,
   "id": "612d3493",
   "metadata": {},
   "outputs": [
    {
     "name": "stdout",
     "output_type": "stream",
     "text": [
      "['5월4일', 1000]\n"
     ]
    }
   ],
   "source": [
    "print(max(money, key=lambda m : m[1])) # ['5월4일', 1000]"
   ]
  }
 ],
 "metadata": {
  "kernelspec": {
   "display_name": "Python 3 (ipykernel)",
   "language": "python",
   "name": "python3"
  },
  "language_info": {
   "codemirror_mode": {
    "name": "ipython",
    "version": 3
   },
   "file_extension": ".py",
   "mimetype": "text/x-python",
   "name": "python",
   "nbconvert_exporter": "python",
   "pygments_lexer": "ipython3",
   "version": "3.9.13"
  }
 },
 "nbformat": 4,
 "nbformat_minor": 5
}
