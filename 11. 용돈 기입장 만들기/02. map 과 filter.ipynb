{
 "cells": [
  {
   "cell_type": "code",
   "execution_count": 1,
   "id": "f425a3d0",
   "metadata": {},
   "outputs": [],
   "source": [
    "# map\n",
    "money= [['5월1일', 500], ['5월2일', 600], ['5월3일', 300], \n",
    "         ['5월4일', 1000], ['5월5일', 200]]"
   ]
  },
  {
   "cell_type": "code",
   "execution_count": 7,
   "id": "243f53fc",
   "metadata": {},
   "outputs": [
    {
     "name": "stdout",
     "output_type": "stream",
     "text": [
      "1. 용돈 입력하기\n",
      "2. 용돈 기입장 보기\n",
      "3. 용돈 가장 많이 쓴 날 보기\n",
      "0. 종료하기\n",
      "무엇을 할까요?0\n"
     ]
    }
   ],
   "source": [
    "def add_money():\n",
    "    day = input(\"추가할 날짜를 입력하세요.\")\n",
    "    m = int(input(\"금액을 입력하세요.\"))\n",
    "    money.append([day, m])\n",
    "\n",
    "def show_money(m_list):\n",
    "    for row in m_list:\n",
    "        print(f'{row[0]} : {row[1]}')\n",
    "def get_max_money():\n",
    "    print(max(money)) # ['5월5일', 200] \n",
    "\n",
    "def show_dollar():\n",
    "        won_to_dollar = 0.00074\n",
    "        dollar = []\n",
    "        for row in money:\n",
    "            day = row[1]\n",
    "            d_money = row[1] * won_to_dollar\n",
    "            dollar.append([day, d_money])\n",
    "\n",
    "        show_money(dollar)\n",
    "\n",
    "def show_menu():\n",
    "    print(\"1. 용돈 입력하기\")\n",
    "    print(\"2. 용돈 기입장 보기\")\n",
    "    print(\"3. 용돈 가장 많이 쓴 날 보기\")\n",
    "    print(\"5. 달러로 변환한 금액 보기\")\n",
    "    print(\"0. 종료하기\")\n",
    "\n",
    "ans = 1\n",
    "while ans:    \n",
    "    show_menu()\n",
    "    ans = int(input(\"무엇을 할까요?\"))\n",
    "    if ans == 1:\n",
    "        add_money()\n",
    "    elif ans == 2:\n",
    "        show_money(money)\n",
    "    elif ans == 3:\n",
    "        get_max_money()\n",
    "    elif ans == 5:\n",
    "        show_dollar()"
   ]
  },
  {
   "cell_type": "code",
   "execution_count": 8,
   "id": "a8125f53",
   "metadata": {},
   "outputs": [
    {
     "name": "stdout",
     "output_type": "stream",
     "text": [
      "['5월1일', 500] ['5월2일', 600] ['5월4일', 1000]\n"
     ]
    }
   ],
   "source": [
    "# filter 조건을 걸어 조건에 맞는 항목들만 가져오는 것\n",
    "print(*filter(lambda m : m[1] >= 500, money))\n",
    "# ['5월1일', 500] ['5월2일', 600] ['5월4일', 1000]"
   ]
  },
  {
   "cell_type": "code",
   "execution_count": 9,
   "id": "be471358",
   "metadata": {},
   "outputs": [
    {
     "name": "stdout",
     "output_type": "stream",
     "text": [
      "['5월2일', 600] ['5월3일', 300]\n"
     ]
    }
   ],
   "source": [
    "print(*filter(lambda m : m[1] % 3 == 0, money))\n",
    "# ['5월2일', 600] ['5월3일', 300]"
   ]
  }
 ],
 "metadata": {
  "kernelspec": {
   "display_name": "Python 3 (ipykernel)",
   "language": "python",
   "name": "python3"
  },
  "language_info": {
   "codemirror_mode": {
    "name": "ipython",
    "version": 3
   },
   "file_extension": ".py",
   "mimetype": "text/x-python",
   "name": "python",
   "nbconvert_exporter": "python",
   "pygments_lexer": "ipython3",
   "version": "3.9.13"
  }
 },
 "nbformat": 4,
 "nbformat_minor": 5
}
