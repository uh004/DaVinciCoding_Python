{
 "cells": [
  {
   "cell_type": "code",
   "execution_count": 1,
   "id": "9be27e83",
   "metadata": {},
   "outputs": [
    {
     "name": "stdout",
     "output_type": "stream",
     "text": [
      "다빈공주\n",
      "30\n"
     ]
    }
   ],
   "source": [
    "class Hero:\n",
    "    def __init__(self, name, health, mana, power):\n",
    "        self.name = name\n",
    "        self.health = health\n",
    "        self.mana = mana \n",
    "        self.power = power\n",
    "\n",
    "davin = Hero('다빈공주', 100, 20, 20)\n",
    "leo = Hero('레오왕자', 120, 10, 30)\n",
    "\n",
    "print(davin.name) # 다빈공주\n",
    "print(leo.power) # 30"
   ]
  }
 ],
 "metadata": {
  "kernelspec": {
   "display_name": "Python 3 (ipykernel)",
   "language": "python",
   "name": "python3"
  },
  "language_info": {
   "codemirror_mode": {
    "name": "ipython",
    "version": 3
   },
   "file_extension": ".py",
   "mimetype": "text/x-python",
   "name": "python",
   "nbconvert_exporter": "python",
   "pygments_lexer": "ipython3",
   "version": "3.9.13"
  }
 },
 "nbformat": 4,
 "nbformat_minor": 5
}
