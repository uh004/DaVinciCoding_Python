{
 "cells": [
  {
   "cell_type": "code",
   "execution_count": 1,
   "id": "159d2d1f",
   "metadata": {},
   "outputs": [],
   "source": [
    "# 상속(inheritance)\n",
    "class Monster:\n",
    "    def __init__(self, name, health, power):\n",
    "        self.name = name\n",
    "        self.health = health\n",
    "        self.power = power\n",
    "\n",
    "small_troll = Monster(\"작은트롤\", 50, 30)"
   ]
  },
  {
   "cell_type": "code",
   "execution_count": 2,
   "id": "a5ce950a",
   "metadata": {},
   "outputs": [],
   "source": [
    "# 상속은 클래스를 선언할 때 괄호 안에 부모 클래스를 넣어주면 됩니다.\n",
    "class 부모클래스:\n",
    "    def __init__(self, 값1):\n",
    "        self.속성1 = 값1\n",
    "\n",
    "class 자식클래스(부모클래스):\n",
    "    def __init__(self, 값1, 값2):\n",
    "        super().__init__(값1)\n",
    "        self.속성2 = 값2"
   ]
  },
  {
   "cell_type": "code",
   "execution_count": 3,
   "id": "74dc3843",
   "metadata": {},
   "outputs": [],
   "source": [
    "import random\n",
    "\n",
    "class Human:\n",
    "    def __init__(self, name, health, power):\n",
    "        self.name = name\n",
    "        self.health = health\n",
    "        self.power = power\n",
    "        self.stamina = 100\n",
    "\n",
    "    def __str__(self):\n",
    "        return f'{self.name}의 체력 = {self.health}, 공격력 = {self.power}'\n",
    "\n",
    "    def move(self, x, y):\n",
    "        print(f'{self.name}가 x방향 {x}만큼, y방향 {y}만큼 움직입니다.')\n",
    "\n",
    "    def say_message(self, message):\n",
    "        print(f'{self.name} : {message}')\n",
    "\n",
    "class Hero(Human):\n",
    "    def __init__(self, name, health, mana, power):\n",
    "        super().__init__(name, health, power)\n",
    "        self.mana = mana \n",
    "\n",
    "class Monster(Human):\n",
    "    def __init__(self, name, health, power):\n",
    "        super().__init__(name, health, power)\n",
    "\n",
    "davin = Hero('다빈공주', 100, 20, 20)\n",
    "small_troll = Monster('작은트롤', 50, 30)"
   ]
  },
  {
   "cell_type": "code",
   "execution_count": null,
   "id": "14b582c9",
   "metadata": {},
   "outputs": [],
   "source": [
    "# 다형성(Polymorphism)\n",
    "#  다형성은 기능이 다른 형태로 바뀐 것을 뜻합니다."
   ]
  },
  {
   "cell_type": "code",
   "execution_count": null,
   "id": "998caabf",
   "metadata": {},
   "outputs": [],
   "source": [
    "# 오버라이딩(OverRidding)\n",
    "# 부모에게 상속받은 것을 사용하지 않고 자식클래스의 고유 기능을 만들어 주는 것입니다."
   ]
  },
  {
   "cell_type": "code",
   "execution_count": 4,
   "id": "d4bd9fa3",
   "metadata": {},
   "outputs": [
    {
     "name": "stdout",
     "output_type": "stream",
     "text": [
      "작은트롤가 x방향 -10만큼, y방향 -5만큼 움직입니다.\n",
      "작은트롤이 \"크르르르....\" 하며 짖습니다.\n"
     ]
    }
   ],
   "source": [
    "class Monster(Human):\n",
    "    def __init__(self, name, health, power):\n",
    "        super().__init__(name, health, power)\n",
    "\n",
    "    def say_message(self, message):\n",
    "        print(f'{self.name}이 \"{message}\" 하며 짖습니다.')\n",
    "\n",
    "small_troll = Monster('작은트롤', 50, 30)`\n",
    "small_troll.move(-10, -5)\n",
    "# 작은트롤가 x방향으로 -10만큼, y방향으로 -5만큼 움직입니다.\n",
    "# 작은트롤의 현재 위치 = 90, 95\n",
    "small_troll.say_message('크르르르....')\n",
    "# 작은트롤이 \"크르르르....\" 하며 짖습니다."
   ]
  }
 ],
 "metadata": {
  "kernelspec": {
   "display_name": "Python 3 (ipykernel)",
   "language": "python",
   "name": "python3"
  },
  "language_info": {
   "codemirror_mode": {
    "name": "ipython",
    "version": 3
   },
   "file_extension": ".py",
   "mimetype": "text/x-python",
   "name": "python",
   "nbconvert_exporter": "python",
   "pygments_lexer": "ipython3",
   "version": "3.9.13"
  }
 },
 "nbformat": 4,
 "nbformat_minor": 5
}
