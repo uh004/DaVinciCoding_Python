{
 "cells": [
  {
   "cell_type": "code",
   "execution_count": null,
   "id": "93befc67",
   "metadata": {},
   "outputs": [],
   "source": [
    "# 추상화(Abstraction)\n",
    "# 추상화는 그림을 뜻하는 것이 아니라 특징을 잡아 그부분만을 뽑아내는 것입니다."
   ]
  },
  {
   "cell_type": "code",
   "execution_count": 1,
   "id": "06bdef71",
   "metadata": {},
   "outputs": [
    {
     "name": "stdout",
     "output_type": "stream",
     "text": [
      "다빈공주이 20의 공격력으로 작은트롤을 공격합니다.\n",
      "다빈공주의 스테미너가 10 줄어 듭니다.\n",
      "다빈공주의 현재 스테미너 : 90\n",
      "작은트롤의 현재 체력 : 30\n"
     ]
    }
   ],
   "source": [
    "import random\n",
    "\n",
    "hero_name = '다빈공주'\n",
    "hero_health = 100\n",
    "hero_power = 20\n",
    "hero_stamina = 100\n",
    "\n",
    "mon_name = '작은트롤'\n",
    "mon_health = 50\n",
    "mon_power = 30\n",
    "\n",
    "def attack(from_name, from_pow, from_stamina, to_name):\n",
    "    stamina = 10\n",
    "    if from_stamina < stamina:\n",
    "        print(f'{from_name}의 스테미너가 부족합니다.') \n",
    "        return 0, 0\n",
    "\n",
    "    if random.random() < 0.2:\n",
    "        print(f'{to_name}이 {from_name}의 공격을 회피합니다.')\n",
    "        return 0, 0\n",
    "\n",
    "    print(f'{from_name}이 {from_pow}의 공격력으로 {to_name}을 공격합니다.')\n",
    "    print(f'{from_name}의 스테미너가 {stamina} 줄어 듭니다.')\n",
    "\n",
    "    return stamina, from_pow\n",
    "\n",
    "stamina, health = attack(hero_name, 20, hero_stamina, mon_name)\n",
    "hero_stamina -= stamina\n",
    "mon_health -= health\n",
    "print(f'{hero_name}의 현재 스테미너 : {hero_stamina}')\n",
    "print(f'{mon_name}의 현재 체력 : {mon_health}')\n",
    "# 다빈공주이 20의 공격력으로 작은트롤을 공격합니다.\n",
    "# 다빈공주의 스테미너가 10 줄어 듭니다.\n",
    "# 다빈공주의 현재 스테미너 : 90\n",
    "# 작은트롤의 현재 체력 : 30"
   ]
  },
  {
   "cell_type": "code",
   "execution_count": 2,
   "id": "b5cbd259",
   "metadata": {},
   "outputs": [
    {
     "name": "stdout",
     "output_type": "stream",
     "text": [
      "다빈공주이 20의 공격력으로 작은트롤을 공격합니다.\n",
      "다빈공주의 스테미너가 10 줄어 듭니다.\n",
      "다빈공주의 현재 스테미너 : 90\n",
      "작은트롤의 현재 체력 : 30\n"
     ]
    }
   ],
   "source": [
    "import random\n",
    "\n",
    "class Hero:\n",
    "    def __init__(self, name, health, mana, power):\n",
    "        self.name = name\n",
    "        self.health = health\n",
    "        self.mana = mana \n",
    "        self.power = power\n",
    "        self.stamina = 100\n",
    "\n",
    "    def __str__(self):\n",
    "        return f'{self.name}의 체력 = {self.health}, 공격력 = {self.power}, 마나 = {self.mana}'\n",
    "\n",
    "    def attack(self, to_name):\n",
    "        stamina = 10\n",
    "        if self.stamina < stamina:\n",
    "            print(f'{self.name}의 스테미너가 부족합니다.') \n",
    "            return 0, 0\n",
    "\n",
    "        if random.random() < 0.2:\n",
    "            print(f'{to_name}이 {self.name}의 공격을 회피합니다.')\n",
    "            return 0, 0\n",
    "\n",
    "        print(f'{self.name}이 {self.power}의 공격력으로 {to_name}을 공격합니다.')\n",
    "        print(f'{self.name}의 스테미너가 {stamina} 줄어 듭니다.')\n",
    "        print(f'{self.name}의 현재 스테미너 : {self.stamina - stamina}')\n",
    "\n",
    "        return self.power\n",
    "\n",
    "davin = Hero('다빈공주', 100, 20, 20)\n",
    "mon_name = '작은트롤'\n",
    "mon_health = 50\n",
    "damege = davin.attack(mon_name)\n",
    "mon_health -= damege\n",
    "print(f'{mon_name}의 현재 체력 : {mon_health}')\n",
    "# 다빈공주이 20의 공격력으로 작은트롤을 공격합니다.\n",
    "# 다빈공주의 스테미너가 10 줄어 듭니다.\n",
    "# 다빈공주의 현재 스테미너 : 90\n",
    "# 작은트롤의 현재 체력 : 30"
   ]
  }
 ],
 "metadata": {
  "kernelspec": {
   "display_name": "Python 3 (ipykernel)",
   "language": "python",
   "name": "python3"
  },
  "language_info": {
   "codemirror_mode": {
    "name": "ipython",
    "version": 3
   },
   "file_extension": ".py",
   "mimetype": "text/x-python",
   "name": "python",
   "nbconvert_exporter": "python",
   "pygments_lexer": "ipython3",
   "version": "3.9.13"
  }
 },
 "nbformat": 4,
 "nbformat_minor": 5
}
