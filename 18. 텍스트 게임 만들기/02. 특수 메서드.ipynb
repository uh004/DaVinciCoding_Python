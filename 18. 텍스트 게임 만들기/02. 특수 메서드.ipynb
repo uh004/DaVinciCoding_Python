{
 "cells": [
  {
   "cell_type": "code",
   "execution_count": 1,
   "id": "a41f81e6",
   "metadata": {},
   "outputs": [
    {
     "name": "stdout",
     "output_type": "stream",
     "text": [
      "다빈공주\n",
      "30\n"
     ]
    }
   ],
   "source": [
    "class Hero:\n",
    "    def __init__(self, name, health, mana, power):\n",
    "        self.name = name\n",
    "        self.health = health\n",
    "        self.mana = mana \n",
    "        self.power = power\n",
    "\n",
    "davin = Hero('다빈공주', 100, 20, 20)\n",
    "leo = Hero('레오왕자', 120, 10, 30)\n",
    "\n",
    "print(davin.name) # 다빈공주\n",
    "print(leo.power) # 30"
   ]
  },
  {
   "cell_type": "code",
   "execution_count": 2,
   "id": "97a32951",
   "metadata": {},
   "outputs": [
    {
     "name": "stdout",
     "output_type": "stream",
     "text": [
      "<__main__.Hero object at 0x0000018A0A3A6640>\n"
     ]
    }
   ],
   "source": [
    "print(davin) # 안스턴스 정보만 보임"
   ]
  },
  {
   "cell_type": "code",
   "execution_count": 5,
   "id": "2171fd54",
   "metadata": {},
   "outputs": [
    {
     "name": "stdout",
     "output_type": "stream",
     "text": [
      "다빈공주의 체력 = 100, 공격력 = 20, 마나 = 20\n",
      "레오왕자의 체력 = 120, 공격력 = 30, 마나 = 10\n"
     ]
    }
   ],
   "source": [
    "class Hero:\n",
    "    def __init__(self, name, health, mana, power):\n",
    "        self.name = name\n",
    "        self.health = health\n",
    "        self.mana = mana \n",
    "        self.power = power\n",
    "    def __add__(self, value):\n",
    "        self.health += value\n",
    "        return self\n",
    "\n",
    "    def __str__(self):\n",
    "        return f'{self.name}의 체력 = {self.health}, 공격력 = {self.power}, 마나 = {self.mana}'\n",
    "\n",
    "davin = Hero('다빈공주', 100, 20, 20)\n",
    "leo = Hero('레오왕자', 120, 10, 30)\n",
    "\n",
    "print(davin) # 다빈공주의 체력 = 100, 공격력 = 20, 마나 = 20\n",
    "print(leo) # 레오왕자의 체력 = 120, 공격력 = 30, 마나 = 10"
   ]
  },
  {
   "cell_type": "code",
   "execution_count": 4,
   "id": "063e9288",
   "metadata": {},
   "outputs": [
    {
     "name": "stdout",
     "output_type": "stream",
     "text": [
      "8\n",
      "8\n"
     ]
    }
   ],
   "source": [
    "# 더하기 기호는 내부적으로 __add__ 라는 특수 메서드가 실행된 것입니다.\n",
    "a, b = 5, 3\n",
    "\n",
    "c = a + b\n",
    "print(c) # 8\n",
    "\n",
    "d = a.__add__(b)\n",
    "print(d) # 8"
   ]
  },
  {
   "cell_type": "code",
   "execution_count": 6,
   "id": "467d8256",
   "metadata": {},
   "outputs": [
    {
     "name": "stdout",
     "output_type": "stream",
     "text": [
      "다빈공주의 체력 = 100, 공격력 = 20, 마나 = 20\n",
      "다빈공주의 체력 = 110, 공격력 = 20, 마나 = 20\n"
     ]
    }
   ],
   "source": [
    "davin = Hero('다빈공주', 100, 20, 20)\n",
    "print(davin) # 다빈공주의 체력 = 100, 공격력 = 20, 마나 = 20\n",
    "davin += 10\n",
    "print(davin) # 다빈공주의 체력 = 110, 공격력 = 20, 마나 = 20"
   ]
  },
  {
   "cell_type": "code",
   "execution_count": 7,
   "id": "c3a15907",
   "metadata": {},
   "outputs": [
    {
     "name": "stdout",
     "output_type": "stream",
     "text": [
      "다빈공주 : 안녕!\n",
      "다빈공주가 x로 5만큼, y로 -10만큼 움직입니다.\n",
      "다빈공주의 현재 위치 = 105, 90\n",
      "다빈공주 : 레오 왕자 반가워!!\n"
     ]
    }
   ],
   "source": [
    "# 메서드 정의\n",
    "import random\n",
    "\n",
    "class Hero:\n",
    "    def __init__(self, name, health, mana, power):\n",
    "        self.name = name\n",
    "        self.health = health\n",
    "        self.mana = mana \n",
    "        self.power = power\n",
    "        self.stamina = 100\n",
    "        self.x = 100\n",
    "        self.y = 100\n",
    "\n",
    "    def move(self, x, y):\n",
    "        self.x += x\n",
    "        self.y += y\n",
    "\n",
    "        print(f'{self.name}가 x로 {x}만큼, y로 {y}만큼 움직입니다.')\n",
    "        print(f'{self.name}의 현재 위치 = {self.x}, {self.y}')\n",
    "\n",
    "    def say_message(self, message):\n",
    "        print(f'{self.name} : {message}')\n",
    "\n",
    "davin = Hero('다빈공주', 100, 20, 20)\n",
    "davin.say_message('안녕!') # 다빈공주 : 안녕!\n",
    "davin.move(5, -10) # 다빈공주가 x로 5만큼, y로 -10만큼 움직입니다.\n",
    "                   # 다빈공주의 현재 위치 : x = 105, y = 90\n",
    "davin.say_message('레오 왕자 반가워!!') # 다빈공주 : 레오 왕자 반가워!!"
   ]
  }
 ],
 "metadata": {
  "kernelspec": {
   "display_name": "Python 3 (ipykernel)",
   "language": "python",
   "name": "python3"
  },
  "language_info": {
   "codemirror_mode": {
    "name": "ipython",
    "version": 3
   },
   "file_extension": ".py",
   "mimetype": "text/x-python",
   "name": "python",
   "nbconvert_exporter": "python",
   "pygments_lexer": "ipython3",
   "version": "3.9.13"
  }
 },
 "nbformat": 4,
 "nbformat_minor": 5
}
