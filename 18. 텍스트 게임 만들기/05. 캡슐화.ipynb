{
 "cells": [
  {
   "cell_type": "code",
   "execution_count": null,
   "id": "6f8b65d8",
   "metadata": {},
   "outputs": [],
   "source": [
    "# 캡슐화(Encapsulation)"
   ]
  },
  {
   "cell_type": "code",
   "execution_count": 1,
   "id": "cc2fa084",
   "metadata": {},
   "outputs": [
    {
     "name": "stdout",
     "output_type": "stream",
     "text": [
      "다빈공주이(가) 작은트롤을 공격합니다.\n",
      "작은트롤의 체력 = 30, 공격력 = 30\n"
     ]
    }
   ],
   "source": [
    "# 캡슐화의 예를 들면 Hero 클래스에서 Monster 클래스의 값을 직접적으로 바꾸면 안됩니다.\n",
    "class Human:\n",
    "    def __init__(self, name, health, power):\n",
    "        self.name = name\n",
    "        self.health = health\n",
    "        self.power = power\n",
    "\n",
    "    def __str__(self):\n",
    "        return f'{self.name}의 체력 = {self.health}, 공격력 = {self.power}'\n",
    "\n",
    "class Hero(Human):\n",
    "    def __init__(self, name, health, mana, power):\n",
    "        super().__init__(name, health, power)\n",
    "        self.mana = mana \n",
    "\n",
    "    def attack(self, other):\n",
    "        print(f\"{self.name}이(가) {other.name}을 공격합니다.\")\n",
    "        other.health -= self.power\n",
    "\n",
    "class Monster(Human):\n",
    "    def __init__(self, name, health, power):\n",
    "        super().__init__(name, health, power)\n",
    "\n",
    "davin = Hero(\"다빈공주\", 100, 20, 20)\n",
    "small_troll = Monster('작은트롤', 50, 30)\n",
    "davin.attack(small_troll) # 다빈공주이(가) 작은트롤을 공격합니다.\n",
    "print(small_troll) # 작은트롤의 체력 = 30, 공격력 = 30"
   ]
  },
  {
   "cell_type": "code",
   "execution_count": 3,
   "id": "0e78a7b1",
   "metadata": {},
   "outputs": [
    {
     "ename": "TypeError",
     "evalue": "__init__() takes 4 positional arguments but 5 were given",
     "output_type": "error",
     "traceback": [
      "\u001b[1;31m---------------------------------------------------------------------------\u001b[0m",
      "\u001b[1;31mTypeError\u001b[0m                                 Traceback (most recent call last)",
      "\u001b[1;32m~\\AppData\\Local\\Temp\\ipykernel_4308\\3603106288.py\u001b[0m in \u001b[0;36m<module>\u001b[1;34m\u001b[0m\n\u001b[0;32m     11\u001b[0m         \u001b[0mother\u001b[0m\u001b[1;33m.\u001b[0m\u001b[0m__health\u001b[0m \u001b[1;33m-=\u001b[0m \u001b[0mself\u001b[0m\u001b[1;33m.\u001b[0m\u001b[0mpower\u001b[0m\u001b[1;33m\u001b[0m\u001b[1;33m\u001b[0m\u001b[0m\n\u001b[0;32m     12\u001b[0m \u001b[1;33m\u001b[0m\u001b[0m\n\u001b[1;32m---> 13\u001b[1;33m \u001b[0mdavin\u001b[0m \u001b[1;33m=\u001b[0m \u001b[0mHero\u001b[0m\u001b[1;33m(\u001b[0m\u001b[1;34m\"다빈공주\"\u001b[0m\u001b[1;33m,\u001b[0m \u001b[1;36m100\u001b[0m\u001b[1;33m,\u001b[0m \u001b[1;36m20\u001b[0m\u001b[1;33m,\u001b[0m \u001b[1;36m20\u001b[0m\u001b[1;33m)\u001b[0m\u001b[1;33m\u001b[0m\u001b[1;33m\u001b[0m\u001b[0m\n\u001b[0m\u001b[0;32m     14\u001b[0m \u001b[0msmall_troll\u001b[0m \u001b[1;33m=\u001b[0m \u001b[0mMonster\u001b[0m\u001b[1;33m(\u001b[0m\u001b[1;34m'작은트롤'\u001b[0m\u001b[1;33m,\u001b[0m \u001b[1;36m50\u001b[0m\u001b[1;33m,\u001b[0m \u001b[1;36m30\u001b[0m\u001b[1;33m)\u001b[0m\u001b[1;33m\u001b[0m\u001b[1;33m\u001b[0m\u001b[0m\n\u001b[0;32m     15\u001b[0m \u001b[0mdavin\u001b[0m\u001b[1;33m.\u001b[0m\u001b[0mattack\u001b[0m\u001b[1;33m(\u001b[0m\u001b[0msmall_troll\u001b[0m\u001b[1;33m)\u001b[0m \u001b[1;31m# 다빈공주이(가) 작은트롤을 공격합니다.\u001b[0m\u001b[1;33m\u001b[0m\u001b[1;33m\u001b[0m\u001b[0m\n",
      "\u001b[1;31mTypeError\u001b[0m: __init__() takes 4 positional arguments but 5 were given"
     ]
    }
   ],
   "source": [
    "# 캡슐화하기 위해서는 변수명 앞에 언더스코어( _ ) 두개를 넣어 주면 됩니다.\n",
    "class Human:\n",
    "    def __init__(self, name, health, power):\n",
    "        self.name = name\n",
    "        self.__health = health\n",
    "        self.power = power\n",
    "\n",
    "class Hero(Human):\n",
    "    def attack(self, other):\n",
    "        print(f\"{self.name}이(가) {other.name}을 공격합니다.\")\n",
    "        other.__health -= self.power\n",
    "\n",
    "davin = Hero(\"다빈공주\", 100, 20, 20)\n",
    "small_troll = Monster('작은트롤', 50, 30)\n",
    "davin.attack(small_troll) # 다빈공주이(가) 작은트롤을 공격합니다.\n",
    "print(small_troll) # 오류 발생\n",
    "# Hero 클래스에서 다른 클래스의 비공개 변수를 변경하려 하였기 때문에 에러가 발생한 것입니다."
   ]
  },
  {
   "cell_type": "code",
   "execution_count": 4,
   "id": "e9155e77",
   "metadata": {},
   "outputs": [
    {
     "name": "stdout",
     "output_type": "stream",
     "text": [
      "50\n"
     ]
    }
   ],
   "source": [
    "class Human:\n",
    "    def __init__(self, health):\n",
    "        self.__health = health\n",
    "\n",
    "human = Human(100)\n",
    "human.__health = 50\n",
    "print(human.__health) # 50"
   ]
  },
  {
   "cell_type": "code",
   "execution_count": 5,
   "id": "90f69493",
   "metadata": {},
   "outputs": [
    {
     "name": "stdout",
     "output_type": "stream",
     "text": [
      "50\n",
      "self.__health=100\n"
     ]
    }
   ],
   "source": [
    "class Human:\n",
    "    def __init__(self, health):\n",
    "        self.__health = health\n",
    "\n",
    "    def get_health(self):\n",
    "        print(f'{self.__health=}')\n",
    "\n",
    "human = Human(100)\n",
    "human.__health = 50\n",
    "print(human.__health) # 50\n",
    "human.get_health() # self.__health=100"
   ]
  },
  {
   "cell_type": "code",
   "execution_count": 6,
   "id": "a057ea07",
   "metadata": {},
   "outputs": [
    {
     "name": "stdout",
     "output_type": "stream",
     "text": [
      "['_Human__health', '__class__', '__delattr__', '__dict__', '__dir__', '__doc__', '__eq__', '__format__', '__ge__', '__getattribute__', '__gt__', '__hash__', '__init__', '__init_subclass__', '__le__', '__lt__', '__module__', '__ne__', '__new__', '__reduce__', '__reduce_ex__', '__repr__', '__setattr__', '__sizeof__', '__str__', '__subclasshook__', '__weakref__', 'get_health']\n"
     ]
    }
   ],
   "source": [
    "# dir이라는 함수가 있습니다. 이 함수를 사용하면 클래스가 가지고 있는 모든 내부 변수들을 볼 수 있습니다.\n",
    "human = Human(100)\n",
    "print(dir(human))"
   ]
  }
 ],
 "metadata": {
  "kernelspec": {
   "display_name": "Python 3 (ipykernel)",
   "language": "python",
   "name": "python3"
  },
  "language_info": {
   "codemirror_mode": {
    "name": "ipython",
    "version": 3
   },
   "file_extension": ".py",
   "mimetype": "text/x-python",
   "name": "python",
   "nbconvert_exporter": "python",
   "pygments_lexer": "ipython3",
   "version": "3.9.13"
  }
 },
 "nbformat": 4,
 "nbformat_minor": 5
}
