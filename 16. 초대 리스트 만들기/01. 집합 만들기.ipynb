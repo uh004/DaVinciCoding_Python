{
 "cells": [
  {
   "cell_type": "code",
   "execution_count": 1,
   "id": "4d4a1fe7",
   "metadata": {},
   "outputs": [
    {
     "name": "stdout",
     "output_type": "stream",
     "text": [
      "{2, 3, 5, 6, 7, 10, 15, 18}\n",
      "<class 'set'>\n"
     ]
    }
   ],
   "source": [
    "# 집합 생성\n",
    "party_set = {3, 6, 10, 7, 3, 18, 5, 2, 15, 6}\n",
    "print(party_set) # {2, 3, 5, 6, 7, 10, 15, 18}\n",
    "print(type(party_set)) # <class 'set'>"
   ]
  },
  {
   "cell_type": "code",
   "execution_count": 2,
   "id": "1c9c32cb",
   "metadata": {},
   "outputs": [
    {
     "name": "stdout",
     "output_type": "stream",
     "text": [
      "3, 5, 6, 7, 11112, 10, 15, 111, 18, 22, 126, "
     ]
    }
   ],
   "source": [
    "# 집합의 특징\n",
    "# 중복을 허용하지 않는다.\n",
    "# 순서가 없다\n",
    "for i in {3, 6, 10, 7, 3, 18, 5, 11112, 15, 126, 22, 111}:\n",
    "    print(i, end=', ') "
   ]
  },
  {
   "cell_type": "code",
   "execution_count": null,
   "id": "1cb9555d",
   "metadata": {},
   "outputs": [],
   "source": [
    "# 집합의 수정 X"
   ]
  },
  {
   "cell_type": "code",
   "execution_count": 3,
   "id": "593f294e",
   "metadata": {},
   "outputs": [
    {
     "name": "stdout",
     "output_type": "stream",
     "text": [
      "{2, 3, 5, 6, 7, 10, 15, 18}\n",
      "{2, 3, 5, 6, 7, 9, 10, 15, 18}\n"
     ]
    }
   ],
   "source": [
    "# 집합 한개씩 추가하기\n",
    "my_set = {3, 6, 10, 7, 3, 18, 5, 2, 15, 6}\n",
    "print(my_set) # {2, 3, 5, 6, 7, 10, 15, 18}\n",
    "my_set.add(3) # 기존에 3이 있어 추가 되지 않음\n",
    "my_set.add(9) # 기존에 없어 9가 추가됨\n",
    "print(my_set) # {2, 3, 5, 6, 7, 9, 10, 15, 18}"
   ]
  },
  {
   "cell_type": "code",
   "execution_count": 5,
   "id": "bd74fd0c",
   "metadata": {},
   "outputs": [
    {
     "name": "stdout",
     "output_type": "stream",
     "text": [
      "{2, 3, 5, 6, 7, 10, 15, 18}\n",
      "{2, 3, 5, 6, 7, 9, 10, 15, 18}\n"
     ]
    }
   ],
   "source": [
    "# 집합 여러개 추가하기\n",
    "my_set = {3, 6, 10, 7, 3, 18, 5, 2, 15, 6}\n",
    "print(my_set)\n",
    "my_set.update([3, 9]) # 3은 중복으로 추가되지 않고, 9만 추가됨\n",
    "print(my_set)"
   ]
  },
  {
   "cell_type": "code",
   "execution_count": 6,
   "id": "91db79b8",
   "metadata": {},
   "outputs": [
    {
     "name": "stdout",
     "output_type": "stream",
     "text": [
      "{2, 3, 5, 6, 7, 10, 15, 18}\n",
      "{2, 5, 6, 7, 10, 15, 18}\n"
     ]
    }
   ],
   "source": [
    "# 집합의 삭제\n",
    "my_set = {3, 6, 10, 7, 3, 18, 5, 2, 15, 6}\n",
    "print(my_set) # {2, 3, 5, 6, 7, 10, 15, 18}\n",
    "my_set.remove(3) # 3을 삭제함\n",
    "print(my_set) # {2, 5, 6, 7, 10, 15, 18}"
   ]
  }
 ],
 "metadata": {
  "kernelspec": {
   "display_name": "Python 3 (ipykernel)",
   "language": "python",
   "name": "python3"
  },
  "language_info": {
   "codemirror_mode": {
    "name": "ipython",
    "version": 3
   },
   "file_extension": ".py",
   "mimetype": "text/x-python",
   "name": "python",
   "nbconvert_exporter": "python",
   "pygments_lexer": "ipython3",
   "version": "3.9.13"
  }
 },
 "nbformat": 4,
 "nbformat_minor": 5
}
