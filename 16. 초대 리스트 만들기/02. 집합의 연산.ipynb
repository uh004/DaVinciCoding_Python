{
 "cells": [
  {
   "cell_type": "code",
   "execution_count": null,
   "id": "7dc91ef5",
   "metadata": {},
   "outputs": [],
   "source": [
    "# 합집합\n",
    "# 합집합은 두 집합을 더해주는 것입니다. 이때 중복되는 요소는 사라지게 됩니다."
   ]
  },
  {
   "cell_type": "code",
   "execution_count": 1,
   "id": "b19bcd11",
   "metadata": {},
   "outputs": [
    {
     "name": "stdout",
     "output_type": "stream",
     "text": [
      "{1, 2, 3, 4, 5, 6, 7, 8, 9}\n",
      "{1, 2, 3, 4, 5, 6, 7, 8, 9}\n"
     ]
    }
   ],
   "source": [
    "my_set1 = {1, 2, 3, 4, 5, 6}\n",
    "my_set2 = {4, 5, 6, 7, 8, 9}\n",
    "\n",
    "my_set3 = my_set1.union(my_set2)\n",
    "my_set4 = my_set1 | my_set2\n",
    "print(my_set3) # {1, 2, 3, 4, 5, 6, 7, 8, 9}\n",
    "print(my_set4) # {1, 2, 3, 4, 5, 6, 7, 8, 9}"
   ]
  },
  {
   "cell_type": "code",
   "execution_count": null,
   "id": "29d64a1f",
   "metadata": {},
   "outputs": [],
   "source": [
    "# 교집합\n",
    "# 교집합은 두 집합의 중복된 요소만을 구할 때 사용 합니다. 즉 중복된 요소를 찾을 때 사용합니다."
   ]
  },
  {
   "cell_type": "code",
   "execution_count": 2,
   "id": "087c0527",
   "metadata": {},
   "outputs": [
    {
     "name": "stdout",
     "output_type": "stream",
     "text": [
      "{4, 5, 6}\n",
      "{4, 5, 6}\n"
     ]
    }
   ],
   "source": [
    "my_set1 = {1, 2, 3, 4, 5, 6}\n",
    "my_set2 = {4, 5, 6, 7, 8, 9}\n",
    "\n",
    "my_set3 = my_set1.intersection(my_set2)\n",
    "my_set4 = my_set1 & my_set2\n",
    "print(my_set3) # {4, 5, 6}\n",
    "print(my_set4) # {4, 5, 6}"
   ]
  },
  {
   "cell_type": "code",
   "execution_count": null,
   "id": "de574aaa",
   "metadata": {},
   "outputs": [],
   "source": [
    "# 차집합\n",
    "# 차집합은 한 집합에서 다른 집합의 중복된 요소를 제거한 집합을 구합니다."
   ]
  },
  {
   "cell_type": "code",
   "execution_count": 3,
   "id": "7716c7ad",
   "metadata": {},
   "outputs": [
    {
     "name": "stdout",
     "output_type": "stream",
     "text": [
      "{1, 2, 3}\n",
      "{1, 2, 3}\n"
     ]
    }
   ],
   "source": [
    "my_set1 = {1, 2, 3, 4, 5, 6}\n",
    "my_set2 = {4, 5, 6, 7, 8, 9}\n",
    "\n",
    "my_set3 = my_set1.difference(my_set2)\n",
    "my_set4 = my_set1 - my_set2\n",
    "print(my_set3) # {1, 2, 3}\n",
    "print(my_set4) # {1, 2, 3}"
   ]
  },
  {
   "cell_type": "code",
   "execution_count": 4,
   "id": "b416a50f",
   "metadata": {},
   "outputs": [
    {
     "name": "stdout",
     "output_type": "stream",
     "text": [
      "원본 리스트 =  [3, 6, 10, 7, 3, 18, 5, 11112, 15, 126, 22, 111]\n",
      "중복 제거 집합 =  {3, 5, 6, 7, 11112, 10, 15, 111, 18, 22, 126}\n",
      "정렬된 리스트 = [3, 5, 6, 7, 10, 15, 18, 22, 111, 126, 11112]\n"
     ]
    }
   ],
   "source": [
    "# 집합의 활용\n",
    "party_list = [3, 6, 10, 7, 3, 18, 5, 11112, 15, 126, 22, 111]\n",
    "print(\"원본 리스트 = \", party_list) \n",
    "# 원본 리스트 =  [3, 6, 10, 7, 3, 18, 5, 11112, 15, 126, 22, 111]\n",
    "\n",
    "party_set = set(party_list)\n",
    "print(\"중복 제거 집합 = \", party_set) \n",
    "# 중복 제거 집합 =  {3, 5, 6, 7, 11112, 10, 15, 111, 18, 22, 126}\n",
    "\n",
    "party_list2 = list(party_set)\n",
    "party_list2.sort()\n",
    "print(\"정렬된 리스트 =\", party_list2) \n",
    "# 정렬된 리스트 = [3, 5, 6, 7, 10, 15, 18, 22, 111, 126, 11112]"
   ]
  }
 ],
 "metadata": {
  "kernelspec": {
   "display_name": "Python 3 (ipykernel)",
   "language": "python",
   "name": "python3"
  },
  "language_info": {
   "codemirror_mode": {
    "name": "ipython",
    "version": 3
   },
   "file_extension": ".py",
   "mimetype": "text/x-python",
   "name": "python",
   "nbconvert_exporter": "python",
   "pygments_lexer": "ipython3",
   "version": "3.9.13"
  }
 },
 "nbformat": 4,
 "nbformat_minor": 5
}
