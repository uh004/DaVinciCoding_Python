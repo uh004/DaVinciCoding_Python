{
 "cells": [
  {
   "cell_type": "markdown",
   "id": "f6bfb262",
   "metadata": {},
   "source": [
    "### 다음으로 소개할 포매팅은 파이썬 2 버전에서 소개된 방법인 str 포매팅(str-formatting) 입니다. str 포매팅은 중괄호( {} )와 format() 함수를 사용해서 만들 수 있습니다."
   ]
  },
  {
   "cell_type": "code",
   "execution_count": 2,
   "id": "ca0d5f56",
   "metadata": {},
   "outputs": [
    {
     "name": "stdout",
     "output_type": "stream",
     "text": [
      "다빈치이는 2010년생으로 올해 14살 입니다.         \n",
      "다빈치이의 키는 158.300000이고, 취미는 영화 감상입니다.\n"
     ]
    }
   ],
   "source": [
    "name = \"다빈치\"\n",
    "birth_year = 2010\n",
    "this_year = 2023\n",
    "height = 158.3\n",
    "hobby = \"영화 감상\"\n",
    "my_str2= \"%s이는 %s년생으로 올해 %d살 입니다. \\\n",
    "        \\n%s이의 키는 %f이고, 취미는 %s입니다.\"\n",
    "\n",
    "print(my_str2 % (name, birth_year, \\\n",
    "    (this_year - birth_year + 1), name, height, hobby))\n",
    "\n",
    "# 다빈치이는 2010년생으로 올해 14살 입니다. \n",
    "# 다빈치이의 키는 158.300000이고, 취미는 영화 감상입니다."
   ]
  },
  {
   "cell_type": "code",
   "execution_count": 3,
   "id": "b6393577",
   "metadata": {},
   "outputs": [
    {
     "name": "stdout",
     "output_type": "stream",
     "text": [
      "다빈치이는 2010년 생으로 올해 14살 입니다.                 \n",
      "다빈치이의 키는 158.3이고, 취미는 영화 감상입니다.\n"
     ]
    }
   ],
   "source": [
    "my_str3 = \"{}이는 {}년 생으로 올해 {}살 입니다. \\\n",
    "                \\n{}이의 키는 {}이고, 취미는 {}입니다.\"\n",
    "print(my_str3.format(name, birth_year, (this_year - birth_year + 1), name, height, hobby))"
   ]
  },
  {
   "cell_type": "code",
   "execution_count": null,
   "id": "b1b421a8",
   "metadata": {},
   "outputs": [],
   "source": []
  },
  {
   "cell_type": "code",
   "execution_count": null,
   "id": "3029c6c8",
   "metadata": {},
   "outputs": [],
   "source": []
  },
  {
   "cell_type": "code",
   "execution_count": null,
   "id": "8e2b5056",
   "metadata": {},
   "outputs": [],
   "source": []
  },
  {
   "cell_type": "code",
   "execution_count": null,
   "id": "b8725eb1",
   "metadata": {},
   "outputs": [],
   "source": []
  },
  {
   "cell_type": "code",
   "execution_count": null,
   "id": "003da2f5",
   "metadata": {},
   "outputs": [],
   "source": []
  },
  {
   "cell_type": "code",
   "execution_count": null,
   "id": "723aba22",
   "metadata": {},
   "outputs": [],
   "source": []
  },
  {
   "cell_type": "code",
   "execution_count": null,
   "id": "c1d20344",
   "metadata": {},
   "outputs": [],
   "source": []
  }
 ],
 "metadata": {
  "kernelspec": {
   "display_name": "Python 3 (ipykernel)",
   "language": "python",
   "name": "python3"
  },
  "language_info": {
   "codemirror_mode": {
    "name": "ipython",
    "version": 3
   },
   "file_extension": ".py",
   "mimetype": "text/x-python",
   "name": "python",
   "nbconvert_exporter": "python",
   "pygments_lexer": "ipython3",
   "version": "3.9.13"
  }
 },
 "nbformat": 4,
 "nbformat_minor": 5
}
