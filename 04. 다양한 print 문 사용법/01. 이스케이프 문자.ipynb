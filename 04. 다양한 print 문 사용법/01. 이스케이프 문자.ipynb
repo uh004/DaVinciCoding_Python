{
 "cells": [
  {
   "cell_type": "markdown",
   "id": "759f7f72",
   "metadata": {},
   "source": [
    "# 이스케이프 문자\n",
    "이스케이프(escape) 문자에 대해 알아보겠습니다. escape는 흔히 탈출이라는 뜻으로 사용합니다. 즉 기존에 정해진 규칙에서 벗어난 문자를 만들 때 사용합니다. 백슬래시(backslash) 라고 불리는 ( \\ ) 기호를 사용해서 만들 수 있습니다. 먼저 줄 바꿈입니다. 어떠한 문장 중간에 줄 바꿈을 하고 싶을 때 기존에는 print문을 두 줄을 사용해야 했습니다. 하지만 이스케이프 코드를 사용하면 print문 하나로 여러 줄을 만들 수 있습니다."
   ]
  },
  {
   "cell_type": "code",
   "execution_count": 12,
   "id": "97363e62",
   "metadata": {},
   "outputs": [
    {
     "name": "stdout",
     "output_type": "stream",
     "text": [
      "Hello\n",
      "World!\n"
     ]
    }
   ],
   "source": [
    "print(\"Hello\\nWorld!\")\n",
    "# Hello\n",
    "# World!"
   ]
  },
  {
   "cell_type": "code",
   "execution_count": 14,
   "id": "35c43e1d",
   "metadata": {},
   "outputs": [
    {
     "name": "stdout",
     "output_type": "stream",
     "text": [
      "Hello world\ba\tbc\n",
      "Hello world\\ba\\tbc\n"
     ]
    }
   ],
   "source": [
    "print(\"Hello world\\ba\\tbc\")  # Hello worla     bc\n",
    "print(r\"Hello world\\ba\\tbc\") # 문자열 앞에 r을 붙여주면 이스케이프 문자를 무시"
   ]
  }
 ],
 "metadata": {
  "kernelspec": {
   "display_name": "Python 3 (ipykernel)",
   "language": "python",
   "name": "python3"
  },
  "language_info": {
   "codemirror_mode": {
    "name": "ipython",
    "version": 3
   },
   "file_extension": ".py",
   "mimetype": "text/x-python",
   "name": "python",
   "nbconvert_exporter": "python",
   "pygments_lexer": "ipython3",
   "version": "3.9.13"
  }
 },
 "nbformat": 4,
 "nbformat_minor": 5
}
