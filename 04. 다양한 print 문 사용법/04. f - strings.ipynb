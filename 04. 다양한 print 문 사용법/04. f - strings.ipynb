{
 "cells": [
  {
   "cell_type": "markdown",
   "id": "7c61d090",
   "metadata": {},
   "source": [
    "# f-string\n",
    "이제 배우는 방법이 최근에 등장한 문자열 방법입니다. 이 방법은 파이썬 3.6 이상에서만 동작하기 때문에 자신이 3.6 이상의 파이썬을 사용하지 않는다면 이 방법은 사용할 수 없습니다."
   ]
  },
  {
   "cell_type": "code",
   "execution_count": 1,
   "id": "66e7753a",
   "metadata": {},
   "outputs": [
    {
     "name": "stdout",
     "output_type": "stream",
     "text": [
      "다빈치이는 2010년생으로 올해 14살 입니다.         \n",
      "다빈치이의 키는 158.300000이고, 취미는 영화 감상입니다.\n"
     ]
    }
   ],
   "source": [
    "name = \"다빈치\"\n",
    "birth_year = 2010\n",
    "this_year = 2023\n",
    "height = 158.3\n",
    "hobby = \"영화 감상\"\n",
    "my_str2= \"%s이는 %s년생으로 올해 %d살 입니다. \\\n",
    "        \\n%s이의 키는 %f이고, 취미는 %s입니다.\"\n",
    "\n",
    "print(my_str2 % (name, birth_year, \\\n",
    "    (this_year - birth_year + 1), name, height, hobby))\n",
    "\n",
    "# 다빈치이는 2010년생으로 올해 14살 입니다. \n",
    "# 다빈치이의 키는 158.300000이고, 취미는 영화 감상입니다."
   ]
  },
  {
   "cell_type": "code",
   "execution_count": 2,
   "id": "d195ca3a",
   "metadata": {},
   "outputs": [
    {
     "name": "stdout",
     "output_type": "stream",
     "text": [
      "다빈치이는 2010년 생으로 올 해             14살 입니다.             \n",
      "다빈치이의 키는 158.3이고, 취미는 영화 감상 입니다.\n"
     ]
    }
   ],
   "source": [
    "my_str4 = f\"{name}이는 {birth_year}년 생으로 올 해 \\\n",
    "            {this_year - birth_year + 1}살 입니다. \\\n",
    "            \\n{name}이의 키는 {height}이고, 취미는 {hobby} 입니다.\"\n",
    "print(my_str4)"
   ]
  },
  {
   "cell_type": "markdown",
   "id": "14106053",
   "metadata": {},
   "source": [
    "# f-string 활용\n",
    "앞서 배운 3가지의 포매팅의 활용 방법은 정말 많이 있습니다. 그중 가장 유용한 활용 방법을 하나 배워보겠습니다. 코딩하다보면 변수에 지금 어떤 값이 들어있는지 알고 싶을 때가 있습니다. 변수가 여러 가지가 있어 어떤 변수에 어떤 값이 있는지 알고 싶을 때는 변수명을 넣어줄 수밖에 없습니다."
   ]
  },
  {
   "cell_type": "code",
   "execution_count": 3,
   "id": "bcf52876",
   "metadata": {},
   "outputs": [
    {
     "name": "stdout",
     "output_type": "stream",
     "text": [
      "my_number1 = 10\n",
      "my_number2 = 20\n",
      "my_number3 = 30\n"
     ]
    }
   ],
   "source": [
    "my_number1 = 10\n",
    "my_number2 = 20\n",
    "my_number3 = 30\n",
    "\n",
    "print(f\"my_number1 = {my_number1}\") # 10\n",
    "print(f\"my_number2 = {my_number2}\") # 20\n",
    "print(f\"my_number3 = {my_number3}\") # 30 "
   ]
  },
  {
   "cell_type": "markdown",
   "id": "92db5f22",
   "metadata": {},
   "source": [
    "my_number를 반복해서 써야 하는 부분의 방법이 별로이지만 따로 다른 방법은 없어 보입니다. 하지만 f-string에는 이 문제를 해결해 줄 방법이 있습니다. 바로 중괄호 안에 변수명을 넣고 = 기호를 넣어주면 됩니다."
   ]
  },
  {
   "cell_type": "code",
   "execution_count": 4,
   "id": "aaa23e39",
   "metadata": {},
   "outputs": [
    {
     "name": "stdout",
     "output_type": "stream",
     "text": [
      "my_number1=10\n",
      "my_number2=20\n",
      "my_number3=30\n"
     ]
    }
   ],
   "source": [
    "print(f\"{my_number1=}\") # my_number1=10\n",
    "print(f\"{my_number2=}\") # my_number2=20\n",
    "print(f\"{my_number3=}\") # my_number3=30"
   ]
  }
 ],
 "metadata": {
  "kernelspec": {
   "display_name": "Python 3 (ipykernel)",
   "language": "python",
   "name": "python3"
  },
  "language_info": {
   "codemirror_mode": {
    "name": "ipython",
    "version": 3
   },
   "file_extension": ".py",
   "mimetype": "text/x-python",
   "name": "python",
   "nbconvert_exporter": "python",
   "pygments_lexer": "ipython3",
   "version": "3.9.13"
  }
 },
 "nbformat": 4,
 "nbformat_minor": 5
}
