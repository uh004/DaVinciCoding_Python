{
 "cells": [
  {
   "cell_type": "markdown",
   "id": "96188a4a",
   "metadata": {},
   "source": [
    "### 문자열을 만들 때 가장 전통적으로 많이 사용되었던 방법이 % 기호를 사용하는 것입니다. 앞에서 % 는 나눗셈의 나머지를 뜻한다고 했는데 숫자가 아닌 문자열에서는 문자열의 포멧을 만들어 줄 때 사용합니다."
   ]
  },
  {
   "cell_type": "code",
   "execution_count": 3,
   "id": "bf4b115d",
   "metadata": {},
   "outputs": [
    {
     "name": "stdout",
     "output_type": "stream",
     "text": [
      "다빈치이는 2010년생으로 올해 14살 입니다.         \n",
      "다빈치이의 키는 158.300000이고, 취미는 영화 감상입니다.\n"
     ]
    }
   ],
   "source": [
    "name = \"다빈치\"\n",
    "birth_year = 2010\n",
    "this_year = 2023\n",
    "height = 158.3\n",
    "hobby = \"영화 감상\"\n",
    "my_str2= \"%s이는 %s년생으로 올해 %d살 입니다. \\\n",
    "        \\n%s이의 키는 %f이고, 취미는 %s입니다.\"\n",
    "\n",
    "print(my_str2 % (name, birth_year, \\\n",
    "    (this_year - birth_year + 1), name, height, hobby))\n",
    "\n",
    "# 다빈치이는 2010년생으로 올해 14살 입니다. \n",
    "# 다빈치이의 키는 158.300000이고, 취미는 영화 감상입니다."
   ]
  },
  {
   "cell_type": "markdown",
   "id": "17dcd539",
   "metadata": {},
   "source": [
    "### 중간에 있는 \\ 기호는 줄이 너무 길어 한 줄 띠어 쓸 때 사용합니다. 문자열에 % 문자가 들어가 있으면 그 자리에 구멍을 뚫어 놓았다고 생각하면 됩니다. 그 자리가 뒤쪽에 있는 변수를 해당 문자를 바꿔주는 역할을 합니다. 먼저 % 문자에 대한 뜻을 알아보겠습니다."
   ]
  },
  {
   "cell_type": "code",
   "execution_count": 4,
   "id": "07ac7e4f",
   "metadata": {},
   "outputs": [
    {
     "name": "stdout",
     "output_type": "stream",
     "text": [
      "다빈치가 120살까지 산다면 14살은 인생의 11.67%입니다.\n"
     ]
    }
   ],
   "source": [
    "my_str3 = \"%s가 120살까지 산다면 %d살은 인생의 %.2f%%입니다.\"\n",
    "age = this_year - birth_year + 1 # 2023 - 2010 + 1 = 14\n",
    "print(my_str3 % (name, age, age / 120 * 100))\n",
    "# 다빈치가 120살까지 산다면 14살은 인생의 10.83%입니다."
   ]
  },
  {
   "cell_type": "code",
   "execution_count": null,
   "id": "f17ab1f7",
   "metadata": {},
   "outputs": [],
   "source": []
  },
  {
   "cell_type": "code",
   "execution_count": null,
   "id": "860486eb",
   "metadata": {},
   "outputs": [],
   "source": []
  },
  {
   "cell_type": "code",
   "execution_count": null,
   "id": "82e2894c",
   "metadata": {},
   "outputs": [],
   "source": []
  },
  {
   "cell_type": "code",
   "execution_count": null,
   "id": "7f318cd4",
   "metadata": {},
   "outputs": [],
   "source": []
  },
  {
   "cell_type": "code",
   "execution_count": null,
   "id": "e6b9354c",
   "metadata": {},
   "outputs": [],
   "source": []
  },
  {
   "cell_type": "code",
   "execution_count": null,
   "id": "ece6cb7c",
   "metadata": {},
   "outputs": [],
   "source": []
  },
  {
   "cell_type": "code",
   "execution_count": null,
   "id": "26a81297",
   "metadata": {},
   "outputs": [],
   "source": []
  },
  {
   "cell_type": "code",
   "execution_count": null,
   "id": "1d41f8a5",
   "metadata": {},
   "outputs": [],
   "source": []
  },
  {
   "cell_type": "code",
   "execution_count": null,
   "id": "807eb92c",
   "metadata": {},
   "outputs": [],
   "source": []
  }
 ],
 "metadata": {
  "kernelspec": {
   "display_name": "Python 3 (ipykernel)",
   "language": "python",
   "name": "python3"
  },
  "language_info": {
   "codemirror_mode": {
    "name": "ipython",
    "version": 3
   },
   "file_extension": ".py",
   "mimetype": "text/x-python",
   "name": "python",
   "nbconvert_exporter": "python",
   "pygments_lexer": "ipython3",
   "version": "3.9.13"
  }
 },
 "nbformat": 4,
 "nbformat_minor": 5
}
