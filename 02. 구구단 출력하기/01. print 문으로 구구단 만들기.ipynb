{
 "cells": [
  {
   "cell_type": "markdown",
   "id": "dd581b11",
   "metadata": {},
   "source": [
    "# print문으로 구구단 출력하기"
   ]
  },
  {
   "cell_type": "code",
   "execution_count": 1,
   "id": "16bfe3ab",
   "metadata": {},
   "outputs": [
    {
     "name": "stdout",
     "output_type": "stream",
     "text": [
      "2 X 1 = 2\n",
      "2 X 2 = 4\n",
      "2 X 3 = 6\n",
      "2 X 4 = 8\n",
      "2 X 5 = 10\n",
      "2 X 6 = 12\n",
      "2 X 7 = 14\n",
      "2 X 8 = 16\n",
      "2 X 9 = 18\n"
     ]
    }
   ],
   "source": [
    "print(\"2 X 1 = 2\")\n",
    "print(\"2 X 2 = 4\")\n",
    "print(\"2 X 3 = 6\")\n",
    "print(\"2 X 4 = 8\")\n",
    "print(\"2 X 5 = 10\")\n",
    "print(\"2 X 6 = 12\")\n",
    "print(\"2 X 7 = 14\")\n",
    "print(\"2 X 8 = 16\")\n",
    "print(\"2 X 9 = 18\")"
   ]
  }
 ],
 "metadata": {
  "kernelspec": {
   "display_name": "Python 3 (ipykernel)",
   "language": "python",
   "name": "python3"
  },
  "language_info": {
   "codemirror_mode": {
    "name": "ipython",
    "version": 3
   },
   "file_extension": ".py",
   "mimetype": "text/x-python",
   "name": "python",
   "nbconvert_exporter": "python",
   "pygments_lexer": "ipython3",
   "version": "3.9.13"
  }
 },
 "nbformat": 4,
 "nbformat_minor": 5
}
