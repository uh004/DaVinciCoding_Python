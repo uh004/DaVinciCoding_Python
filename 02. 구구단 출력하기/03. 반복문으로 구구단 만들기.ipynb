{
 "cells": [
  {
   "cell_type": "markdown",
   "id": "e7cd9707",
   "metadata": {},
   "source": [
    "# 조건에 의한 반복\n",
    "- 횟수로 반복하는 것은 for 문, 조건으로 반복하는 것은 while 문이라고 합니다."
   ]
  },
  {
   "cell_type": "code",
   "execution_count": 3,
   "id": "df5225c4",
   "metadata": {},
   "outputs": [
    {
     "name": "stdout",
     "output_type": "stream",
     "text": [
      "2 * 1 = 2\n",
      "2 * 2 = 4\n",
      "2 * 3 = 6\n",
      "2 * 4 = 8\n",
      "2 * 5 = 10\n",
      "2 * 6 = 12\n",
      "2 * 7 = 14\n",
      "2 * 8 = 16\n",
      "2 * 9 = 18\n"
     ]
    }
   ],
   "source": [
    "num = 2\n",
    "idx = 1\n",
    "for _ in range(9):\n",
    "    print(num, \"*\", idx, \"=\", num * idx)\n",
    "    idx += 1"
   ]
  },
  {
   "cell_type": "markdown",
   "id": "e1bfe8ac",
   "metadata": {},
   "source": [
    "# 구구단 완성하기"
   ]
  },
  {
   "cell_type": "code",
   "execution_count": 4,
   "id": "6e4781a2",
   "metadata": {},
   "outputs": [
    {
     "name": "stdout",
     "output_type": "stream",
     "text": [
      "2 * 1 = 2\n",
      "2 * 2 = 4\n",
      "2 * 3 = 6\n",
      "2 * 4 = 8\n",
      "2 * 5 = 10\n",
      "2 * 6 = 12\n",
      "2 * 7 = 14\n",
      "2 * 8 = 16\n",
      "2 * 9 = 18\n"
     ]
    }
   ],
   "source": [
    "num = 2\n",
    "for i in range(1, 9+1):\n",
    "    print(num, \"*\", i, \"=\", num * i)\n"
   ]
  },
  {
   "cell_type": "code",
   "execution_count": 5,
   "id": "12a4c7fd",
   "metadata": {},
   "outputs": [
    {
     "name": "stdout",
     "output_type": "stream",
     "text": [
      "거꾸로 출력되는 구구단\n",
      "2 * 9 = 18\n",
      "2 * 8 = 16\n",
      "2 * 7 = 14\n",
      "2 * 6 = 12\n",
      "2 * 5 = 10\n",
      "2 * 4 = 8\n",
      "2 * 3 = 6\n",
      "2 * 2 = 4\n",
      "2 * 1 = 2\n",
      "\n",
      "짝수만 출력되는 구구단\n",
      "2 * 2 = 4\n",
      "2 * 4 = 8\n",
      "2 * 6 = 12\n",
      "2 * 8 = 16\n"
     ]
    }
   ],
   "source": [
    "num = 2\n",
    "print(\"거꾸로 출력되는 구구단\")\n",
    "for i in range(9, 0, -1):\n",
    "    print(num, \"*\", i, \"=\", num * i)\n",
    "    \n",
    "print()\n",
    "\n",
    "print(\"짝수만 출력되는 구구단\")\n",
    "for i in range(2, 9 + 1, 2):\n",
    "    print(num, \"*\", i, \"=\", num * i)\n"
   ]
  }
 ],
 "metadata": {
  "kernelspec": {
   "display_name": "Python 3 (ipykernel)",
   "language": "python",
   "name": "python3"
  },
  "language_info": {
   "codemirror_mode": {
    "name": "ipython",
    "version": 3
   },
   "file_extension": ".py",
   "mimetype": "text/x-python",
   "name": "python",
   "nbconvert_exporter": "python",
   "pygments_lexer": "ipython3",
   "version": "3.9.13"
  }
 },
 "nbformat": 4,
 "nbformat_minor": 5
}
