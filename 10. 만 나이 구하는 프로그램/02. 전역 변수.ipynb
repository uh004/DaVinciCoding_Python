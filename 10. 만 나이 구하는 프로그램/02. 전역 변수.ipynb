{
 "cells": [
  {
   "cell_type": "markdown",
   "id": "53cbc706",
   "metadata": {},
   "source": [
    "# 전역변수\n",
    "-  전체영역에서 공통으로 사용하는 변수를 뜻합니다."
   ]
  },
  {
   "cell_type": "code",
   "execution_count": 1,
   "id": "17270a76",
   "metadata": {},
   "outputs": [
    {
     "name": "stdout",
     "output_type": "stream",
     "text": [
      "201203301500\n",
      "201203301500\n"
     ]
    }
   ],
   "source": [
    "birthday = '20120330'\n",
    "\n",
    "def get_birthday():\n",
    "    global birthday\n",
    "    birthday += '1500' \n",
    "    print(birthday) # 201203301500\n",
    "\n",
    "get_birthday() \n",
    "print(birthday) # 201203301500\n",
    "# 전역변수는 왠만하면 사용하지 않는 것이 좋습니다."
   ]
  },
  {
   "cell_type": "code",
   "execution_count": 2,
   "id": "7649bce2",
   "metadata": {},
   "outputs": [
    {
     "name": "stdout",
     "output_type": "stream",
     "text": [
      "['201203301500', '20091022']\n",
      "['201203301500', '20091022']\n"
     ]
    }
   ],
   "source": [
    "# 함수밖의 리스트 바라보기\n",
    "birthday = ['20120330', '20091022']\n",
    "\n",
    "def get_birthday():\n",
    "    birthday[0] += '1500' \n",
    "    print(birthday) # ['201203301500', '20091022']\n",
    "\n",
    "get_birthday() \n",
    "print(birthday) # ['201203301500', '20091022']"
   ]
  },
  {
   "cell_type": "code",
   "execution_count": null,
   "id": "3509defa",
   "metadata": {},
   "outputs": [],
   "source": [
    "# global도 없기 때문에 전역변수 선언을 하지 않았습니다. \n",
    "# 자신만만하게 에러가 발생할 것이라 생각했지만 실제로 동작시켜보면 \n",
    "# 정상적으로 동작함을 알 수 있습니다.\n",
    "# 이처럼 리스트, 딕셔너리, 집합같은 가변 객체는 함수밖에서도 얼마든지 \n",
    "# 수정이 가능함을 알 수 있습니다."
   ]
  }
 ],
 "metadata": {
  "kernelspec": {
   "display_name": "Python 3 (ipykernel)",
   "language": "python",
   "name": "python3"
  },
  "language_info": {
   "codemirror_mode": {
    "name": "ipython",
    "version": 3
   },
   "file_extension": ".py",
   "mimetype": "text/x-python",
   "name": "python",
   "nbconvert_exporter": "python",
   "pygments_lexer": "ipython3",
   "version": "3.9.13"
  }
 },
 "nbformat": 4,
 "nbformat_minor": 5
}
