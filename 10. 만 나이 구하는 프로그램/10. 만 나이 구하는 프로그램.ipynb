{
 "cells": [
  {
   "cell_type": "markdown",
   "id": "7dfccc74",
   "metadata": {},
   "source": [
    "# 나이의 계산 방법\n",
    "1. 우리나라 나이\n",
    "2. 태어나면 1살\n",
    "3. 년도가 바뀌면 나이 먹음\n",
    "4. 만 나이\n",
    "5. 태어나면 0살\n",
    "6. 다음년도 생일에 나이 먹음"
   ]
  },
  {
   "cell_type": "code",
   "execution_count": 1,
   "id": "30e56ddd",
   "metadata": {},
   "outputs": [
    {
     "name": "stdout",
     "output_type": "stream",
     "text": [
      "12\n"
     ]
    }
   ],
   "source": [
    "my_age = 12\n",
    "\n",
    "def get_american_age(birthday, thatday):\n",
    "    this_year, today = int(thatday[:4]), thatday[4:]\n",
    "    birth_year, birth_day = int(birthday[:4]), birthday[4:]\n",
    "    # 올해 년도에서 출생년도를 뺀다.\n",
    "    my_age = this_year - birth_year\n",
    "\n",
    "    # 오늘이 생일을 안지났으면 1살 빼준다.\n",
    "    if today < birth_day:\n",
    "        my_age -= 1\n",
    "\n",
    "get_american_age('20120330', '20230521')\n",
    "print(my_age) # 12"
   ]
  },
  {
   "cell_type": "code",
   "execution_count": 2,
   "id": "a9d64a36",
   "metadata": {},
   "outputs": [],
   "source": [
    "birthday = '20120330' # 레오의 생일\n",
    "birth_yaer = birthday[:4] # 슬라이싱으로 문자 2012를 얻어 저장\n",
    "birth_yaer = int(birth_yaer) # 문자 2012를 숫자 2012로 변경\n",
    "birth_day = birthday[4:] # 슬라이싱으로 문자 0330을 얻어 birth_day에 저장\n",
    "\n",
    "# 위의 세줄을 튜플을 이용해 한줄로 표현 \n",
    "birth_year, birth_day = int(birthday[:4]), birthday[4:]"
   ]
  },
  {
   "cell_type": "code",
   "execution_count": 3,
   "id": "52305122",
   "metadata": {},
   "outputs": [
    {
     "name": "stdout",
     "output_type": "stream",
     "text": [
      "함수 내에서의 만 나이 : 11\n",
      "함수 밖에서의 나이 : 12\n"
     ]
    }
   ],
   "source": [
    "my_age = 12\n",
    "\n",
    "def get_american_age(birthday, thatday):\n",
    "    this_year, today = int(thatday[:4]), thatday[4:]\n",
    "    birth_year, birth_day = int(birthday[:4]), birthday[4:]\n",
    "    my_age = this_year - birth_year\n",
    "\n",
    "    if today < birth_day:\n",
    "        my_age -= 1\n",
    "\n",
    "    print(\"함수 내에서의 만 나이 :\", my_age) # 함수 내에서의 만 나이 : 11\n",
    "\n",
    "get_american_age('20120330', '20230521')\n",
    "print(\"함수 밖에서의 나이 :\", my_age) # 함수 밖에서의 나이 : 12"
   ]
  }
 ],
 "metadata": {
  "kernelspec": {
   "display_name": "Python 3 (ipykernel)",
   "language": "python",
   "name": "python3"
  },
  "language_info": {
   "codemirror_mode": {
    "name": "ipython",
    "version": 3
   },
   "file_extension": ".py",
   "mimetype": "text/x-python",
   "name": "python",
   "nbconvert_exporter": "python",
   "pygments_lexer": "ipython3",
   "version": "3.9.13"
  }
 },
 "nbformat": 4,
 "nbformat_minor": 5
}
