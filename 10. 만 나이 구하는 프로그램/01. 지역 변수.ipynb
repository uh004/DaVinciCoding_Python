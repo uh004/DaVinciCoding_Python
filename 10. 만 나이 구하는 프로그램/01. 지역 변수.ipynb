{
 "cells": [
  {
   "cell_type": "markdown",
   "id": "486e36f2",
   "metadata": {},
   "source": [
    "# 지역변수\n",
    "- 함수 내에서만 사용하는 변수를 우리는 지역변수라고 부릅니다."
   ]
  },
  {
   "cell_type": "code",
   "execution_count": 1,
   "id": "e762e0c6",
   "metadata": {},
   "outputs": [
    {
     "name": "stdout",
     "output_type": "stream",
     "text": [
      "함수 내에서의 만 나이 : 11\n",
      "함수 밖에서의 나이 : 11\n"
     ]
    }
   ],
   "source": [
    "# 앞에서 만든 my_age는 함수 밖과 함수 안에 이름은 같지만 전혀 다른 변수라 할 수 있습니다.\n",
    "my_age = 12\n",
    "\n",
    "def get_american_age(birthday, thatday):\n",
    "    this_year, today = int(thatday[:4]), thatday[4:]\n",
    "    birth_year, birth_day = int(birthday[:4]), birthday[4:]\n",
    "    my_age = this_year - birth_year\n",
    "\n",
    "    if today < birth_day:\n",
    "        my_age -= 1\n",
    "    print(\"함수 내에서의 만 나이 :\", my_age) # 함수 내에서의 만 나이 : 11\n",
    "    return my_age\n",
    "\n",
    "my_age = get_american_age('20120330', '20230521')\n",
    "print(\"함수 밖에서의 나이 :\", my_age) # 함수 밖에서의 나이 : 11"
   ]
  },
  {
   "cell_type": "code",
   "execution_count": 2,
   "id": "baa0d8d5",
   "metadata": {},
   "outputs": [
    {
     "name": "stdout",
     "output_type": "stream",
     "text": [
      "함수 내에서의 만 나이 : 11\n",
      "함수 밖에서의 나이 : 11\n"
     ]
    }
   ],
   "source": [
    "# 함수밖의 변수(문자열, 숫자) 바라보기\n",
    "my_age = 12\n",
    "birthday = '20120330'\n",
    "\n",
    "def get_american_age(thatday):\n",
    "    this_year, today = int(thatday[:4]), thatday[4:]\n",
    "    birth_year, birth_day = int(birthday[:4]), birthday[4:]\n",
    "    my_age = this_year - birth_year\n",
    "\n",
    "    if today < birth_day:\n",
    "        my_age -= 1\n",
    "    print(\"함수 내에서의 만 나이 :\", my_age) # 함수 내에서의 만 나이 : 11\n",
    "    return my_age\n",
    "\n",
    "my_age = get_american_age('20230521')\n",
    "print(\"함수 밖에서의 나이 :\", my_age) # 함수 밖에서의 나이 : 11"
   ]
  },
  {
   "cell_type": "code",
   "execution_count": 4,
   "id": "eda2ae78",
   "metadata": {},
   "outputs": [
    {
     "name": "stdout",
     "output_type": "stream",
     "text": [
      "201203301530\n",
      "20120330\n"
     ]
    }
   ],
   "source": [
    "birthday = '20120330'\n",
    "\n",
    "def get_birthday():\n",
    "    birthday = '201203301530' # 함수내에서 사용할 변수 새로 생성\n",
    "    print(birthday)\n",
    "\n",
    "get_birthday() # ‘201203301530'\n",
    "print(birthday) # '20120330'"
   ]
  }
 ],
 "metadata": {
  "kernelspec": {
   "display_name": "Python 3 (ipykernel)",
   "language": "python",
   "name": "python3"
  },
  "language_info": {
   "codemirror_mode": {
    "name": "ipython",
    "version": 3
   },
   "file_extension": ".py",
   "mimetype": "text/x-python",
   "name": "python",
   "nbconvert_exporter": "python",
   "pygments_lexer": "ipython3",
   "version": "3.9.13"
  }
 },
 "nbformat": 4,
 "nbformat_minor": 5
}
